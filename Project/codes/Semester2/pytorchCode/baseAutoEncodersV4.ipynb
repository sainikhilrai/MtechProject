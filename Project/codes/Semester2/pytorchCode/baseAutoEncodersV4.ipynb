{
 "cells": [
  {
   "cell_type": "code",
   "execution_count": 1,
   "metadata": {},
   "outputs": [],
   "source": [
    "import numpy as np\n",
    "import pandas as pd\n",
    "import torch \n",
    "import torch.nn as nn\n",
    "import torch.nn.functional as F\n",
    "import torch.optim as optim\n",
    "from sklearn.preprocessing import MinMaxScaler\n",
    "from sklearn.model_selection import train_test_split"
   ]
  },
  {
   "cell_type": "code",
   "execution_count": 2,
   "metadata": {},
   "outputs": [
    {
     "name": "stdout",
     "output_type": "stream",
     "text": [
      "<class 'numpy.int64'>\n"
     ]
    }
   ],
   "source": [
    "#read the input\n",
    "carDf= pd.read_csv('newCardata.csv')\n",
    "carDate= pd.read_csv('dataWithDate.csv')\n",
    "carLable= carDate['FraudFound']\n",
    "\n",
    "#drop the Accident Date and Claim Date\n",
    "carDate.drop(['FraudFound'],inplace=True,axis=1)\n",
    "carDate.drop(['AccidentDate'],inplace=True,axis=1)\n",
    "carDate.drop(['ClaimDate'],inplace=True,axis=1)\n",
    "\n",
    "carDate.head()\n",
    "\n",
    "print(type(carLable[0]))"
   ]
  },
  {
   "cell_type": "code",
   "execution_count": 3,
   "metadata": {},
   "outputs": [
    {
     "data": {
      "text/html": [
       "<div>\n",
       "<style scoped>\n",
       "    .dataframe tbody tr th:only-of-type {\n",
       "        vertical-align: middle;\n",
       "    }\n",
       "\n",
       "    .dataframe tbody tr th {\n",
       "        vertical-align: top;\n",
       "    }\n",
       "\n",
       "    .dataframe thead th {\n",
       "        text-align: right;\n",
       "    }\n",
       "</style>\n",
       "<table border=\"1\" class=\"dataframe\">\n",
       "  <thead>\n",
       "    <tr style=\"text-align: right;\">\n",
       "      <th></th>\n",
       "      <th>RepNumber</th>\n",
       "      <th>Deductible</th>\n",
       "      <th>DriverRating</th>\n",
       "      <th>DayDiff</th>\n",
       "    </tr>\n",
       "  </thead>\n",
       "  <tbody>\n",
       "    <tr>\n",
       "      <th>0</th>\n",
       "      <td>12</td>\n",
       "      <td>300</td>\n",
       "      <td>1</td>\n",
       "      <td>0</td>\n",
       "    </tr>\n",
       "    <tr>\n",
       "      <th>1</th>\n",
       "      <td>15</td>\n",
       "      <td>400</td>\n",
       "      <td>4</td>\n",
       "      <td>5</td>\n",
       "    </tr>\n",
       "    <tr>\n",
       "      <th>2</th>\n",
       "      <td>7</td>\n",
       "      <td>400</td>\n",
       "      <td>3</td>\n",
       "      <td>13</td>\n",
       "    </tr>\n",
       "    <tr>\n",
       "      <th>3</th>\n",
       "      <td>4</td>\n",
       "      <td>400</td>\n",
       "      <td>2</td>\n",
       "      <td>20</td>\n",
       "    </tr>\n",
       "    <tr>\n",
       "      <th>4</th>\n",
       "      <td>3</td>\n",
       "      <td>400</td>\n",
       "      <td>1</td>\n",
       "      <td>15</td>\n",
       "    </tr>\n",
       "  </tbody>\n",
       "</table>\n",
       "</div>"
      ],
      "text/plain": [
       "   RepNumber  Deductible  DriverRating  DayDiff\n",
       "0         12         300             1        0\n",
       "1         15         400             4        5\n",
       "2          7         400             3       13\n",
       "3          4         400             2       20\n",
       "4          3         400             1       15"
      ]
     },
     "execution_count": 3,
     "metadata": {},
     "output_type": "execute_result"
    }
   ],
   "source": [
    "\n",
    "#select all the attributes of type object\n",
    "car_object= carDate.select_dtypes(include=['object']).copy()\n",
    "\n",
    "#drop the attributes of type object\n",
    "carDate.drop(carDate.select_dtypes(['object']),inplace=True,axis=1)\n",
    "\n",
    "carDate.head()\n",
    "#print(type(carDate))"
   ]
  },
  {
   "cell_type": "code",
   "execution_count": 4,
   "metadata": {},
   "outputs": [
    {
     "name": "stdout",
     "output_type": "stream",
     "text": [
      "<class 'pandas.core.frame.DataFrame'>\n"
     ]
    }
   ],
   "source": [
    "#one-hot representation preprocessing\n",
    "\n",
    "car_copy = car_object.copy()\n",
    "car_copy = pd.get_dummies(car_copy,columns=['Make'],prefix=['Make'])\n",
    "car_copy = pd.get_dummies(car_copy,columns=['AccidentArea'],prefix=['AccidentArea'])\n",
    "car_copy = pd.get_dummies(car_copy,columns=['Sex'],prefix=['Sex'])\n",
    "car_copy = pd.get_dummies(car_copy,columns=['MaritalStatus'],prefix=['MartalStatus'])\n",
    "car_copy = pd.get_dummies(car_copy,columns=['Fault'],prefix=['Fault'])\n",
    "car_copy = pd.get_dummies(car_copy,columns=['PolicyType'],prefix=['PolicyType'])\n",
    "car_copy = pd.get_dummies(car_copy,columns=['VehiclePrice'],prefix=['VehiclePrice'])\n",
    "car_copy = pd.get_dummies(car_copy,columns=['Days:Policy-Accident'],prefix=['Days:Policy-Accident'])\n",
    "car_copy = pd.get_dummies(car_copy,columns=['Days:Policy-Claim'],prefix=['Days:Policy-Claim'])\n",
    "car_copy = pd.get_dummies(car_copy,columns=['PastNumberOfClaims'],prefix=['PastNumberOfClaims'])\n",
    "car_copy = pd.get_dummies(car_copy,columns=['AgeOfVehicle'],prefix=['AgeOfVehicle'])\n",
    "car_copy = pd.get_dummies(car_copy,columns=['AgeOfPolicyHolder'],prefix=['AgeOfPolicyHolder'])\n",
    "car_copy = pd.get_dummies(car_copy,columns=['PoliceReportFiled'],prefix=['PoliceReportFiled'])\n",
    "car_copy = pd.get_dummies(car_copy,columns=['WitnessPresent'],prefix=['WitnessPresent'])\n",
    "car_copy = pd.get_dummies(car_copy,columns=['AgentType'],prefix=['AgentType'])\n",
    "car_copy = pd.get_dummies(car_copy,columns=['NumberOfSuppliments'],prefix=['NumberOfSuppliments'])\n",
    "car_copy = pd.get_dummies(car_copy,columns=['AddressChange-Claim'],prefix=['AddressChange-Claim'])\n",
    "car_copy = pd.get_dummies(car_copy,columns=['NumberOfCars'],prefix=['NumberOfCars'])\n",
    "\n",
    "car_copy.head()\n",
    "print(type(car_copy))"
   ]
  },
  {
   "cell_type": "code",
   "execution_count": 5,
   "metadata": {},
   "outputs": [
    {
     "data": {
      "text/html": [
       "<div>\n",
       "<style scoped>\n",
       "    .dataframe tbody tr th:only-of-type {\n",
       "        vertical-align: middle;\n",
       "    }\n",
       "\n",
       "    .dataframe tbody tr th {\n",
       "        vertical-align: top;\n",
       "    }\n",
       "\n",
       "    .dataframe thead th {\n",
       "        text-align: right;\n",
       "    }\n",
       "</style>\n",
       "<table border=\"1\" class=\"dataframe\">\n",
       "  <thead>\n",
       "    <tr style=\"text-align: right;\">\n",
       "      <th></th>\n",
       "      <th>Make_Accura</th>\n",
       "      <th>Make_BMW</th>\n",
       "      <th>Make_Chevrolet</th>\n",
       "      <th>Make_Dodge</th>\n",
       "      <th>Make_Ferrari</th>\n",
       "      <th>Make_Ford</th>\n",
       "      <th>Make_Honda</th>\n",
       "      <th>Make_Jaguar</th>\n",
       "      <th>Make_Lexus</th>\n",
       "      <th>Make_Mazda</th>\n",
       "      <th>...</th>\n",
       "      <th>AddressChange-Claim_under 6 months</th>\n",
       "      <th>NumberOfCars_1 vehicle</th>\n",
       "      <th>NumberOfCars_2 vehicles</th>\n",
       "      <th>NumberOfCars_3 to 4</th>\n",
       "      <th>NumberOfCars_5 to 8</th>\n",
       "      <th>NumberOfCars_more than 8</th>\n",
       "      <th>RepNumber</th>\n",
       "      <th>Deductible</th>\n",
       "      <th>DriverRating</th>\n",
       "      <th>DayDiff</th>\n",
       "    </tr>\n",
       "  </thead>\n",
       "  <tbody>\n",
       "    <tr>\n",
       "      <th>0</th>\n",
       "      <td>0</td>\n",
       "      <td>0</td>\n",
       "      <td>0</td>\n",
       "      <td>0</td>\n",
       "      <td>0</td>\n",
       "      <td>0</td>\n",
       "      <td>1</td>\n",
       "      <td>0</td>\n",
       "      <td>0</td>\n",
       "      <td>0</td>\n",
       "      <td>...</td>\n",
       "      <td>0</td>\n",
       "      <td>0</td>\n",
       "      <td>0</td>\n",
       "      <td>1</td>\n",
       "      <td>0</td>\n",
       "      <td>0</td>\n",
       "      <td>12</td>\n",
       "      <td>300</td>\n",
       "      <td>1</td>\n",
       "      <td>0</td>\n",
       "    </tr>\n",
       "    <tr>\n",
       "      <th>1</th>\n",
       "      <td>0</td>\n",
       "      <td>0</td>\n",
       "      <td>0</td>\n",
       "      <td>0</td>\n",
       "      <td>0</td>\n",
       "      <td>0</td>\n",
       "      <td>1</td>\n",
       "      <td>0</td>\n",
       "      <td>0</td>\n",
       "      <td>0</td>\n",
       "      <td>...</td>\n",
       "      <td>0</td>\n",
       "      <td>1</td>\n",
       "      <td>0</td>\n",
       "      <td>0</td>\n",
       "      <td>0</td>\n",
       "      <td>0</td>\n",
       "      <td>15</td>\n",
       "      <td>400</td>\n",
       "      <td>4</td>\n",
       "      <td>5</td>\n",
       "    </tr>\n",
       "    <tr>\n",
       "      <th>2</th>\n",
       "      <td>0</td>\n",
       "      <td>0</td>\n",
       "      <td>0</td>\n",
       "      <td>0</td>\n",
       "      <td>0</td>\n",
       "      <td>0</td>\n",
       "      <td>1</td>\n",
       "      <td>0</td>\n",
       "      <td>0</td>\n",
       "      <td>0</td>\n",
       "      <td>...</td>\n",
       "      <td>0</td>\n",
       "      <td>1</td>\n",
       "      <td>0</td>\n",
       "      <td>0</td>\n",
       "      <td>0</td>\n",
       "      <td>0</td>\n",
       "      <td>7</td>\n",
       "      <td>400</td>\n",
       "      <td>3</td>\n",
       "      <td>13</td>\n",
       "    </tr>\n",
       "  </tbody>\n",
       "</table>\n",
       "<p>3 rows × 97 columns</p>\n",
       "</div>"
      ],
      "text/plain": [
       "   Make_Accura  Make_BMW  Make_Chevrolet  Make_Dodge  Make_Ferrari  Make_Ford  \\\n",
       "0            0         0               0           0             0          0   \n",
       "1            0         0               0           0             0          0   \n",
       "2            0         0               0           0             0          0   \n",
       "\n",
       "   Make_Honda  Make_Jaguar  Make_Lexus  Make_Mazda   ...     \\\n",
       "0           1            0           0           0   ...      \n",
       "1           1            0           0           0   ...      \n",
       "2           1            0           0           0   ...      \n",
       "\n",
       "   AddressChange-Claim_under 6 months  NumberOfCars_1 vehicle  \\\n",
       "0                                   0                       0   \n",
       "1                                   0                       1   \n",
       "2                                   0                       1   \n",
       "\n",
       "   NumberOfCars_2 vehicles  NumberOfCars_3 to 4  NumberOfCars_5 to 8  \\\n",
       "0                        0                    1                    0   \n",
       "1                        0                    0                    0   \n",
       "2                        0                    0                    0   \n",
       "\n",
       "   NumberOfCars_more than 8  RepNumber  Deductible  DriverRating  DayDiff  \n",
       "0                         0         12         300             1        0  \n",
       "1                         0         15         400             4        5  \n",
       "2                         0          7         400             3       13  \n",
       "\n",
       "[3 rows x 97 columns]"
      ]
     },
     "execution_count": 5,
     "metadata": {},
     "output_type": "execute_result"
    }
   ],
   "source": [
    "car_copy['RepNumber']= carDate['RepNumber']\n",
    "car_copy['Deductible']= carDate['Deductible']\n",
    "car_copy['DriverRating']= carDate['DriverRating']\n",
    "car_copy['DayDiff']= carDate['DayDiff']\n",
    "\n",
    "car_copy.head(3)\n"
   ]
  },
  {
   "cell_type": "code",
   "execution_count": 6,
   "metadata": {},
   "outputs": [
    {
     "name": "stdout",
     "output_type": "stream",
     "text": [
      "<class 'pandas.core.frame.DataFrame'>\n",
      "0.0\n"
     ]
    },
    {
     "name": "stderr",
     "output_type": "stream",
     "text": [
      "/usr/local/anaconda35/lib/python3.6/site-packages/sklearn/preprocessing/data.py:323: DataConversionWarning: Data with input dtype uint8, int64 were all converted to float64 by MinMaxScaler.\n",
      "  return self.partial_fit(X, y)\n"
     ]
    }
   ],
   "source": [
    "#normalization of feature to bring the value in the range [0,1]\n",
    "minMaxScale = MinMaxScaler()\n",
    "carDateNormalized = minMaxScale.fit_transform(car_copy)\n",
    "#print(car_df_Scale)\n",
    "\n",
    "#converting numpyarry to dataframe\n",
    "carDateNormalized = pd.DataFrame(carDateNormalized)\n",
    "carDateNormalized.head(3)\n",
    "print(type(carDateNormalized))\n",
    "print(carDateNormalized.iloc[0,96])"
   ]
  },
  {
   "cell_type": "code",
   "execution_count": 7,
   "metadata": {},
   "outputs": [],
   "source": [
    "#Divide the data into fraudulent and non-fraudulent data\n",
    "columnlable= list(carDateNormalized.columns.values)\n",
    "\n",
    "#create the dataframe for fraudulent and non-fraudulent data\n",
    "nonFraudulent= pd.DataFrame(columns=columnlable)\n",
    "nonFraudulentLable= pd.DataFrame(columns=['lable'])\n",
    "\n",
    "fraudulent= pd.DataFrame(columns=columnlable)\n",
    "fraudulentLable= pd.DataFrame(columns=['lable'])\n",
    "\n",
    "\n",
    "j= 0\n",
    "k= 0\n",
    "for i in range(carDateNormalized.shape[0]):\n",
    "    if(carLable[i]==0):\n",
    "        nonFraudulent.loc[j]= carDateNormalized.loc[i]\n",
    "        nonFraudulentLable.loc[j]= 0.0\n",
    "        j += 1\n",
    "    else:\n",
    "        fraudulent.loc[k]= carDateNormalized.loc[i]\n",
    "        fraudulentLable.loc[i]= 1.0\n",
    "        k += 1\n",
    "    "
   ]
  },
  {
   "cell_type": "code",
   "execution_count": 8,
   "metadata": {},
   "outputs": [
    {
     "name": "stdout",
     "output_type": "stream",
     "text": [
      "(14496, 97)\n",
      "(923, 97)\n"
     ]
    },
    {
     "data": {
      "text/html": [
       "<div>\n",
       "<style scoped>\n",
       "    .dataframe tbody tr th:only-of-type {\n",
       "        vertical-align: middle;\n",
       "    }\n",
       "\n",
       "    .dataframe tbody tr th {\n",
       "        vertical-align: top;\n",
       "    }\n",
       "\n",
       "    .dataframe thead th {\n",
       "        text-align: right;\n",
       "    }\n",
       "</style>\n",
       "<table border=\"1\" class=\"dataframe\">\n",
       "  <thead>\n",
       "    <tr style=\"text-align: right;\">\n",
       "      <th></th>\n",
       "      <th>0</th>\n",
       "      <th>1</th>\n",
       "      <th>2</th>\n",
       "      <th>3</th>\n",
       "      <th>4</th>\n",
       "      <th>5</th>\n",
       "      <th>6</th>\n",
       "      <th>7</th>\n",
       "      <th>8</th>\n",
       "      <th>9</th>\n",
       "      <th>...</th>\n",
       "      <th>87</th>\n",
       "      <th>88</th>\n",
       "      <th>89</th>\n",
       "      <th>90</th>\n",
       "      <th>91</th>\n",
       "      <th>92</th>\n",
       "      <th>93</th>\n",
       "      <th>94</th>\n",
       "      <th>95</th>\n",
       "      <th>96</th>\n",
       "    </tr>\n",
       "  </thead>\n",
       "  <tbody>\n",
       "    <tr>\n",
       "      <th>0</th>\n",
       "      <td>0.0</td>\n",
       "      <td>0.0</td>\n",
       "      <td>0.0</td>\n",
       "      <td>0.0</td>\n",
       "      <td>0.0</td>\n",
       "      <td>0.0</td>\n",
       "      <td>1.0</td>\n",
       "      <td>0.0</td>\n",
       "      <td>0.0</td>\n",
       "      <td>0.0</td>\n",
       "      <td>...</td>\n",
       "      <td>0.0</td>\n",
       "      <td>0.0</td>\n",
       "      <td>0.0</td>\n",
       "      <td>1.0</td>\n",
       "      <td>0.0</td>\n",
       "      <td>0.0</td>\n",
       "      <td>0.733333</td>\n",
       "      <td>0.00</td>\n",
       "      <td>0.000000</td>\n",
       "      <td>0.000000</td>\n",
       "    </tr>\n",
       "    <tr>\n",
       "      <th>1</th>\n",
       "      <td>0.0</td>\n",
       "      <td>0.0</td>\n",
       "      <td>0.0</td>\n",
       "      <td>0.0</td>\n",
       "      <td>0.0</td>\n",
       "      <td>0.0</td>\n",
       "      <td>1.0</td>\n",
       "      <td>0.0</td>\n",
       "      <td>0.0</td>\n",
       "      <td>0.0</td>\n",
       "      <td>...</td>\n",
       "      <td>0.0</td>\n",
       "      <td>1.0</td>\n",
       "      <td>0.0</td>\n",
       "      <td>0.0</td>\n",
       "      <td>0.0</td>\n",
       "      <td>0.0</td>\n",
       "      <td>0.933333</td>\n",
       "      <td>0.25</td>\n",
       "      <td>1.000000</td>\n",
       "      <td>0.013587</td>\n",
       "    </tr>\n",
       "    <tr>\n",
       "      <th>2</th>\n",
       "      <td>0.0</td>\n",
       "      <td>0.0</td>\n",
       "      <td>0.0</td>\n",
       "      <td>0.0</td>\n",
       "      <td>0.0</td>\n",
       "      <td>0.0</td>\n",
       "      <td>1.0</td>\n",
       "      <td>0.0</td>\n",
       "      <td>0.0</td>\n",
       "      <td>0.0</td>\n",
       "      <td>...</td>\n",
       "      <td>0.0</td>\n",
       "      <td>1.0</td>\n",
       "      <td>0.0</td>\n",
       "      <td>0.0</td>\n",
       "      <td>0.0</td>\n",
       "      <td>0.0</td>\n",
       "      <td>0.400000</td>\n",
       "      <td>0.25</td>\n",
       "      <td>0.666667</td>\n",
       "      <td>0.035326</td>\n",
       "    </tr>\n",
       "    <tr>\n",
       "      <th>3</th>\n",
       "      <td>0.0</td>\n",
       "      <td>0.0</td>\n",
       "      <td>0.0</td>\n",
       "      <td>0.0</td>\n",
       "      <td>0.0</td>\n",
       "      <td>0.0</td>\n",
       "      <td>0.0</td>\n",
       "      <td>0.0</td>\n",
       "      <td>0.0</td>\n",
       "      <td>0.0</td>\n",
       "      <td>...</td>\n",
       "      <td>0.0</td>\n",
       "      <td>1.0</td>\n",
       "      <td>0.0</td>\n",
       "      <td>0.0</td>\n",
       "      <td>0.0</td>\n",
       "      <td>0.0</td>\n",
       "      <td>0.200000</td>\n",
       "      <td>0.25</td>\n",
       "      <td>0.333333</td>\n",
       "      <td>0.054348</td>\n",
       "    </tr>\n",
       "    <tr>\n",
       "      <th>4</th>\n",
       "      <td>0.0</td>\n",
       "      <td>0.0</td>\n",
       "      <td>0.0</td>\n",
       "      <td>0.0</td>\n",
       "      <td>0.0</td>\n",
       "      <td>0.0</td>\n",
       "      <td>1.0</td>\n",
       "      <td>0.0</td>\n",
       "      <td>0.0</td>\n",
       "      <td>0.0</td>\n",
       "      <td>...</td>\n",
       "      <td>0.0</td>\n",
       "      <td>1.0</td>\n",
       "      <td>0.0</td>\n",
       "      <td>0.0</td>\n",
       "      <td>0.0</td>\n",
       "      <td>0.0</td>\n",
       "      <td>0.133333</td>\n",
       "      <td>0.25</td>\n",
       "      <td>0.000000</td>\n",
       "      <td>0.040761</td>\n",
       "    </tr>\n",
       "  </tbody>\n",
       "</table>\n",
       "<p>5 rows × 97 columns</p>\n",
       "</div>"
      ],
      "text/plain": [
       "    0    1    2    3    4    5    6    7    8    9     ...      87   88   89  \\\n",
       "0  0.0  0.0  0.0  0.0  0.0  0.0  1.0  0.0  0.0  0.0    ...     0.0  0.0  0.0   \n",
       "1  0.0  0.0  0.0  0.0  0.0  0.0  1.0  0.0  0.0  0.0    ...     0.0  1.0  0.0   \n",
       "2  0.0  0.0  0.0  0.0  0.0  0.0  1.0  0.0  0.0  0.0    ...     0.0  1.0  0.0   \n",
       "3  0.0  0.0  0.0  0.0  0.0  0.0  0.0  0.0  0.0  0.0    ...     0.0  1.0  0.0   \n",
       "4  0.0  0.0  0.0  0.0  0.0  0.0  1.0  0.0  0.0  0.0    ...     0.0  1.0  0.0   \n",
       "\n",
       "    90   91   92        93    94        95        96  \n",
       "0  1.0  0.0  0.0  0.733333  0.00  0.000000  0.000000  \n",
       "1  0.0  0.0  0.0  0.933333  0.25  1.000000  0.013587  \n",
       "2  0.0  0.0  0.0  0.400000  0.25  0.666667  0.035326  \n",
       "3  0.0  0.0  0.0  0.200000  0.25  0.333333  0.054348  \n",
       "4  0.0  0.0  0.0  0.133333  0.25  0.000000  0.040761  \n",
       "\n",
       "[5 rows x 97 columns]"
      ]
     },
     "execution_count": 8,
     "metadata": {},
     "output_type": "execute_result"
    }
   ],
   "source": [
    "print(nonFraudulent.shape)\n",
    "print(fraudulent.shape)\n",
    "nonFraudulent.head()"
   ]
  },
  {
   "cell_type": "code",
   "execution_count": 9,
   "metadata": {},
   "outputs": [],
   "source": [
    "col= list(car_copy.columns.values)\n",
    "nonFraudulent.columns= col\n",
    "fraudulent.columns= col"
   ]
  },
  {
   "cell_type": "code",
   "execution_count": 10,
   "metadata": {},
   "outputs": [
    {
     "data": {
      "text/html": [
       "<div>\n",
       "<style scoped>\n",
       "    .dataframe tbody tr th:only-of-type {\n",
       "        vertical-align: middle;\n",
       "    }\n",
       "\n",
       "    .dataframe tbody tr th {\n",
       "        vertical-align: top;\n",
       "    }\n",
       "\n",
       "    .dataframe thead th {\n",
       "        text-align: right;\n",
       "    }\n",
       "</style>\n",
       "<table border=\"1\" class=\"dataframe\">\n",
       "  <thead>\n",
       "    <tr style=\"text-align: right;\">\n",
       "      <th></th>\n",
       "      <th>lable</th>\n",
       "    </tr>\n",
       "  </thead>\n",
       "  <tbody>\n",
       "    <tr>\n",
       "      <th>28</th>\n",
       "      <td>1.0</td>\n",
       "    </tr>\n",
       "    <tr>\n",
       "      <th>52</th>\n",
       "      <td>1.0</td>\n",
       "    </tr>\n",
       "    <tr>\n",
       "      <th>53</th>\n",
       "      <td>1.0</td>\n",
       "    </tr>\n",
       "    <tr>\n",
       "      <th>94</th>\n",
       "      <td>1.0</td>\n",
       "    </tr>\n",
       "    <tr>\n",
       "      <th>96</th>\n",
       "      <td>1.0</td>\n",
       "    </tr>\n",
       "  </tbody>\n",
       "</table>\n",
       "</div>"
      ],
      "text/plain": [
       "    lable\n",
       "28    1.0\n",
       "52    1.0\n",
       "53    1.0\n",
       "94    1.0\n",
       "96    1.0"
      ]
     },
     "execution_count": 10,
     "metadata": {},
     "output_type": "execute_result"
    }
   ],
   "source": [
    "nonFraudulent.head()\n",
    "fraudulentLable.head()"
   ]
  },
  {
   "cell_type": "code",
   "execution_count": 11,
   "metadata": {},
   "outputs": [
    {
     "name": "stdout",
     "output_type": "stream",
     "text": [
      "non-Fraud: 14496\n",
      "Fraud: 923\n"
     ]
    }
   ],
   "source": [
    "#Note that for the train and test split, the lables and data have to be in numpy\n",
    "nonFraudulentCarfeatures= nonFraudulent.values\n",
    "nonFraudulentLable= nonFraudulentLable.values\n",
    "\n",
    "fraudulentCarfeatures= fraudulent.values\n",
    "fraudulentLable= fraudulentLable.values\n",
    "\n",
    "print('non-Fraud: %d' %(nonFraudulentCarfeatures.shape[0]))\n",
    "print('Fraud: %d' %(fraudulentCarfeatures.shape[0]))\n"
   ]
  },
  {
   "cell_type": "code",
   "execution_count": 12,
   "metadata": {},
   "outputs": [],
   "source": [
    "#create the class Dataset which returns the data and labels\n",
    "from torch.utils.data.dataset import Dataset, TensorDataset\n",
    "class myDataset(Dataset):\n",
    "    \n",
    "    def __init__(self,features,lables,transform= None):\n",
    "        dataTensor= []\n",
    "        lableTensor= []\n",
    "        dataSize= features.shape[0]\n",
    "        \n",
    "        for data in range(dataSize):\n",
    "            feature= features[data,:]\n",
    "            #feature= torch.from_numpy(feature).float()\n",
    "            feature= torch.Tensor(feature)\n",
    "            dataTensor.append(feature)\n",
    "            \n",
    "            lable= np.asanyarray(lables[data])\n",
    "            lable= torch.from_numpy(lable).float()\n",
    "           \n",
    "            #lable= torch.Tensor(lable)\n",
    "            #print(\"lable:\",lable)\n",
    "            #assert(False)\n",
    "           \n",
    "            lableTensor.append(lable)\n",
    "        \n",
    "        #put everything in features and lables\n",
    "        self.features= dataTensor\n",
    "        self.lables= lableTensor\n",
    "    \n",
    "    \n",
    "    def __len__(self):\n",
    "        return len(self.features)\n",
    "    \n",
    "    def __getitem__(self,index):\n",
    "        \n",
    "        feature= self.features[index]\n",
    "        lable= self.lables[index]\n",
    "        #print(\"get_item feature:\",feature)\n",
    "        #print(\"get_item lable:\",lable)\n",
    "        return feature,lable"
   ]
  },
  {
   "cell_type": "code",
   "execution_count": 13,
   "metadata": {},
   "outputs": [
    {
     "data": {
      "text/plain": [
       "\"\\nX_train,X_test,y_train,y_test = train_test_split(carArray,labels,random_state=3,test_size=0.25)\\nprint('xtrain:',type(X_train))\\nprint(X_train.shape)\\n\""
      ]
     },
     "execution_count": 13,
     "metadata": {},
     "output_type": "execute_result"
    }
   ],
   "source": [
    "#split the dataset into two part train and test\n",
    "\"\"\"\n",
    "X_train,X_test,y_train,y_test = train_test_split(carArray,labels,random_state=3,test_size=0.25)\n",
    "print('xtrain:',type(X_train))\n",
    "print(X_train.shape)\n",
    "\"\"\""
   ]
  },
  {
   "cell_type": "code",
   "execution_count": 13,
   "metadata": {},
   "outputs": [],
   "source": [
    "#make the dataset for train and test loader\n",
    "mytrainDataset= myDataset(nonFraudulentCarfeatures,nonFraudulentLable)\n",
    "mytestDataset= myDataset(fraudulentCarfeatures,fraudulentLable)\n",
    "\n"
   ]
  },
  {
   "cell_type": "code",
   "execution_count": 14,
   "metadata": {},
   "outputs": [
    {
     "name": "stdout",
     "output_type": "stream",
     "text": [
      "feature: tensor([0.0000, 0.0000, 0.0000, 0.0000, 0.0000, 0.0000, 1.0000, 0.0000, 0.0000,\n",
      "        0.0000, 0.0000, 0.0000, 0.0000, 0.0000, 0.0000, 0.0000, 0.0000, 0.0000,\n",
      "        0.0000, 0.0000, 1.0000, 1.0000, 0.0000, 0.0000, 0.0000, 1.0000, 0.0000,\n",
      "        1.0000, 0.0000, 0.0000, 0.0000, 0.0000, 0.0000, 0.0000, 1.0000, 0.0000,\n",
      "        0.0000, 0.0000, 0.0000, 0.0000, 0.0000, 0.0000, 0.0000, 1.0000, 0.0000,\n",
      "        0.0000, 0.0000, 1.0000, 0.0000, 0.0000, 0.0000, 1.0000, 0.0000, 0.0000,\n",
      "        0.0000, 1.0000, 0.0000, 1.0000, 0.0000, 0.0000, 0.0000, 0.0000, 0.0000,\n",
      "        0.0000, 0.0000, 0.0000, 0.0000, 1.0000, 0.0000, 0.0000, 0.0000, 0.0000,\n",
      "        0.0000, 1.0000, 0.0000, 1.0000, 0.0000, 1.0000, 0.0000, 0.0000, 0.0000,\n",
      "        0.0000, 1.0000, 1.0000, 0.0000, 0.0000, 0.0000, 0.0000, 0.0000, 0.0000,\n",
      "        1.0000, 0.0000, 0.0000, 0.7333, 0.0000, 0.0000, 0.0000])\n",
      "lable: tensor([0.])\n",
      "torch.Size([97])\n"
     ]
    }
   ],
   "source": [
    "feature,lable= mytrainDataset.__getitem__(0)\n",
    "print(\"feature:\",feature)\n",
    "print(\"lable:\",lable)\n",
    "print(feature.size())"
   ]
  },
  {
   "cell_type": "code",
   "execution_count": 15,
   "metadata": {},
   "outputs": [],
   "source": [
    "\n",
    "trainLoader1= torch.utils.data.DataLoader(mytrainDataset,batch_size=1,shuffle=True,num_workers=0)\n",
    "testLoader1= torch.utils.data.DataLoader(mytestDataset,batch_size=1,shuffle=True,num_workers=0)\n",
    "\n",
    "trainLoader2= torch.utils.data.DataLoader(mytestDataset,batch_size=1,shuffle=True,num_workers=0)\n",
    "testLoader2= torch.utils.data.DataLoader(mytrainDataset,batch_size=1,shuffle=True,num_workers=0)\n",
    "\n"
   ]
  },
  {
   "cell_type": "code",
   "execution_count": 16,
   "metadata": {},
   "outputs": [],
   "source": [
    "#Network architecture for the base autoencoders\n",
    "class autoencoder(nn.Module):\n",
    "    def __init__(self):\n",
    "        super(autoencoder,self).__init__()\n",
    "        self.encoder= nn.Sequential(\n",
    "            nn.Linear(97,50),\n",
    "            nn.ReLU(True),\n",
    "            nn.Linear(50,25),\n",
    "            nn.ReLU(True),nn.Linear(25,10),nn.ReLU(True),nn.Linear(10,5))\n",
    "        self.decoder= nn.Sequential(\n",
    "            nn.Linear(5,10),\n",
    "            nn.ReLU(True),\n",
    "            nn.Linear(10,25),\n",
    "            nn.ReLU(True),\n",
    "            nn.Linear(25,50),\n",
    "            nn.ReLU(True),nn.Linear(50,97))\n",
    "    \n",
    "    def forward(self,x):\n",
    "        x= self.encoder(x)\n",
    "        x= self.decoder(x)\n",
    "        return x;"
   ]
  },
  {
   "cell_type": "code",
   "execution_count": 17,
   "metadata": {},
   "outputs": [],
   "source": [
    "model= autoencoder()\n",
    "criterion= nn.MSELoss()\n",
    "optimizer= torch.optim.SGD(model.parameters(), lr=0.001,momentum=0.9)"
   ]
  },
  {
   "cell_type": "code",
   "execution_count": 18,
   "metadata": {},
   "outputs": [
    {
     "name": "stdout",
     "output_type": "stream",
     "text": [
      "[1] loss: 0.083\n",
      "[2] loss: 0.072\n",
      "[3] loss: 0.072\n",
      "[4] loss: 0.072\n",
      "[5] loss: 0.072\n",
      "[6] loss: 0.072\n",
      "[7] loss: 0.072\n",
      "[8] loss: 0.072\n",
      "[9] loss: 0.072\n",
      "[10] loss: 0.072\n",
      "[11] loss: 0.072\n",
      "[12] loss: 0.071\n",
      "[13] loss: 0.070\n",
      "[14] loss: 0.069\n",
      "[15] loss: 0.067\n",
      "[16] loss: 0.067\n",
      "[17] loss: 0.067\n",
      "[18] loss: 0.067\n",
      "[19] loss: 0.067\n",
      "[20] loss: 0.067\n",
      "[21] loss: 0.067\n",
      "[22] loss: 0.066\n",
      "[23] loss: 0.066\n",
      "[24] loss: 0.063\n",
      "[25] loss: 0.061\n",
      "[26] loss: 0.060\n",
      "[27] loss: 0.060\n",
      "[28] loss: 0.060\n",
      "[29] loss: 0.060\n",
      "[30] loss: 0.059\n",
      "[31] loss: 0.059\n",
      "[32] loss: 0.059\n",
      "[33] loss: 0.059\n",
      "[34] loss: 0.058\n",
      "[35] loss: 0.058\n",
      "[36] loss: 0.058\n",
      "[37] loss: 0.058\n",
      "[38] loss: 0.058\n",
      "[39] loss: 0.058\n",
      "[40] loss: 0.058\n",
      "[41] loss: 0.058\n",
      "[42] loss: 0.058\n",
      "[43] loss: 0.058\n",
      "[44] loss: 0.058\n",
      "[45] loss: 0.058\n",
      "[46] loss: 0.057\n",
      "[47] loss: 0.057\n",
      "[48] loss: 0.057\n",
      "[49] loss: 0.056\n",
      "[50] loss: 0.056\n",
      "[51] loss: 0.056\n",
      "[52] loss: 0.056\n",
      "[53] loss: 0.055\n",
      "[54] loss: 0.055\n",
      "[55] loss: 0.055\n",
      "[56] loss: 0.055\n",
      "[57] loss: 0.055\n",
      "[58] loss: 0.054\n",
      "[59] loss: 0.054\n",
      "[60] loss: 0.054\n",
      "[61] loss: 0.053\n",
      "[62] loss: 0.053\n",
      "[63] loss: 0.052\n",
      "[64] loss: 0.052\n",
      "[65] loss: 0.052\n",
      "[66] loss: 0.052\n",
      "[67] loss: 0.051\n",
      "[68] loss: 0.051\n",
      "[69] loss: 0.051\n",
      "[70] loss: 0.051\n",
      "[71] loss: 0.051\n",
      "[72] loss: 0.051\n",
      "[73] loss: 0.051\n",
      "[74] loss: 0.051\n",
      "[75] loss: 0.051\n",
      "[76] loss: 0.051\n",
      "[77] loss: 0.050\n",
      "[78] loss: 0.050\n",
      "[79] loss: 0.050\n",
      "[80] loss: 0.050\n",
      "[81] loss: 0.050\n",
      "[82] loss: 0.050\n",
      "[83] loss: 0.050\n",
      "[84] loss: 0.050\n",
      "[85] loss: 0.050\n",
      "[86] loss: 0.049\n",
      "[87] loss: 0.049\n",
      "[88] loss: 0.048\n",
      "[89] loss: 0.048\n",
      "[90] loss: 0.047\n",
      "[91] loss: 0.047\n",
      "[92] loss: 0.047\n",
      "[93] loss: 0.047\n",
      "[94] loss: 0.046\n",
      "[95] loss: 0.046\n",
      "[96] loss: 0.046\n",
      "[97] loss: 0.046\n",
      "[98] loss: 0.045\n",
      "[99] loss: 0.045\n",
      "[100] loss: 0.045\n"
     ]
    }
   ],
   "source": [
    "#train the model\n",
    "for epoch in range(100):\n",
    "    running_loss= 0.0\n",
    "    for i, (feature,lable) in enumerate(trainLoader1):\n",
    "        \n",
    "        #gets the inputs\n",
    "        inputs= torch.tensor(feature)\n",
    "        lables= torch.tensor(lable)\n",
    "        lables= lables.type(torch.LongTensor)\n",
    "       \n",
    "        #print(inputs.size())\n",
    "        #print(inputs)\n",
    "        \n",
    "        # =====================forward====================\n",
    "        output = model(inputs)\n",
    "        #print(output)\n",
    "        #loss = criterion(output,inputs).mean(dim=1)\n",
    "        loss = criterion(output,inputs)\n",
    "        \n",
    "        #print(\"loss:\",loss)\n",
    "        #print(\"output:\",output)\n",
    "        #print(\"input:\",inputs)\n",
    "               \n",
    "        \n",
    "         # ===================backward====================\n",
    "        optimizer.zero_grad()\n",
    "        loss.backward()\n",
    "        optimizer.step()\n",
    "        \n",
    "        # =======print the statistics\n",
    "        running_loss += loss.item()\n",
    "        \n",
    "        #print(\"i: \",i)\n",
    "    #if i%100 == 0:              #print every 2000 mini-batches\n",
    "    \n",
    "    print('[%d] loss: %.3f' %\n",
    "              (epoch + 1,  running_loss / nonFraudulentCarfeatures.shape[0]))\n",
    "      #running_loss = 0.0\n",
    "\n",
    "        "
   ]
  },
  {
   "cell_type": "code",
   "execution_count": 19,
   "metadata": {},
   "outputs": [],
   "source": [
    " #test the model\n",
    "def modelTest(Loader):\n",
    "    predictedLable= []\n",
    "    lossList= []\n",
    "    for i,(feature,lable) in enumerate(Loader):\n",
    "        inputs= torch.tensor(feature)\n",
    "        output= model(inputs)\n",
    "        loss= criterion(output,inputs)\n",
    "        \n",
    "        lossList.append(loss.item())\n",
    "        \n",
    "    return predictedLable,lossList\n",
    "        "
   ]
  },
  {
   "cell_type": "code",
   "execution_count": 20,
   "metadata": {},
   "outputs": [
    {
     "name": "stdout",
     "output_type": "stream",
     "text": [
      "0 0\n"
     ]
    }
   ],
   "source": [
    "predictedLable,lossList= modelTest(testLoader1)\n",
    "plus= predictedLable.count(1)\n",
    "minus= predictedLable.count(0)\n",
    "print('%d %d' %(plus,minus))"
   ]
  },
  {
   "cell_type": "code",
   "execution_count": 21,
   "metadata": {},
   "outputs": [
    {
     "data": {
      "text/plain": [
       "0.05060538649559021"
      ]
     },
     "execution_count": 21,
     "metadata": {},
     "output_type": "execute_result"
    }
   ],
   "source": [
    "len(lossList)\n",
    "lossList[1]"
   ]
  },
  {
   "cell_type": "code",
   "execution_count": 35,
   "metadata": {},
   "outputs": [],
   "source": []
  },
  {
   "cell_type": "code",
   "execution_count": 22,
   "metadata": {},
   "outputs": [],
   "source": [
    "#Network architecture for the base autoencoders\n",
    "class autoencoder2(nn.Module):\n",
    "    def __init__(self):\n",
    "        super(autoencoder2,self).__init__()\n",
    "        self.encoder2= nn.Sequential(\n",
    "            nn.Linear(97,75),\n",
    "            nn.LeakyReLU(True),\n",
    "            nn.Linear(75,25),\n",
    "            nn.LeakyReLU(True),nn.Linear(25,10))\n",
    "        self.decoder2= nn.Sequential(\n",
    "            nn.Linear(10,25),\n",
    "            nn.LeakyReLU(True),\n",
    "            nn.Linear(25,75),\n",
    "            nn.LeakyReLU(True),\n",
    "            nn.Linear(75,97))\n",
    "    \n",
    "    def forward(self,x):\n",
    "        x= self.encoder2(x)\n",
    "        x= self.decoder2(x)\n",
    "        return x;"
   ]
  },
  {
   "cell_type": "code",
   "execution_count": 23,
   "metadata": {},
   "outputs": [],
   "source": [
    "model2= autoencoder2()\n",
    "criterion2= nn.MSELoss()\n",
    "optimizer2= torch.optim.SGD(model2.parameters(), lr=0.001,momentum=0.9)"
   ]
  },
  {
   "cell_type": "code",
   "execution_count": 24,
   "metadata": {},
   "outputs": [
    {
     "name": "stdout",
     "output_type": "stream",
     "text": [
      "[1] loss: 0.141\n",
      "[2] loss: 0.076\n",
      "[3] loss: 0.069\n",
      "[4] loss: 0.069\n",
      "[5] loss: 0.068\n",
      "[6] loss: 0.068\n",
      "[7] loss: 0.068\n",
      "[8] loss: 0.068\n",
      "[9] loss: 0.068\n",
      "[10] loss: 0.068\n",
      "[11] loss: 0.068\n",
      "[12] loss: 0.068\n",
      "[13] loss: 0.068\n",
      "[14] loss: 0.068\n",
      "[15] loss: 0.067\n",
      "[16] loss: 0.067\n",
      "[17] loss: 0.067\n",
      "[18] loss: 0.067\n",
      "[19] loss: 0.066\n",
      "[20] loss: 0.066\n",
      "[21] loss: 0.066\n",
      "[22] loss: 0.065\n",
      "[23] loss: 0.065\n",
      "[24] loss: 0.064\n",
      "[25] loss: 0.063\n",
      "[26] loss: 0.063\n",
      "[27] loss: 0.062\n",
      "[28] loss: 0.062\n",
      "[29] loss: 0.061\n",
      "[30] loss: 0.061\n",
      "[31] loss: 0.060\n",
      "[32] loss: 0.060\n",
      "[33] loss: 0.059\n",
      "[34] loss: 0.058\n",
      "[35] loss: 0.058\n",
      "[36] loss: 0.057\n",
      "[37] loss: 0.057\n",
      "[38] loss: 0.056\n",
      "[39] loss: 0.056\n",
      "[40] loss: 0.055\n",
      "[41] loss: 0.055\n",
      "[42] loss: 0.054\n",
      "[43] loss: 0.054\n",
      "[44] loss: 0.053\n",
      "[45] loss: 0.053\n",
      "[46] loss: 0.053\n",
      "[47] loss: 0.052\n",
      "[48] loss: 0.052\n",
      "[49] loss: 0.052\n",
      "[50] loss: 0.051\n"
     ]
    }
   ],
   "source": [
    "#train the model2\n",
    "for epoch in range(50):\n",
    "    running_loss2= 0.0\n",
    "    for i, (feature,lable) in enumerate(trainLoader2):\n",
    "        \n",
    "        #gets the inputs\n",
    "        inputs2= torch.tensor(feature)\n",
    "        lables2= torch.tensor(lable)\n",
    "        lables2= lables2.type(torch.LongTensor)\n",
    "       \n",
    "        #print(inputs.size())\n",
    "        #print(inputs)\n",
    "        \n",
    "        # =====================forward====================\n",
    "        output2= model2(inputs2)\n",
    "        \n",
    "        #print(output)\n",
    "        #loss = criterion(output,inputs).mean(dim=1)\n",
    "        loss2= criterion2(output2,inputs2)\n",
    "        #print(\"loss2: \",loss2)\n",
    "        '''\n",
    "        print(\"loss:\",loss)\n",
    "        print(\"output:\",output)\n",
    "        print(\"input:\",inputs)\n",
    "        '''    \n",
    "        \n",
    "         # ===================backward====================\n",
    "        optimizer2.zero_grad()\n",
    "        loss2.backward()\n",
    "        optimizer2.step()\n",
    "        \n",
    "        # =======print the statistics\n",
    "        running_loss2 += loss2.item()\n",
    "        \n",
    "        #print(\"i: \",i)\n",
    "    #if i%100 == 0:              #print every 2000 mini-batches\n",
    "    \n",
    "    print('[%d] loss: %.3f' %\n",
    "              (epoch + 1,  running_loss2 / fraudulentCarfeatures.shape[0]))\n",
    "      #running_loss = 0.0"
   ]
  },
  {
   "cell_type": "code",
   "execution_count": 25,
   "metadata": {},
   "outputs": [],
   "source": [
    "def modelTest2(Loader2):\n",
    "    predictedLable2= []\n",
    "    lossList2= []\n",
    "    for i,(feature,lable) in enumerate(Loader2):\n",
    "        inputs2= torch.tensor(feature)\n",
    "        output2= model2(inputs2)\n",
    "        loss2= criterion(output2,inputs2)\n",
    "        \n",
    "        lossList2.append(loss2.item())\n",
    "        #print(loss)\n",
    "        if(loss2>0.05):\n",
    "            predictedLable2.append(0)\n",
    "        else:\n",
    "            predictedLable2.append(1)\n",
    "\n",
    "    return predictedLable2,lossList2\n",
    "        "
   ]
  },
  {
   "cell_type": "code",
   "execution_count": 26,
   "metadata": {},
   "outputs": [
    {
     "name": "stdout",
     "output_type": "stream",
     "text": [
      "485 438\n"
     ]
    }
   ],
   "source": [
    "predictedLable2,lossList2= modelTest2(testLoader1)\n",
    "plus2= predictedLable2.count(1)\n",
    "minus2= predictedLable2.count(0)\n",
    "print('%d %d' %(plus2,minus2))"
   ]
  },
  {
   "cell_type": "code",
   "execution_count": 27,
   "metadata": {},
   "outputs": [
    {
     "name": "stdout",
     "output_type": "stream",
     "text": [
      "loss1: 0.05060538649559021\n",
      "loss2: 0.03439868241548538\n"
     ]
    }
   ],
   "source": [
    "print(\"loss1:\",lossList[1])\n",
    "print(\"loss2:\",lossList2[1])\n"
   ]
  },
  {
   "cell_type": "code",
   "execution_count": null,
   "metadata": {},
   "outputs": [],
   "source": []
  },
  {
   "cell_type": "code",
   "execution_count": 28,
   "metadata": {},
   "outputs": [],
   "source": [
    "prediction=[]\n",
    "for k in range(len(lossList)):\n",
    "    if(lossList[k]<lossList2[k]):\n",
    "        prediction.append(0)\n",
    "    else:\n",
    "        prediction.append(1)"
   ]
  },
  {
   "cell_type": "code",
   "execution_count": 29,
   "metadata": {},
   "outputs": [
    {
     "name": "stdout",
     "output_type": "stream",
     "text": [
      "408 515\n"
     ]
    }
   ],
   "source": [
    "class1= prediction.count(1)\n",
    "class0= prediction.count(0)\n",
    "print('%d %d' %(class1,class0))"
   ]
  },
  {
   "cell_type": "code",
   "execution_count": null,
   "metadata": {},
   "outputs": [],
   "source": []
  },
  {
   "cell_type": "code",
   "execution_count": null,
   "metadata": {},
   "outputs": [],
   "source": []
  },
  {
   "cell_type": "code",
   "execution_count": 30,
   "metadata": {},
   "outputs": [
    {
     "name": "stdout",
     "output_type": "stream",
     "text": [
      "0 0\n"
     ]
    }
   ],
   "source": [
    "predictedLable3,lossList3= modelTest(testLoader2)\n",
    "plus2= predictedLable3.count(1)\n",
    "minus2= predictedLable3.count(0)\n",
    "print('%d %d' %(plus,minus))"
   ]
  },
  {
   "cell_type": "code",
   "execution_count": 31,
   "metadata": {},
   "outputs": [
    {
     "name": "stdout",
     "output_type": "stream",
     "text": [
      "4391 10105\n"
     ]
    }
   ],
   "source": [
    "predictedLable4,lossList4= modelTest2(testLoader2)\n",
    "plus2= predictedLable4.count(1)\n",
    "minus2= predictedLable4.count(0)\n",
    "print('%d %d' %(plus2,minus2))"
   ]
  },
  {
   "cell_type": "code",
   "execution_count": 32,
   "metadata": {},
   "outputs": [],
   "source": [
    "prediction2=[]\n",
    "for k in range(len(lossList3)):\n",
    "    if(lossList3[k]<lossList4[k]):\n",
    "        prediction2.append(0)\n",
    "    else:\n",
    "        prediction2.append(1)"
   ]
  },
  {
   "cell_type": "code",
   "execution_count": 33,
   "metadata": {},
   "outputs": [
    {
     "name": "stdout",
     "output_type": "stream",
     "text": [
      "3647 10849\n"
     ]
    }
   ],
   "source": [
    "class1= prediction2.count(1)\n",
    "class0= prediction2.count(0)\n",
    "print('%d %d' %(class1,class0))"
   ]
  },
  {
   "cell_type": "code",
   "execution_count": null,
   "metadata": {},
   "outputs": [],
   "source": []
  },
  {
   "cell_type": "code",
   "execution_count": null,
   "metadata": {},
   "outputs": [],
   "source": []
  },
  {
   "cell_type": "code",
   "execution_count": null,
   "metadata": {},
   "outputs": [],
   "source": []
  },
  {
   "cell_type": "code",
   "execution_count": 36,
   "metadata": {},
   "outputs": [],
   "source": [
    "#save the model\n",
    "torch.save(model2.state_dict(),'../saved_model2')"
   ]
  },
  {
   "cell_type": "code",
   "execution_count": 37,
   "metadata": {},
   "outputs": [],
   "source": []
  },
  {
   "cell_type": "code",
   "execution_count": 39,
   "metadata": {},
   "outputs": [
    {
     "data": {
      "text/plain": [
       "autoencoder2(\n",
       "  (encoder2): Sequential(\n",
       "    (0): Linear(in_features=97, out_features=75, bias=True)\n",
       "    (1): LeakyReLU(negative_slope=True)\n",
       "    (2): Linear(in_features=75, out_features=25, bias=True)\n",
       "    (3): LeakyReLU(negative_slope=True)\n",
       "    (4): Linear(in_features=25, out_features=10, bias=True)\n",
       "  )\n",
       "  (decoder2): Sequential(\n",
       "    (0): Linear(in_features=10, out_features=25, bias=True)\n",
       "    (1): LeakyReLU(negative_slope=True)\n",
       "    (2): Linear(in_features=25, out_features=75, bias=True)\n",
       "    (3): LeakyReLU(negative_slope=True)\n",
       "    (4): Linear(in_features=75, out_features=97, bias=True)\n",
       "  )\n",
       ")"
      ]
     },
     "execution_count": 39,
     "metadata": {},
     "output_type": "execute_result"
    }
   ],
   "source": [
    "#load the model\n",
    "m= autoencoder2();\n",
    "m.load_state_dict(torch.load('../saved_model2'))\n",
    "m.eval()"
   ]
  },
  {
   "cell_type": "code",
   "execution_count": 40,
   "metadata": {},
   "outputs": [],
   "source": [
    "def modelTest2(Loader2):\n",
    "    predictedLable2= []\n",
    "    lossList2= []\n",
    "    for i,(feature,lable) in enumerate(Loader2):\n",
    "        inputs2= torch.tensor(feature)\n",
    "        output2= m(inputs2)\n",
    "        loss2= criterion(output2,inputs2)\n",
    "        \n",
    "        lossList2.append(loss2.item())\n",
    "        #print(loss)\n",
    "        if(loss2>0.05):\n",
    "            predictedLable2.append(0)\n",
    "        else:\n",
    "            predictedLable2.append(1)\n",
    "\n",
    "    return predictedLable2,lossList2\n",
    "        "
   ]
  },
  {
   "cell_type": "code",
   "execution_count": 41,
   "metadata": {},
   "outputs": [
    {
     "name": "stdout",
     "output_type": "stream",
     "text": [
      "500 423\n"
     ]
    }
   ],
   "source": [
    "p,l= modelTest2(testLoader1)\n",
    "plus2= p.count(1)\n",
    "minus2= p.count(0)\n",
    "print('%d %d' %(plus2,minus2))"
   ]
  },
  {
   "cell_type": "code",
   "execution_count": 42,
   "metadata": {},
   "outputs": [],
   "source": [
    "pred=[]\n",
    "for k in range(len(lossList)):\n",
    "    if(lossList[k]<l[k]):\n",
    "        pred.append(0)\n",
    "    else:\n",
    "        pred.append(1)"
   ]
  },
  {
   "cell_type": "code",
   "execution_count": 43,
   "metadata": {},
   "outputs": [
    {
     "name": "stdout",
     "output_type": "stream",
     "text": [
      "704 219\n"
     ]
    }
   ],
   "source": [
    "plus2= pred.count(1)\n",
    "minus2= pred.count(0)\n",
    "print('%d %d' %(plus2,minus2))"
   ]
  },
  {
   "cell_type": "code",
   "execution_count": null,
   "metadata": {},
   "outputs": [],
   "source": []
  }
 ],
 "metadata": {
  "kernelspec": {
   "display_name": "Python 3",
   "language": "python",
   "name": "python3"
  },
  "language_info": {
   "codemirror_mode": {
    "name": "ipython",
    "version": 3
   },
   "file_extension": ".py",
   "mimetype": "text/x-python",
   "name": "python",
   "nbconvert_exporter": "python",
   "pygments_lexer": "ipython3",
   "version": "3.6.4"
  }
 },
 "nbformat": 4,
 "nbformat_minor": 2
}
