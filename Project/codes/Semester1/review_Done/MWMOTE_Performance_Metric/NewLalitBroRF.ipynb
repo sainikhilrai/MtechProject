{
 "cells": [
  {
   "cell_type": "code",
   "execution_count": 1,
   "metadata": {
    "collapsed": false
   },
   "outputs": [
    {
     "name": "stderr",
     "output_type": "stream",
     "text": [
      "/usr/local/anaconda3/lib/python3.5/site-packages/sklearn/utils/fixes.py:313: FutureWarning: numpy not_equal will not check object identity in the future. The comparison did not return the same result as suggested by the identity (`is`)) and will change.\n",
      "  _nan_object_mask = _nan_object_array != _nan_object_array\n"
     ]
    }
   ],
   "source": [
    "import pandas as pd\n",
    "import numpy as np\n",
    "from sklearn.model_selection import train_test_split\n",
    "from sklearn.metrics import accuracy_score\n",
    "from sklearn.ensemble import RandomForestClassifier\n",
    "from sklearn.preprocessing import LabelEncoder\n",
    "import matplotlib.pyplot as plt\n",
    "from sklearn.metrics import confusion_matrix\n",
    "from sklearn.preprocessing import LabelEncoder\n",
    "from sklearn.metrics import roc_curve, auc\n",
    "import math"
   ]
  },
  {
   "cell_type": "code",
   "execution_count": 10,
   "metadata": {
    "collapsed": true
   },
   "outputs": [],
   "source": [
    "#read the input\n",
    "features_df= pd.read_csv('tnf_v_2000.csv',header=None)\n",
    "labels= pd.read_csv('label.csv')\n"
   ]
  },
  {
   "cell_type": "code",
   "execution_count": 11,
   "metadata": {
    "collapsed": false
   },
   "outputs": [
    {
     "name": "stdout",
     "output_type": "stream",
     "text": [
      "(28992, 1200)\n"
     ]
    }
   ],
   "source": [
    "#convert into numpy\n",
    "features= features_df.values\n",
    "\n",
    "labels= labels.values\n",
    "features= features[:,0:1200]\n",
    "\n",
    "print(features.shape)"
   ]
  },
  {
   "cell_type": "code",
   "execution_count": 13,
   "metadata": {
    "collapsed": false
   },
   "outputs": [
    {
     "name": "stdout",
     "output_type": "stream",
     "text": [
      "(28992, 1200)\n",
      "(28992, 1)\n"
     ]
    },
    {
     "name": "stderr",
     "output_type": "stream",
     "text": [
      "/usr/local/anaconda3/lib/python3.5/site-packages/ipykernel/__main__.py:23: DataConversionWarning: A column-vector y was passed when a 1d array was expected. Please change the shape of y to (n_samples,), for example using ravel().\n",
      "/usr/local/anaconda3/lib/python3.5/site-packages/ipykernel/__main__.py:23: DataConversionWarning: A column-vector y was passed when a 1d array was expected. Please change the shape of y to (n_samples,), for example using ravel().\n",
      "/usr/local/anaconda3/lib/python3.5/site-packages/ipykernel/__main__.py:23: DataConversionWarning: A column-vector y was passed when a 1d array was expected. Please change the shape of y to (n_samples,), for example using ravel().\n",
      "/usr/local/anaconda3/lib/python3.5/site-packages/ipykernel/__main__.py:23: DataConversionWarning: A column-vector y was passed when a 1d array was expected. Please change the shape of y to (n_samples,), for example using ravel().\n",
      "/usr/local/anaconda3/lib/python3.5/site-packages/ipykernel/__main__.py:23: DataConversionWarning: A column-vector y was passed when a 1d array was expected. Please change the shape of y to (n_samples,), for example using ravel().\n",
      "/usr/local/anaconda3/lib/python3.5/site-packages/ipykernel/__main__.py:23: DataConversionWarning: A column-vector y was passed when a 1d array was expected. Please change the shape of y to (n_samples,), for example using ravel().\n",
      "/usr/local/anaconda3/lib/python3.5/site-packages/ipykernel/__main__.py:23: DataConversionWarning: A column-vector y was passed when a 1d array was expected. Please change the shape of y to (n_samples,), for example using ravel().\n",
      "/usr/local/anaconda3/lib/python3.5/site-packages/ipykernel/__main__.py:23: DataConversionWarning: A column-vector y was passed when a 1d array was expected. Please change the shape of y to (n_samples,), for example using ravel().\n",
      "/usr/local/anaconda3/lib/python3.5/site-packages/ipykernel/__main__.py:23: DataConversionWarning: A column-vector y was passed when a 1d array was expected. Please change the shape of y to (n_samples,), for example using ravel().\n",
      "/usr/local/anaconda3/lib/python3.5/site-packages/ipykernel/__main__.py:23: DataConversionWarning: A column-vector y was passed when a 1d array was expected. Please change the shape of y to (n_samples,), for example using ravel().\n"
     ]
    }
   ],
   "source": [
    "#new calculation of Performance metric\n",
    "from sklearn.model_selection import StratifiedKFold\n",
    "from itertools import cycle\n",
    "from scipy import interp\n",
    "\n",
    "cv = StratifiedKFold(n_splits=10)\n",
    "clf = RandomForestClassifier(n_estimators=100) \n",
    "tprs = []\n",
    "aucs = []\n",
    "mean_fpr = np.linspace(0, 1, 100)\n",
    "i= 0\n",
    "\n",
    "print(features.shape)\n",
    "print(labels.shape)\n",
    "\n",
    "accuracy= []\n",
    "precision= []\n",
    "sensitivity= []\n",
    "specificity= []\n",
    "f1score= []\n",
    "\n",
    "for train, test in cv.split(features, labels):\n",
    "    probas_ = clf.fit(features[train], labels[train]).predict_proba(features[test])\n",
    "    j= 0\n",
    "    for j in range(probas_.shape[0]):\n",
    "        if (probas_[j,1]>0.5):\n",
    "            probas_[j,1]= 1\n",
    "        else:\n",
    "            probas_[j,1]= 0\n",
    "\n",
    "    \n",
    "    #print(y_test.shape,probas_.shape)\n",
    "    cm = confusion_matrix(labels[test],probas_[:,1])\n",
    "    #print(\"Initial cm:\\n\",cm)\n",
    "    if(cm.shape[0]==1):\n",
    "        new_cm= np.zeros([2,2])\n",
    "        #print(\"y_test label:\",y_test)\n",
    "        #zrow= np.zeros((1,2),dtype=int)\n",
    "        #zcol= np.zeros((1,1),dtype=int)\n",
    "        new_cm[0,0]= 0\n",
    "        new_cm[0,1]= 0\n",
    "        new_cm[1,0]= 0\n",
    "        new_cm[1,1]= cm[0]\n",
    "        #cm= np.concatenate((cm,zcol),axis=1)\n",
    "        #cm= np.concatenate((cm,zrow),axis=0)\n",
    "        cm= new_cm\n",
    "    #print(\"modify cm:\\n\",cm)\n",
    "    #print(type(cm))\n",
    "    #print(\"shape\",cm.shape)\n",
    "    TN, FP, FN, TP = cm.ravel()\n",
    "    acc= (TP+TN)/(TP+FP+FN+TN)*100\n",
    "    prec= TP/(TP+FP)*100\n",
    "    sens= TP/(TP+FN)*100\n",
    "    spec= TN/(TN+FP)*100\n",
    "    f1= (2 * prec * sens)/(prec + sens)\n",
    "    \n",
    "    #print(acc,prec,sens,spec,f1)\n",
    "    \n",
    "    accuracy.append(acc)\n",
    "    precision.append(prec)\n",
    "    sensitivity.append(sens)\n",
    "    if(math.isnan(spec)):\n",
    "        print(\"Nan\")\n",
    "    else:\n",
    "        specificity.append(spec)\n",
    "    f1score.append(f1)\n",
    "    \n",
    "    # Compute ROC curve and area the curve\n",
    "    fpr, tpr, thresholds = roc_curve(labels[test], probas_[:, 1])\n",
    "    tprs.append(interp(mean_fpr, fpr, tpr))\n",
    "    tprs[-1][0] = 0.0\n",
    "    roc_auc = auc(fpr, tpr)\n",
    "    aucs.append(roc_auc)\n",
    "    plt.plot(fpr, tpr, lw=1, alpha=0.3,\n",
    "             label='ROC fold %d (AUC = %0.2f)' % (i, roc_auc))\n",
    "\n",
    "    i += 1"
   ]
  },
  {
   "cell_type": "code",
   "execution_count": 14,
   "metadata": {
    "collapsed": false
   },
   "outputs": [
    {
     "name": "stdout",
     "output_type": "stream",
     "text": [
      "Accuracy: 99.4515075795\n",
      "Precision: 99.100347342\n",
      "Sensitivity: 99.8137359891\n",
      "Specificity: 99.0892791699\n",
      "F1_score: 99.4546139672\n"
     ]
    }
   ],
   "source": [
    "print(\"Accuracy:\",np.mean(accuracy))\n",
    "print(\"Precision:\",np.mean(precision))\n",
    "print(\"Sensitivity:\",np.mean(sensitivity))\n",
    "print(\"Specificity:\",np.mean(specificity))\n",
    "print(\"F1_score:\",np.mean(f1score))"
   ]
  },
  {
   "cell_type": "code",
   "execution_count": 15,
   "metadata": {
    "collapsed": false
   },
   "outputs": [
    {
     "data": {
      "image/png": "[encoded data removed]",
      "text/plain": [
       "<matplotlib.figure.Figure at 0x7fc7ce91a400>"
      ]
     },
     "metadata": {},
     "output_type": "display_data"
    }
   ],
   "source": [
    "plt.plot([0, 1], [0, 1], linestyle='--', lw=2, color='r',\n",
    "         label='Luck', alpha=.8)\n",
    "\n",
    "mean_tpr = np.mean(tprs, axis=0)\n",
    "mean_tpr[-1] = 1.0\n",
    "mean_auc = auc(mean_fpr, mean_tpr)\n",
    "std_auc = np.std(aucs)\n",
    "plt.plot(mean_fpr, mean_tpr, color='b',\n",
    "         label=r'Mean ROC (AUC = %0.2f $\\pm$ %0.2f)' % (mean_auc, std_auc),\n",
    "         lw=2, alpha=.8)\n",
    "\n",
    "std_tpr = np.std(tprs, axis=0)\n",
    "tprs_upper = np.minimum(mean_tpr + std_tpr, 1)\n",
    "tprs_lower = np.maximum(mean_tpr - std_tpr, 0)\n",
    "plt.fill_between(mean_fpr, tprs_lower, tprs_upper, color='grey', alpha=.2,\n",
    "                 label=r'$\\pm$ 1 std. dev.')\n",
    "\n",
    "plt.xlim([-0.05, 1.05])\n",
    "plt.ylim([-0.05, 1.05])\n",
    "plt.xlabel('False Positive Rate')\n",
    "plt.ylabel('True Positive Rate')\n",
    "plt.title('Receiver operating characteristic example')\n",
    "plt.legend(loc=\"lower right\")\n",
    "plt.show()"
   ]
  },
  {
   "cell_type": "code",
   "execution_count": null,
   "metadata": {
    "collapsed": true
   },
   "outputs": [],
   "source": []
  }
 ],
 "metadata": {
  "kernelspec": {
   "display_name": "Python [anaconda3]",
   "language": "python",
   "name": "Python [anaconda3]"
  },
  "language_info": {
   "codemirror_mode": {
    "name": "ipython",
    "version": 3
   },
   "file_extension": ".py",
   "mimetype": "text/x-python",
   "name": "python",
   "nbconvert_exporter": "python",
   "pygments_lexer": "ipython3",
   "version": "3.5.5"
  }
 },
 "nbformat": 4,
 "nbformat_minor": 0
}
