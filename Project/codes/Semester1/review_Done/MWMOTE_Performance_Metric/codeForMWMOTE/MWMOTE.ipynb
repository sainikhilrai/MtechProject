{
 "cells": [
  {
   "cell_type": "code",
   "execution_count": 2,
   "metadata": {
    "collapsed": true
   },
   "outputs": [],
   "source": [
    "import math, copy, bisect, random, logging, multiprocessing\n",
    "logger = logging.getLogger( __name__  )\n",
    "logging.basicConfig(level=logging.DEBUG, format='%(asctime)s : %(message)s')\n",
    "\n",
    "class Knn:\n",
    "    \"\"\"docstring for Knn\"\"\"\n",
    "    def __init__(self):\n",
    "        self.data = []\n",
    "        self.dic = {}\n",
    "\n",
    "    def fit(self, data):\n",
    "        self.data = data\n",
    "        self.real_indices = range(len(data))\n",
    "        for i in range(len(data)):\n",
    "            self.dic[ (i, i) ] =  0.\n",
    "            for j in range(i):\n",
    "                self.dic[ (i, j) ] = math.sqrt( math.fsum( ( (a-b)**2 for a, b in zip(self.data[i], self.data[j])) ) )\n",
    "                self.dic[ (j, i) ] =  self.dic[ (i, j) ]\n",
    "\n",
    "    def fit_subset(self, indices):\n",
    "        self.real_indices = indices\n",
    "\n",
    "    def get_dis(self, a, b):\n",
    "        return self.dic[(a, b)]\n",
    "\n",
    "\n",
    "    def kneighbors(self, instance_index, n_neighbors, return_distance=False):\n",
    "        result = []\n",
    "        for i in self.real_indices:\n",
    "            distance = self.dic[(instance_index, i)]\n",
    "            result.append( (distance, i) )\n",
    "        result = sorted(result)[:n_neighbors]\n",
    "\n",
    "        if return_distance:\n",
    "            return ([i[1] for i in result], [i[0] for i in result])\n",
    "        else:\n",
    "            return [i[1] for i in result]\n",
    "\n"
   ]
  },
  {
   "cell_type": "code",
   "execution_count": 3,
   "metadata": {
    "collapsed": true
   },
   "outputs": [],
   "source": [
    "class WeightedSampleRandomGenerator(object):\n",
    "    def __init__(self, indices, weights):\n",
    "        self.totals = []\n",
    "        self.indices = indices\n",
    "        running_total = 0\n",
    "\n",
    "        for w in weights:\n",
    "            running_total += w\n",
    "            self.totals.append(running_total)\n",
    "\n",
    "    def next(self):\n",
    "        rnd = random.random() * self.totals[-1]\n",
    "        return self.indices[bisect.bisect_right(self.totals, rnd)]\n",
    "\n",
    "    def __call__(self):\n",
    "        return self.next()\n",
    "\n"
   ]
  },
  {
   "cell_type": "code",
   "execution_count": 4,
   "metadata": {
    "collapsed": true
   },
   "outputs": [],
   "source": [
    "def clus_dis(A, B, K):\n",
    "    distance = 0.\n",
    "    for i in A:\n",
    "        for j in B:\n",
    "            distance += K.get_dis(i, j)\n",
    "    return distance / len(A) / len(B)\n",
    "\n"
   ]
  },
  {
   "cell_type": "code",
   "execution_count": 5,
   "metadata": {
    "collapsed": true
   },
   "outputs": [],
   "source": [
    "def MWMOTE(X, Y, N, k1 = 5, k2 = 3, k3 = 0.5, C_th = 5, CMAX = 2, C_p = 3, return_mode = 'only'):\n",
    "    logger.debug('MWMOTE: Starting with %d instances' % len(Y))\n",
    "    # Generating indices of S_min, S_maj\n",
    "    S_min, S_maj = [], []\n",
    "    \n",
    "    #separate the S_min and S_maj\n",
    "    for index, i in enumerate(Y):\n",
    "        if i < 0:\n",
    "            S_min.append(index)\n",
    "        else:\n",
    "            S_maj.append(index)\n",
    "        \n",
    "  \n",
    "    if type(k3) == float:\n",
    "        k3 = int(round(len(S_min)*k3))\n",
    "        \n",
    "    k = Knn()\n",
    "\n",
    "    logger.debug(' Step   0: Computing Knn table')\n",
    "    k.fit(X)\n",
    "\n",
    "    # Step 1~2: Generating S_minf\n",
    "    S_minf = []\n",
    "    for i in S_min:\n",
    "        neighbors = k.kneighbors(i, k1+1) #remove itself from neighbors\n",
    "        neighbors.remove(i) \n",
    "        if not all( (neighbor in S_maj) for neighbor in neighbors):\n",
    "            S_minf.append(i)\n",
    "  \n",
    "    logger.debug(' Step 1~2: %d in S_minf' % len(S_minf))\n",
    "  \n",
    "\n",
    "    # Step 3~4: Generating S_bmaj\n",
    "    k.fit_subset(S_maj)\n",
    "    S_bmaj = []\n",
    "    for i in S_minf:\n",
    "        neighbors = k.kneighbors(i, k2)\n",
    "        S_bmaj.extend(neighbors)\n",
    "    S_bmaj = list( set(S_bmaj) )\n",
    "    logger.debug(' Step 3~4: %d in S_bmaj' % len(S_bmaj))\n",
    "\n",
    "    # Step 5~6: Generating S_imin\n",
    "    k.fit_subset(S_min)\n",
    "    S_imin = []\n",
    "    N_min = {}\n",
    "    for i in S_bmaj:\n",
    "        neighbors = k.kneighbors(i, k3)\n",
    "        S_imin.extend(neighbors)\n",
    "        N_min[i] = neighbors\n",
    "    S_imin = list( set(S_imin) )\n",
    "    logger.debug(' Step 5~6: %d in S_imin' % len(S_imin))\n",
    "\n",
    "    # Step 7~9: Generating I_w, S_w, S_p\n",
    "    I_w = {}\n",
    "    for y in S_bmaj:\n",
    "        sum_C_f = 0.\n",
    "        for x in S_imin:\n",
    "            # closeness_factor\n",
    "            if x not in  N_min[y]:\n",
    "                closeness_factor = 0.\n",
    "            else:\n",
    "                distance_n = math.sqrt( math.fsum( ( (a-b)**2 for a, b in zip(X[x], X[y])) ) ) / len(X[x])\n",
    "                closeness_factor = min(C_th, (1 / distance_n)) / C_th * CMAX\n",
    "            I_w[(y, x)] = closeness_factor\n",
    "            sum_C_f += I_w[(y, x)]\n",
    "        for x in S_imin:\n",
    "            closeness_factor = I_w[(y, x)]\n",
    "            density_factor = closeness_factor / sum_C_f\n",
    "            I_w[(y, x)] = closeness_factor * density_factor\n",
    "\n",
    "    S_w = {}\n",
    "    for x in S_imin:\n",
    "        S_w[x] = math.fsum( (I_w[(y, x)]) for y in S_bmaj )\n",
    "  \n",
    "    S_p = {} #actually useless\n",
    "    WeightSum = math.fsum(S_w.values())\n",
    "    for x in S_w:\n",
    "        S_p[x] = float(S_w[x])/WeightSum\n",
    "    logger.debug(' Step 7~9: %d in I_w' % len(I_w))\n",
    "\n",
    "    # Step 10:Generating L, clusters of S_min\n",
    "    d_avg = 0.\n",
    "    for i in S_minf:\n",
    "        tmp = []\n",
    "        for j in S_minf:\n",
    "            if i == j:\n",
    "                continue\n",
    "            tmp.append(math.sqrt( math.fsum( ( (a-b)**2 for a, b in zip(X[i], X[j])) ) ))\n",
    "        d_avg += min(tmp)\n",
    "        d_avg /= len(S_minf)\n",
    "        T_h = d_avg * C_p\n",
    "\n",
    "        L = { index:[i] for index, i in enumerate(S_min)}\n",
    "        clusters_number = range(len(S_min))\n",
    "        dis_table = [ [0 for i in clusters_number] for j in clusters_number]\n",
    "        for i in clusters_number:\n",
    "            for j in clusters_number:\n",
    "                dis_table[i][j] = clus_dis(L[i], L[j], k)\n",
    "        MAX = max(max(j) for j in dis_table)\n",
    "        for i in clusters_number:\n",
    "            dis_table[i][i] = MAX\n",
    "            \n",
    "        for i in S_min:\n",
    "            MIN = min(min(j) for j in dis_table)\n",
    "            if MIN > T_h:\n",
    "                break\n",
    "            for j in clusters_number:\n",
    "                if MIN in dis_table[j]:\n",
    "                    b = dis_table[j].index(MIN)\n",
    "                    a = j\n",
    "                    break\n",
    "            L[a].extend(L[b])\n",
    "    \n",
    "            del L[b]\n",
    "            clusters_number.remove(b)\n",
    "            for j in clusters_number:\n",
    "                tmp = clus_dis(L[a], L[j], k)\n",
    "                dis_table[a][j] = tmp\n",
    "                dis_table[j][a] = tmp\n",
    "            dis_table[a][a] = MAX\n",
    "            for j in clusters_number:\n",
    "                dis_table[b][j] = MAX\n",
    "                dis_table[j][b] = MAX\n",
    "  \n",
    "        which_cluster = {}\n",
    "        for i, clu in L.items():\n",
    "            for j in clu:\n",
    "                which_cluster[j] = i\n",
    "        logger.debug(' Step  10: %d clusters' % len(L))\n",
    "\n",
    "\n",
    "\n",
    "        # Step 11: Generating X_gen, Y_gen\n",
    "        X_gen = []\n",
    "        some_big_number = 10000000.\n",
    "        sample = WeightedSampleRandomGenerator(S_w.keys(), S_w.values())\n",
    "        for z in xrange(N):\n",
    "            x = sample()\n",
    "            y = random.choice( L[which_cluster[x]] )\n",
    "            alpha = random.randint(0, some_big_number) / some_big_number\n",
    "            s = [ i + alpha * (j-i) for i, j in zip(X[x], X[y])]\n",
    "            X_gen.append(s)\n",
    "        Y_gen = [-1 for z in xrange(N)]\n",
    "        logger.debug(' Step  11: %d over-sample generated' % N)\n",
    "\n",
    "        # return the desired data\n",
    "        X.extend(X_gen)\n",
    "        Y.extend(Y_gen)\n",
    "        if return_mode == 'append':\n",
    "            return (X, Y)\n",
    "        elif return_mode == 'shuffled':\n",
    "            Permutation = range(len(X))\n",
    "            random.shuffle(Permutation)\n",
    "            X = [X[i] for i in Permutation]\n",
    "            Y = [Y[i] for i in Permutation]\n",
    "            return (X, Y)\n",
    "        elif return_mode == 'only':\n",
    "            return (X_gen, Y_gen)\n",
    "        else:\n",
    "            pass"
   ]
  },
  {
   "cell_type": "code",
   "execution_count": 7,
   "metadata": {
    "collapsed": false
   },
   "outputs": [
    {
     "name": "stderr",
     "output_type": "stream",
     "text": [
      "/usr/local/anaconda3/lib/python3.5/site-packages/sklearn/utils/fixes.py:313: FutureWarning: numpy not_equal will not check object identity in the future. The comparison did not return the same result as suggested by the identity (`is`)) and will change.\n",
      "  _nan_object_mask = _nan_object_array != _nan_object_array\n"
     ]
    },
    {
     "name": "stdout",
     "output_type": "stream",
     "text": [
      "(15419,)\n"
     ]
    }
   ],
   "source": [
    "import pandas as pd\n",
    "import numpy as np\n",
    "from sklearn.model_selection import train_test_split\n",
    "from sklearn.metrics import accuracy_score\n",
    "from sklearn.ensemble import RandomForestClassifier\n",
    "from sklearn.preprocessing import LabelEncoder\n",
    "import matplotlib.pyplot as plt\n",
    "from imblearn.over_sampling import SMOTE \n",
    "from sklearn.metrics import confusion_matrix\n",
    "from sklearn.preprocessing import LabelEncoder\n",
    "from sklearn.metrics import roc_curve, auc\n",
    "\n",
    "car_df = pd.read_csv('newCardata.csv')\n",
    "car_features = pd.read_csv('finalDataPreprocessBinary.csv')\n",
    "car_label = car_df['FraudFound']\n",
    "labelNo = LabelEncoder()\n",
    "car_df['FraudFound'] = labelNo.fit_transform(car_df['FraudFound'].astype('str'))\n",
    "car_label = car_df['FraudFound']\n",
    "print(car_label.shape)\n"
   ]
  },
  {
   "cell_type": "code",
   "execution_count": 11,
   "metadata": {
    "collapsed": false
   },
   "outputs": [],
   "source": [
    "#X_ret,Y_ret = MWMOTE(car_features,car_label,15419,k1 = 5, k2 = 3, k3 = 0.5, C_th = 5, CMAX = 2, C_p = 3, return_mode = 'only')"
   ]
  },
  {
   "cell_type": "code",
   "execution_count": 18,
   "metadata": {
    "collapsed": false
   },
   "outputs": [
    {
     "name": "stdout",
     "output_type": "stream",
     "text": [
      "<class 'pandas.core.frame.DataFrame'>\n"
     ]
    }
   ],
   "source": [
    "print(type(car_features))\n",
    "X = car_features.as_matrix()\n",
    "# X = np.array([[1,1,0],[1,2,1]])\n",
    "# Y = np.array([[1],[0]])\n",
    "Y = car_label.as_matrix()"
   ]
  },
  {
   "cell_type": "code",
   "execution_count": null,
   "metadata": {
    "collapsed": false
   },
   "outputs": [
    {
     "name": "stderr",
     "output_type": "stream",
     "text": [
      "2018-09-17 14:34:20,810 : MWMOTE: Starting with 15419 instances\n",
      "2018-09-17 14:34:20,819 :  Step   0: Computing Knn table\n"
     ]
    }
   ],
   "source": [
    "x,r = MWMOTE(X,Y,15419)"
   ]
  },
  {
   "cell_type": "code",
   "execution_count": 1,
   "metadata": {
    "collapsed": true
   },
   "outputs": [],
   "source": [
    "k3= 0.5\n",
    "k3 = int(round(798*k3))"
   ]
  },
  {
   "cell_type": "code",
   "execution_count": 2,
   "metadata": {
    "collapsed": false
   },
   "outputs": [
    {
     "data": {
      "text/plain": [
       "399"
      ]
     },
     "execution_count": 2,
     "metadata": {},
     "output_type": "execute_result"
    }
   ],
   "source": [
    "k3\n"
   ]
  },
  {
   "cell_type": "code",
   "execution_count": null,
   "metadata": {
    "collapsed": true
   },
   "outputs": [],
   "source": []
  }
 ],
 "metadata": {
  "anaconda-cloud": {},
  "kernelspec": {
   "display_name": "Python [anaconda3]",
   "language": "python",
   "name": "Python [anaconda3]"
  },
  "language_info": {
   "codemirror_mode": {
    "name": "ipython",
    "version": 3
   },
   "file_extension": ".py",
   "mimetype": "text/x-python",
   "name": "python",
   "nbconvert_exporter": "python",
   "pygments_lexer": "ipython3",
   "version": "3.5.5"
  }
 },
 "nbformat": 4,
 "nbformat_minor": 0
}
