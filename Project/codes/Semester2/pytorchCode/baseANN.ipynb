{
 "cells": [
  {
   "cell_type": "code",
   "execution_count": 1,
   "metadata": {},
   "outputs": [],
   "source": [
    "import numpy as np\n",
    "import pandas as pd\n",
    "import torch \n",
    "import torch.nn as nn\n",
    "import torch.nn.functional as F\n",
    "import torch.optim as optim\n",
    "from sklearn.preprocessing import MinMaxScaler\n",
    "from sklearn.model_selection import train_test_split"
   ]
  },
  {
   "cell_type": "code",
   "execution_count": 2,
   "metadata": {},
   "outputs": [
    {
     "name": "stdout",
     "output_type": "stream",
     "text": [
      "<class 'numpy.int64'>\n"
     ]
    }
   ],
   "source": [
    "#read the input\n",
    "carDf= pd.read_csv('newCardata.csv')\n",
    "carDate= pd.read_csv('dataWithDate.csv')\n",
    "carLable= carDate['FraudFound']\n",
    "\n",
    "#drop the Accident Date and Claim Date\n",
    "carDate.drop(['FraudFound'],inplace=True,axis=1)\n",
    "carDate.drop(['AccidentDate'],inplace=True,axis=1)\n",
    "carDate.drop(['ClaimDate'],inplace=True,axis=1)\n",
    "\n",
    "carDate.head()\n",
    "\n",
    "print(type(carLable[0]))"
   ]
  },
  {
   "cell_type": "code",
   "execution_count": 3,
   "metadata": {},
   "outputs": [
    {
     "data": {
      "text/html": [
       "<div>\n",
       "<style scoped>\n",
       "    .dataframe tbody tr th:only-of-type {\n",
       "        vertical-align: middle;\n",
       "    }\n",
       "\n",
       "    .dataframe tbody tr th {\n",
       "        vertical-align: top;\n",
       "    }\n",
       "\n",
       "    .dataframe thead th {\n",
       "        text-align: right;\n",
       "    }\n",
       "</style>\n",
       "<table border=\"1\" class=\"dataframe\">\n",
       "  <thead>\n",
       "    <tr style=\"text-align: right;\">\n",
       "      <th></th>\n",
       "      <th>RepNumber</th>\n",
       "      <th>Deductible</th>\n",
       "      <th>DriverRating</th>\n",
       "      <th>DayDiff</th>\n",
       "    </tr>\n",
       "  </thead>\n",
       "  <tbody>\n",
       "    <tr>\n",
       "      <th>0</th>\n",
       "      <td>12</td>\n",
       "      <td>300</td>\n",
       "      <td>1</td>\n",
       "      <td>0</td>\n",
       "    </tr>\n",
       "    <tr>\n",
       "      <th>1</th>\n",
       "      <td>15</td>\n",
       "      <td>400</td>\n",
       "      <td>4</td>\n",
       "      <td>5</td>\n",
       "    </tr>\n",
       "    <tr>\n",
       "      <th>2</th>\n",
       "      <td>7</td>\n",
       "      <td>400</td>\n",
       "      <td>3</td>\n",
       "      <td>13</td>\n",
       "    </tr>\n",
       "    <tr>\n",
       "      <th>3</th>\n",
       "      <td>4</td>\n",
       "      <td>400</td>\n",
       "      <td>2</td>\n",
       "      <td>20</td>\n",
       "    </tr>\n",
       "    <tr>\n",
       "      <th>4</th>\n",
       "      <td>3</td>\n",
       "      <td>400</td>\n",
       "      <td>1</td>\n",
       "      <td>15</td>\n",
       "    </tr>\n",
       "  </tbody>\n",
       "</table>\n",
       "</div>"
      ],
      "text/plain": [
       "   RepNumber  Deductible  DriverRating  DayDiff\n",
       "0         12         300             1        0\n",
       "1         15         400             4        5\n",
       "2          7         400             3       13\n",
       "3          4         400             2       20\n",
       "4          3         400             1       15"
      ]
     },
     "execution_count": 3,
     "metadata": {},
     "output_type": "execute_result"
    }
   ],
   "source": [
    "\n",
    "#select all the attributes of type object\n",
    "car_object= carDate.select_dtypes(include=['object']).copy()\n",
    "\n",
    "#drop the attributes of type object\n",
    "carDate.drop(carDate.select_dtypes(['object']),inplace=True,axis=1)\n",
    "\n",
    "carDate.head()\n",
    "#print(type(carDate))"
   ]
  },
  {
   "cell_type": "code",
   "execution_count": 4,
   "metadata": {},
   "outputs": [
    {
     "name": "stdout",
     "output_type": "stream",
     "text": [
      "<class 'pandas.core.frame.DataFrame'>\n"
     ]
    }
   ],
   "source": [
    "#one-hot representation preprocessing\n",
    "\n",
    "car_copy = car_object.copy()\n",
    "car_copy = pd.get_dummies(car_copy,columns=['Make'],prefix=['Make'])\n",
    "car_copy = pd.get_dummies(car_copy,columns=['AccidentArea'],prefix=['AccidentArea'])\n",
    "car_copy = pd.get_dummies(car_copy,columns=['Sex'],prefix=['Sex'])\n",
    "car_copy = pd.get_dummies(car_copy,columns=['MaritalStatus'],prefix=['MartalStatus'])\n",
    "car_copy = pd.get_dummies(car_copy,columns=['Fault'],prefix=['Fault'])\n",
    "car_copy = pd.get_dummies(car_copy,columns=['PolicyType'],prefix=['PolicyType'])\n",
    "car_copy = pd.get_dummies(car_copy,columns=['VehiclePrice'],prefix=['VehiclePrice'])\n",
    "car_copy = pd.get_dummies(car_copy,columns=['Days:Policy-Accident'],prefix=['Days:Policy-Accident'])\n",
    "car_copy = pd.get_dummies(car_copy,columns=['Days:Policy-Claim'],prefix=['Days:Policy-Claim'])\n",
    "car_copy = pd.get_dummies(car_copy,columns=['PastNumberOfClaims'],prefix=['PastNumberOfClaims'])\n",
    "car_copy = pd.get_dummies(car_copy,columns=['AgeOfVehicle'],prefix=['AgeOfVehicle'])\n",
    "car_copy = pd.get_dummies(car_copy,columns=['AgeOfPolicyHolder'],prefix=['AgeOfPolicyHolder'])\n",
    "car_copy = pd.get_dummies(car_copy,columns=['PoliceReportFiled'],prefix=['PoliceReportFiled'])\n",
    "car_copy = pd.get_dummies(car_copy,columns=['WitnessPresent'],prefix=['WitnessPresent'])\n",
    "car_copy = pd.get_dummies(car_copy,columns=['AgentType'],prefix=['AgentType'])\n",
    "car_copy = pd.get_dummies(car_copy,columns=['NumberOfSuppliments'],prefix=['NumberOfSuppliments'])\n",
    "car_copy = pd.get_dummies(car_copy,columns=['AddressChange-Claim'],prefix=['AddressChange-Claim'])\n",
    "car_copy = pd.get_dummies(car_copy,columns=['NumberOfCars'],prefix=['NumberOfCars'])\n",
    "\n",
    "car_copy.head()\n",
    "print(type(car_copy))"
   ]
  },
  {
   "cell_type": "code",
   "execution_count": 5,
   "metadata": {},
   "outputs": [
    {
     "data": {
      "text/html": [
       "<div>\n",
       "<style scoped>\n",
       "    .dataframe tbody tr th:only-of-type {\n",
       "        vertical-align: middle;\n",
       "    }\n",
       "\n",
       "    .dataframe tbody tr th {\n",
       "        vertical-align: top;\n",
       "    }\n",
       "\n",
       "    .dataframe thead th {\n",
       "        text-align: right;\n",
       "    }\n",
       "</style>\n",
       "<table border=\"1\" class=\"dataframe\">\n",
       "  <thead>\n",
       "    <tr style=\"text-align: right;\">\n",
       "      <th></th>\n",
       "      <th>Make_Accura</th>\n",
       "      <th>Make_BMW</th>\n",
       "      <th>Make_Chevrolet</th>\n",
       "      <th>Make_Dodge</th>\n",
       "      <th>Make_Ferrari</th>\n",
       "      <th>Make_Ford</th>\n",
       "      <th>Make_Honda</th>\n",
       "      <th>Make_Jaguar</th>\n",
       "      <th>Make_Lexus</th>\n",
       "      <th>Make_Mazda</th>\n",
       "      <th>...</th>\n",
       "      <th>AddressChange-Claim_under 6 months</th>\n",
       "      <th>NumberOfCars_1 vehicle</th>\n",
       "      <th>NumberOfCars_2 vehicles</th>\n",
       "      <th>NumberOfCars_3 to 4</th>\n",
       "      <th>NumberOfCars_5 to 8</th>\n",
       "      <th>NumberOfCars_more than 8</th>\n",
       "      <th>RepNumber</th>\n",
       "      <th>Deductible</th>\n",
       "      <th>DriverRating</th>\n",
       "      <th>DayDiff</th>\n",
       "    </tr>\n",
       "  </thead>\n",
       "  <tbody>\n",
       "    <tr>\n",
       "      <th>0</th>\n",
       "      <td>0</td>\n",
       "      <td>0</td>\n",
       "      <td>0</td>\n",
       "      <td>0</td>\n",
       "      <td>0</td>\n",
       "      <td>0</td>\n",
       "      <td>1</td>\n",
       "      <td>0</td>\n",
       "      <td>0</td>\n",
       "      <td>0</td>\n",
       "      <td>...</td>\n",
       "      <td>0</td>\n",
       "      <td>0</td>\n",
       "      <td>0</td>\n",
       "      <td>1</td>\n",
       "      <td>0</td>\n",
       "      <td>0</td>\n",
       "      <td>12</td>\n",
       "      <td>300</td>\n",
       "      <td>1</td>\n",
       "      <td>0</td>\n",
       "    </tr>\n",
       "    <tr>\n",
       "      <th>1</th>\n",
       "      <td>0</td>\n",
       "      <td>0</td>\n",
       "      <td>0</td>\n",
       "      <td>0</td>\n",
       "      <td>0</td>\n",
       "      <td>0</td>\n",
       "      <td>1</td>\n",
       "      <td>0</td>\n",
       "      <td>0</td>\n",
       "      <td>0</td>\n",
       "      <td>...</td>\n",
       "      <td>0</td>\n",
       "      <td>1</td>\n",
       "      <td>0</td>\n",
       "      <td>0</td>\n",
       "      <td>0</td>\n",
       "      <td>0</td>\n",
       "      <td>15</td>\n",
       "      <td>400</td>\n",
       "      <td>4</td>\n",
       "      <td>5</td>\n",
       "    </tr>\n",
       "    <tr>\n",
       "      <th>2</th>\n",
       "      <td>0</td>\n",
       "      <td>0</td>\n",
       "      <td>0</td>\n",
       "      <td>0</td>\n",
       "      <td>0</td>\n",
       "      <td>0</td>\n",
       "      <td>1</td>\n",
       "      <td>0</td>\n",
       "      <td>0</td>\n",
       "      <td>0</td>\n",
       "      <td>...</td>\n",
       "      <td>0</td>\n",
       "      <td>1</td>\n",
       "      <td>0</td>\n",
       "      <td>0</td>\n",
       "      <td>0</td>\n",
       "      <td>0</td>\n",
       "      <td>7</td>\n",
       "      <td>400</td>\n",
       "      <td>3</td>\n",
       "      <td>13</td>\n",
       "    </tr>\n",
       "  </tbody>\n",
       "</table>\n",
       "<p>3 rows × 97 columns</p>\n",
       "</div>"
      ],
      "text/plain": [
       "   Make_Accura  Make_BMW  Make_Chevrolet  Make_Dodge  Make_Ferrari  Make_Ford  \\\n",
       "0            0         0               0           0             0          0   \n",
       "1            0         0               0           0             0          0   \n",
       "2            0         0               0           0             0          0   \n",
       "\n",
       "   Make_Honda  Make_Jaguar  Make_Lexus  Make_Mazda   ...     \\\n",
       "0           1            0           0           0   ...      \n",
       "1           1            0           0           0   ...      \n",
       "2           1            0           0           0   ...      \n",
       "\n",
       "   AddressChange-Claim_under 6 months  NumberOfCars_1 vehicle  \\\n",
       "0                                   0                       0   \n",
       "1                                   0                       1   \n",
       "2                                   0                       1   \n",
       "\n",
       "   NumberOfCars_2 vehicles  NumberOfCars_3 to 4  NumberOfCars_5 to 8  \\\n",
       "0                        0                    1                    0   \n",
       "1                        0                    0                    0   \n",
       "2                        0                    0                    0   \n",
       "\n",
       "   NumberOfCars_more than 8  RepNumber  Deductible  DriverRating  DayDiff  \n",
       "0                         0         12         300             1        0  \n",
       "1                         0         15         400             4        5  \n",
       "2                         0          7         400             3       13  \n",
       "\n",
       "[3 rows x 97 columns]"
      ]
     },
     "execution_count": 5,
     "metadata": {},
     "output_type": "execute_result"
    }
   ],
   "source": [
    "car_copy['RepNumber']= carDate['RepNumber']\n",
    "car_copy['Deductible']= carDate['Deductible']\n",
    "car_copy['DriverRating']= carDate['DriverRating']\n",
    "car_copy['DayDiff']= carDate['DayDiff']\n",
    "\n",
    "car_copy.head(3)\n"
   ]
  },
  {
   "cell_type": "code",
   "execution_count": 6,
   "metadata": {},
   "outputs": [
    {
     "name": "stdout",
     "output_type": "stream",
     "text": [
      "<class 'pandas.core.frame.DataFrame'>\n"
     ]
    },
    {
     "name": "stderr",
     "output_type": "stream",
     "text": [
      "/usr/local/anaconda35/lib/python3.6/site-packages/sklearn/preprocessing/data.py:323: DataConversionWarning: Data with input dtype uint8, int64 were all converted to float64 by MinMaxScaler.\n",
      "  return self.partial_fit(X, y)\n"
     ]
    }
   ],
   "source": [
    "#normalization of feature to bring the value in the range [0,1]\n",
    "minMaxScale = MinMaxScaler()\n",
    "carDateNormalized = minMaxScale.fit_transform(car_copy)\n",
    "#print(car_df_Scale)\n",
    "\n",
    "#converting numpyarry to dataframe\n",
    "carDateNormalized = pd.DataFrame(carDateNormalized)\n",
    "carDateNormalized.head(3)\n",
    "print(type(carDateNormalized))"
   ]
  },
  {
   "cell_type": "code",
   "execution_count": 7,
   "metadata": {},
   "outputs": [],
   "source": [
    "#save to the normalized\n",
    "#carDateNormalized.to_csv('finalNormalizedOneHot.csv',sep=' ',encoding='utf-8')"
   ]
  },
  {
   "cell_type": "code",
   "execution_count": 8,
   "metadata": {},
   "outputs": [
    {
     "name": "stdout",
     "output_type": "stream",
     "text": [
      "<class 'numpy.ndarray'>\n"
     ]
    }
   ],
   "source": [
    "carArray= carDateNormalized.values\n",
    "labels= carLable.values\n",
    "print(type(carArray))"
   ]
  },
  {
   "cell_type": "code",
   "execution_count": 9,
   "metadata": {},
   "outputs": [],
   "source": [
    "#build the own data loader\n"
   ]
  },
  {
   "cell_type": "code",
   "execution_count": 10,
   "metadata": {},
   "outputs": [],
   "source": [
    "#create the class Dataset which returns the data and labels\n",
    "from torch.utils.data.dataset import Dataset, TensorDataset\n",
    "class myDataset(Dataset):\n",
    "    \n",
    "    def __init__(self,features,lables,transform= None):\n",
    "        dataTensor= []\n",
    "        lableTensor= []\n",
    "        dataSize= features.shape[0]\n",
    "        \n",
    "        for data in range(dataSize):\n",
    "            feature= features[data,:]\n",
    "            #feature= torch.from_numpy(feature).float()\n",
    "            feature= torch.Tensor(feature)\n",
    "            dataTensor.append(feature)\n",
    "            \n",
    "            lable= np.asanyarray(lables[data])\n",
    "            lable= torch.from_numpy(lable).float()\n",
    "           \n",
    "            #lable= torch.Tensor(lable)\n",
    "            #print(\"lable:\",lable)\n",
    "            #assert(False)\n",
    "           \n",
    "            lableTensor.append(lable)\n",
    "        \n",
    "        #put everything in features and lables\n",
    "        self.features= dataTensor\n",
    "        self.lables= lableTensor\n",
    "    \n",
    "    \n",
    "    def __len__(self):\n",
    "        return len(self.features)\n",
    "    \n",
    "    def __getitem__(self,index):\n",
    "        \n",
    "        feature= self.features[index]\n",
    "        lable= self.lables[index]\n",
    "        #print(\"get_item feature:\",feature)\n",
    "        #print(\"get_item lable:\",lable)\n",
    "        return feature,lable"
   ]
  },
  {
   "cell_type": "code",
   "execution_count": 11,
   "metadata": {},
   "outputs": [
    {
     "name": "stdout",
     "output_type": "stream",
     "text": [
      "xtrain: <class 'numpy.ndarray'>\n"
     ]
    }
   ],
   "source": [
    "#split the dataset into two part train and test\n",
    "X_train,X_test,y_train,y_test = train_test_split(carArray,labels,random_state=3,test_size=0.25)\n",
    "print('xtrain:',type(X_train))"
   ]
  },
  {
   "cell_type": "code",
   "execution_count": 12,
   "metadata": {},
   "outputs": [],
   "source": [
    "#make the dataset for train and test loader\n",
    "mytrainDataset= myDataset(X_train,y_train)\n",
    "mytestDataset= myDataset(X_test,y_test)\n",
    "\n"
   ]
  },
  {
   "cell_type": "code",
   "execution_count": 13,
   "metadata": {},
   "outputs": [
    {
     "name": "stdout",
     "output_type": "stream",
     "text": [
      "feature: tensor([0.0000, 0.0000, 0.0000, 0.0000, 0.0000, 0.0000, 0.0000, 0.0000, 0.0000,\n",
      "        1.0000, 0.0000, 0.0000, 0.0000, 0.0000, 0.0000, 0.0000, 0.0000, 0.0000,\n",
      "        0.0000, 0.0000, 1.0000, 1.0000, 0.0000, 0.0000, 0.0000, 1.0000, 0.0000,\n",
      "        1.0000, 0.0000, 0.0000, 0.0000, 1.0000, 0.0000, 0.0000, 0.0000, 0.0000,\n",
      "        0.0000, 0.0000, 1.0000, 0.0000, 0.0000, 0.0000, 0.0000, 0.0000, 0.0000,\n",
      "        0.0000, 0.0000, 1.0000, 0.0000, 0.0000, 0.0000, 1.0000, 1.0000, 0.0000,\n",
      "        0.0000, 0.0000, 1.0000, 0.0000, 0.0000, 0.0000, 0.0000, 0.0000, 0.0000,\n",
      "        0.0000, 0.0000, 0.0000, 1.0000, 0.0000, 0.0000, 0.0000, 0.0000, 0.0000,\n",
      "        0.0000, 1.0000, 0.0000, 1.0000, 0.0000, 1.0000, 0.0000, 0.0000, 0.0000,\n",
      "        0.0000, 1.0000, 0.0000, 0.0000, 0.0000, 1.0000, 0.0000, 1.0000, 0.0000,\n",
      "        0.0000, 0.0000, 0.0000, 0.2667, 0.2500, 1.0000, 0.0054])\n",
      "lable: tensor(0.)\n",
      "torch.Size([97])\n"
     ]
    }
   ],
   "source": [
    "feature,lable= mytrainDataset.__getitem__(0)\n",
    "print(\"feature:\",feature)\n",
    "print(\"lable:\",lable)\n",
    "print(feature.size())"
   ]
  },
  {
   "cell_type": "code",
   "execution_count": 14,
   "metadata": {},
   "outputs": [],
   "source": [
    "\n",
    "trainLoader= torch.utils.data.DataLoader(mytrainDataset,batch_size=4,shuffle=True,num_workers=0)\n",
    "testLoader= torch.utils.data.DataLoader(mytestDataset,batch_size=4,shuffle=True,num_workers=0)\n"
   ]
  },
  {
   "cell_type": "code",
   "execution_count": 15,
   "metadata": {},
   "outputs": [],
   "source": [
    "#network architecture\n",
    "class ANN(torch.nn.Module):\n",
    "    def __init__(self):\n",
    "        super(ANN,self).__init__()\n",
    "        self.fc1= nn.Linear(97,6)\n",
    "        self.fc2= nn.Linear(6,7)\n",
    "        self.fc3= nn.Linear(7,9)\n",
    "        self.fc4= nn.Linear(9,4)\n",
    "        self.fc5= nn.Linear(4,5)\n",
    "        self.fc6= nn.Linear(5,4)\n",
    "        self.fc7= nn.Linear(4,4)\n",
    "        self.fc8= nn.Linear(4,2)\n",
    "        \n",
    "    \n",
    "    def forward(self,x):\n",
    "        x= self.fc1(x)\n",
    "        x= F.relu(x)\n",
    "        x= self.fc2(x)\n",
    "        x= F.relu(x)\n",
    "        x= self.fc3(x)\n",
    "        x= F.relu(x)\n",
    "        x= self.fc4(x)\n",
    "        x= F.relu(x)\n",
    "        x= self.fc5(x)\n",
    "        x= F.relu(x)\n",
    "        x= self.fc6(x)\n",
    "        x= F.relu(x)\n",
    "        x= self.fc7(x)\n",
    "        x= F.relu(x)\n",
    "        x= self.fc8(x)\n",
    "        x= F.sigmoid(x)\n",
    "        return x\n",
    "        "
   ]
  },
  {
   "cell_type": "code",
   "execution_count": 16,
   "metadata": {},
   "outputs": [
    {
     "name": "stdout",
     "output_type": "stream",
     "text": [
      "cuda:0\n"
     ]
    }
   ],
   "source": [
    "#code on GPU\n",
    "device = torch.device(\"cuda:0\" if torch.cuda.is_available() else \"cpu\")\n",
    "print(device)\n",
    "model= ANN()\n",
    "model= model.to(device)"
   ]
  },
  {
   "cell_type": "code",
   "execution_count": 17,
   "metadata": {},
   "outputs": [],
   "source": [
    "#define a loss function\n",
    "criterion= nn.CrossEntropyLoss()\n",
    "optimizer= optim.SGD(model.parameters(),lr=0.01,momentum = 0.9)\n",
    "criterion= criterion.to(device) "
   ]
  },
  {
   "cell_type": "code",
   "execution_count": 25,
   "metadata": {},
   "outputs": [],
   "source": [
    "def testModle(model,epochNo):\n",
    "    correct= 0\n",
    "    total= 0\n",
    "    lableList= []\n",
    "    predictedList= []\n",
    "    #lableList= lableList.to(device)\n",
    "    #predictedList= predictedList.to(device)\n",
    "    for i,(feature,lable) in enumerate(testLoader,0):\n",
    "            #gets the inputs\n",
    "            inputs= feature\n",
    "            lables= lable\n",
    "            lables= lables.type(torch.LongTensor)\n",
    "            \n",
    "            inputs = inputs.to(device)\n",
    "            lables = lables.to(device)\n",
    "\n",
    "            output= model(inputs)\n",
    "            _,prediction= torch.max(output.data,1)\n",
    "            correct += (prediction == lables).sum()\n",
    "\n",
    "            total+= lables.size(0)\n",
    "            lableList.append(lables)\n",
    "            predictedList.append(prediction)\n",
    "\n",
    "       \n",
    "    \n",
    "    trueLable= []\n",
    "    predictedLable= []\n",
    "    listLength= len(lableList)\n",
    "    \n",
    "    for i in range(listLength):\n",
    "        size= len(lableList[i])\n",
    "        for j in range(size):\n",
    "            trueLable.append(lableList[i][j].cpu().numpy())\n",
    "            predictedLable.append(predictedList[i][j].cpu().numpy())\n",
    "    totalLength= len(trueLable)\n",
    "    TP=FP=FN=TN= 0\n",
    "    for i in range(totalLength):\n",
    "        if(trueLable[i]==1 and predictedLable[i]==1):\n",
    "            TP += 1\n",
    "        elif(trueLable[i]==1 and predictedLable[i]==0):\n",
    "            FN += 1\n",
    "        elif(trueLable[i]==0 and predictedLable[i]==0):\n",
    "            TN += 1\n",
    "        elif(trueLable[i]==0 and predictedLable[i]==1):\n",
    "            FP += 1\n",
    "    print(\"\\nResult for epoch: \",epochNo)\n",
    "    print(\"Accuracy:\",(TP+TN)/(TP+FP+FN+TN)*100)\n",
    "    print(\"Sensitivity:\",TP/(TP+FN)*100)\n",
    "    print(\"Specificity:\",TN/(TN+FP)*100)\n",
    "    print(\"\\n\")\n",
    "\n",
    "    print(\"\\nTP:\",TP)\n",
    "    print(\"\\nFN:\",FN)\n",
    "    print(\"\\nFP:\",FP)\n",
    "    print(\"\\nTN:\",TN)\n"
   ]
  },
  {
   "cell_type": "code",
   "execution_count": 19,
   "metadata": {},
   "outputs": [
    {
     "name": "stderr",
     "output_type": "stream",
     "text": [
      "/usr/local/anaconda35/lib/python3.6/site-packages/torch/nn/functional.py:1006: UserWarning: nn.functional.sigmoid is deprecated. Use torch.sigmoid instead.\n",
      "  warnings.warn(\"nn.functional.sigmoid is deprecated. Use torch.sigmoid instead.\")\n"
     ]
    },
    {
     "name": "stdout",
     "output_type": "stream",
     "text": [
      "[1,     1] loss: 0.001\n",
      "[1,  1001] loss: 0.405\n",
      "[1,  2001] loss: 0.375\n",
      "\n",
      "Result for epoch:  1\n",
      "Accuracy: 93.61867704280155\n",
      "Sensitivity: 0.0\n",
      "Specificity: 100.0\n",
      "\n",
      "\n",
      "[2,     1] loss: 0.001\n",
      "[2,  1001] loss: 0.368\n",
      "[2,  2001] loss: 0.372\n",
      "\n",
      "Result for epoch:  2\n",
      "Accuracy: 93.61867704280155\n",
      "Sensitivity: 0.0\n",
      "Specificity: 100.0\n",
      "\n",
      "\n",
      "[3,     1] loss: 0.000\n",
      "[3,  1001] loss: 0.372\n",
      "[3,  2001] loss: 0.372\n",
      "\n",
      "Result for epoch:  3\n",
      "Accuracy: 93.61867704280155\n",
      "Sensitivity: 0.0\n",
      "Specificity: 100.0\n",
      "\n",
      "\n",
      "[4,     1] loss: 0.000\n",
      "[4,  1001] loss: 0.375\n",
      "[4,  2001] loss: 0.368\n",
      "\n",
      "Result for epoch:  4\n",
      "Accuracy: 93.61867704280155\n",
      "Sensitivity: 0.0\n",
      "Specificity: 100.0\n",
      "\n",
      "\n",
      "[5,     1] loss: 0.001\n",
      "[5,  1001] loss: 0.373\n",
      "[5,  2001] loss: 0.372\n",
      "\n",
      "Result for epoch:  5\n",
      "Accuracy: 93.61867704280155\n",
      "Sensitivity: 0.0\n",
      "Specificity: 100.0\n",
      "\n",
      "\n",
      "[6,     1] loss: 0.000\n",
      "[6,  1001] loss: 0.372\n",
      "[6,  2001] loss: 0.371\n",
      "\n",
      "Result for epoch:  6\n",
      "Accuracy: 93.61867704280155\n",
      "Sensitivity: 0.0\n",
      "Specificity: 100.0\n",
      "\n",
      "\n",
      "[7,     1] loss: 0.000\n",
      "[7,  1001] loss: 0.371\n",
      "[7,  2001] loss: 0.378\n",
      "\n",
      "Result for epoch:  7\n",
      "Accuracy: 93.61867704280155\n",
      "Sensitivity: 0.0\n",
      "Specificity: 100.0\n",
      "\n",
      "\n",
      "[8,     1] loss: 0.000\n",
      "[8,  1001] loss: 0.370\n",
      "[8,  2001] loss: 0.376\n",
      "\n",
      "Result for epoch:  8\n",
      "Accuracy: 93.61867704280155\n",
      "Sensitivity: 0.0\n",
      "Specificity: 100.0\n",
      "\n",
      "\n",
      "[9,     1] loss: 0.001\n",
      "[9,  1001] loss: 0.374\n",
      "[9,  2001] loss: 0.373\n",
      "\n",
      "Result for epoch:  9\n",
      "Accuracy: 93.61867704280155\n",
      "Sensitivity: 0.0\n",
      "Specificity: 100.0\n",
      "\n",
      "\n",
      "[10,     1] loss: 0.000\n",
      "[10,  1001] loss: 0.372\n",
      "[10,  2001] loss: 0.371\n",
      "\n",
      "Result for epoch:  10\n",
      "Accuracy: 93.61867704280155\n",
      "Sensitivity: 0.0\n",
      "Specificity: 100.0\n",
      "\n",
      "\n",
      "finished Training\n"
     ]
    }
   ],
   "source": [
    "#tarin the network\n",
    "for epoch in range(10):\n",
    "    running_loss = 0.0\n",
    "    for i,(feature,lable) in enumerate(trainLoader,0):\n",
    "        #gets the inputs\n",
    "                \n",
    "        inputs= torch.tensor(feature, requires_grad=True)\n",
    "        lables= torch.tensor(lable, requires_grad=True)\n",
    "        lables= lables.type(torch.LongTensor)\n",
    "        \n",
    "        inputs = inputs.to(device)\n",
    "        lables = lables.to(device)\n",
    "        \n",
    "        #zero the parameter gradients\n",
    "        optimizer.zero_grad()\n",
    "        \n",
    "        #forward+backward+optimize\n",
    "        output = model(inputs)\n",
    "        loss = criterion(output,lables)\n",
    "        loss.backward()\n",
    "        optimizer.step()\n",
    "        \n",
    "        #print the statistics\n",
    "        running_loss += loss.item()\n",
    "        if i%1000 == 0:              #print every 2000 mini-batches\n",
    "            print('[%d, %5d] loss: %.3f' %\n",
    "                  (epoch + 1, i + 1, running_loss / 1000))\n",
    "            running_loss = 0.0\n",
    "    testModle(model,epoch+1)\n",
    "        \n",
    "print(\"finished Training\")\n"
   ]
  },
  {
   "cell_type": "code",
   "execution_count": null,
   "metadata": {},
   "outputs": [],
   "source": []
  },
  {
   "cell_type": "code",
   "execution_count": 26,
   "metadata": {},
   "outputs": [
    {
     "name": "stderr",
     "output_type": "stream",
     "text": [
      "/usr/local/anaconda35/lib/python3.6/site-packages/torch/nn/functional.py:1006: UserWarning: nn.functional.sigmoid is deprecated. Use torch.sigmoid instead.\n",
      "  warnings.warn(\"nn.functional.sigmoid is deprecated. Use torch.sigmoid instead.\")\n"
     ]
    },
    {
     "name": "stdout",
     "output_type": "stream",
     "text": [
      "\n",
      "Result for epoch:  1\n",
      "Accuracy: 93.61867704280155\n",
      "Sensitivity: 0.0\n",
      "Specificity: 100.0\n",
      "\n",
      "\n",
      "\n",
      "TP: 0\n",
      "\n",
      "FN: 246\n",
      "\n",
      "FP: 0\n",
      "\n",
      "TN: 3609\n"
     ]
    }
   ],
   "source": [
    "#train on the training set\n",
    "testModle(model,1);"
   ]
  },
  {
   "cell_type": "code",
   "execution_count": null,
   "metadata": {},
   "outputs": [],
   "source": []
  }
 ],
 "metadata": {
  "kernelspec": {
   "display_name": "Python 3",
   "language": "python",
   "name": "python3"
  },
  "language_info": {
   "codemirror_mode": {
    "name": "ipython",
    "version": 3
   },
   "file_extension": ".py",
   "mimetype": "text/x-python",
   "name": "python",
   "nbconvert_exporter": "python",
   "pygments_lexer": "ipython3",
   "version": "3.6.4"
  }
 },
 "nbformat": 4,
 "nbformat_minor": 2
}
