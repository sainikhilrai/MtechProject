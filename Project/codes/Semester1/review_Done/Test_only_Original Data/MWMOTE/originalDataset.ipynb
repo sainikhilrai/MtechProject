{
 "cells": [
  {
   "cell_type": "code",
   "execution_count": 1,
   "metadata": {
    "collapsed": false
   },
   "outputs": [
    {
     "name": "stderr",
     "output_type": "stream",
     "text": [
      "/usr/local/anaconda3/lib/python3.5/site-packages/sklearn/utils/fixes.py:313: FutureWarning: numpy not_equal will not check object identity in the future. The comparison did not return the same result as suggested by the identity (`is`)) and will change.\n",
      "  _nan_object_mask = _nan_object_array != _nan_object_array\n"
     ]
    }
   ],
   "source": [
    "import pandas as pd\n",
    "import numpy as np\n",
    "from sklearn.model_selection import train_test_split\n",
    "from sklearn.metrics import accuracy_score\n",
    "from sklearn.ensemble import RandomForestClassifier\n",
    "from sklearn.preprocessing import LabelEncoder\n",
    "import matplotlib.pyplot as plt\n",
    "from sklearn.metrics import confusion_matrix\n",
    "from sklearn.preprocessing import LabelEncoder\n",
    "from sklearn.metrics import roc_curve, auc\n",
    "import math\n"
   ]
  },
  {
   "cell_type": "code",
   "execution_count": 2,
   "metadata": {
    "collapsed": false
   },
   "outputs": [
    {
     "name": "stdout",
     "output_type": "stream",
     "text": [
      "(15419, 52)\n"
     ]
    }
   ],
   "source": [
    "#Read the data into dataframe\n",
    "\n",
    "car_feature= pd.read_csv('finalDataPreprocessBinary_Normalized.csv')\n",
    "columnfeature= list(car_feature.columns.values)\n",
    "print(car_feature.shape)"
   ]
  },
  {
   "cell_type": "code",
   "execution_count": null,
   "metadata": {
    "collapsed": false
   },
   "outputs": [],
   "source": []
  },
  {
   "cell_type": "code",
   "execution_count": null,
   "metadata": {
    "collapsed": false
   },
   "outputs": [],
   "source": [
    "#train the model\n",
    "#combine_car_feature= 28000 ADSYN\n",
    "X_train,X_test,y_train,y_test = train_test_split(combine_car_features,combine_car_label,random_state=100,test_size=0.30)"
   ]
  },
  {
   "cell_type": "code",
   "execution_count": 9,
   "metadata": {
    "collapsed": false
   },
   "outputs": [
    {
     "name": "stdout",
     "output_type": "stream",
     "text": [
      "MwMote generated X_test  and y_test ((8698, 52), (8698, 1))\n",
      "(0, 52)\n",
      "(28992, 52)\n",
      "Total number of fraudulent claims in original data: 923\n"
     ]
    },
    {
     "data": {
      "text/html": [
       "<div>\n",
       "<table border=\"1\" class=\"dataframe\">\n",
       "  <thead>\n",
       "    <tr style=\"text-align: right;\">\n",
       "      <th></th>\n",
       "      <th>Make_0</th>\n",
       "      <th>Make_1</th>\n",
       "      <th>Make_2</th>\n",
       "      <th>Make_3</th>\n",
       "      <th>Make_4</th>\n",
       "      <th>MaritalStatus_0</th>\n",
       "      <th>MaritalStatus_1</th>\n",
       "      <th>PolicyType_0</th>\n",
       "      <th>PolicyType_1</th>\n",
       "      <th>PolicyType_2</th>\n",
       "      <th>...</th>\n",
       "      <th>PoliceReportFiled_No</th>\n",
       "      <th>PoliceReportFiled_Yes</th>\n",
       "      <th>WitnessPresent_No</th>\n",
       "      <th>WitnessPresent_Yes</th>\n",
       "      <th>AgentType_External</th>\n",
       "      <th>AgentType_Internal</th>\n",
       "      <th>RepNumber</th>\n",
       "      <th>Deductible</th>\n",
       "      <th>DriverRating</th>\n",
       "      <th>DayDiff</th>\n",
       "    </tr>\n",
       "  </thead>\n",
       "  <tbody>\n",
       "    <tr>\n",
       "      <th>0</th>\n",
       "      <td>0.0</td>\n",
       "      <td>0.0</td>\n",
       "      <td>0.0</td>\n",
       "      <td>0.0</td>\n",
       "      <td>0.0</td>\n",
       "      <td>0.0</td>\n",
       "      <td>0.0</td>\n",
       "      <td>0.0</td>\n",
       "      <td>1.0</td>\n",
       "      <td>0.0</td>\n",
       "      <td>...</td>\n",
       "      <td>1.0</td>\n",
       "      <td>0.0</td>\n",
       "      <td>1.0</td>\n",
       "      <td>0.0</td>\n",
       "      <td>1.0</td>\n",
       "      <td>0.0</td>\n",
       "      <td>0.533333</td>\n",
       "      <td>0.25</td>\n",
       "      <td>0.000000</td>\n",
       "      <td>0.217391</td>\n",
       "    </tr>\n",
       "    <tr>\n",
       "      <th>1</th>\n",
       "      <td>0.0</td>\n",
       "      <td>0.0</td>\n",
       "      <td>0.0</td>\n",
       "      <td>0.0</td>\n",
       "      <td>0.0</td>\n",
       "      <td>0.0</td>\n",
       "      <td>1.0</td>\n",
       "      <td>0.0</td>\n",
       "      <td>0.0</td>\n",
       "      <td>0.0</td>\n",
       "      <td>...</td>\n",
       "      <td>1.0</td>\n",
       "      <td>0.0</td>\n",
       "      <td>1.0</td>\n",
       "      <td>0.0</td>\n",
       "      <td>1.0</td>\n",
       "      <td>0.0</td>\n",
       "      <td>0.200000</td>\n",
       "      <td>0.25</td>\n",
       "      <td>1.000000</td>\n",
       "      <td>0.000000</td>\n",
       "    </tr>\n",
       "    <tr>\n",
       "      <th>2</th>\n",
       "      <td>0.0</td>\n",
       "      <td>0.0</td>\n",
       "      <td>0.0</td>\n",
       "      <td>0.0</td>\n",
       "      <td>0.0</td>\n",
       "      <td>0.0</td>\n",
       "      <td>1.0</td>\n",
       "      <td>0.0</td>\n",
       "      <td>1.0</td>\n",
       "      <td>0.0</td>\n",
       "      <td>...</td>\n",
       "      <td>1.0</td>\n",
       "      <td>0.0</td>\n",
       "      <td>1.0</td>\n",
       "      <td>0.0</td>\n",
       "      <td>1.0</td>\n",
       "      <td>0.0</td>\n",
       "      <td>0.800000</td>\n",
       "      <td>0.25</td>\n",
       "      <td>0.000000</td>\n",
       "      <td>0.048913</td>\n",
       "    </tr>\n",
       "    <tr>\n",
       "      <th>3</th>\n",
       "      <td>0.0</td>\n",
       "      <td>0.0</td>\n",
       "      <td>0.0</td>\n",
       "      <td>0.0</td>\n",
       "      <td>0.0</td>\n",
       "      <td>0.0</td>\n",
       "      <td>0.0</td>\n",
       "      <td>0.0</td>\n",
       "      <td>0.0</td>\n",
       "      <td>0.0</td>\n",
       "      <td>...</td>\n",
       "      <td>1.0</td>\n",
       "      <td>0.0</td>\n",
       "      <td>1.0</td>\n",
       "      <td>0.0</td>\n",
       "      <td>1.0</td>\n",
       "      <td>0.0</td>\n",
       "      <td>0.400000</td>\n",
       "      <td>0.25</td>\n",
       "      <td>0.666667</td>\n",
       "      <td>0.000000</td>\n",
       "    </tr>\n",
       "    <tr>\n",
       "      <th>4</th>\n",
       "      <td>0.0</td>\n",
       "      <td>0.0</td>\n",
       "      <td>0.0</td>\n",
       "      <td>0.0</td>\n",
       "      <td>1.0</td>\n",
       "      <td>0.0</td>\n",
       "      <td>1.0</td>\n",
       "      <td>0.0</td>\n",
       "      <td>1.0</td>\n",
       "      <td>0.0</td>\n",
       "      <td>...</td>\n",
       "      <td>1.0</td>\n",
       "      <td>0.0</td>\n",
       "      <td>1.0</td>\n",
       "      <td>0.0</td>\n",
       "      <td>1.0</td>\n",
       "      <td>0.0</td>\n",
       "      <td>0.400000</td>\n",
       "      <td>0.25</td>\n",
       "      <td>0.333333</td>\n",
       "      <td>0.000000</td>\n",
       "    </tr>\n",
       "  </tbody>\n",
       "</table>\n",
       "<p>5 rows × 52 columns</p>\n",
       "</div>"
      ],
      "text/plain": [
       "   Make_0  Make_1  Make_2  Make_3  Make_4  MaritalStatus_0  MaritalStatus_1  \\\n",
       "0     0.0     0.0     0.0     0.0     0.0              0.0              0.0   \n",
       "1     0.0     0.0     0.0     0.0     0.0              0.0              1.0   \n",
       "2     0.0     0.0     0.0     0.0     0.0              0.0              1.0   \n",
       "3     0.0     0.0     0.0     0.0     0.0              0.0              0.0   \n",
       "4     0.0     0.0     0.0     0.0     1.0              0.0              1.0   \n",
       "\n",
       "   PolicyType_0  PolicyType_1  PolicyType_2    ...     PoliceReportFiled_No  \\\n",
       "0           0.0           1.0           0.0    ...                      1.0   \n",
       "1           0.0           0.0           0.0    ...                      1.0   \n",
       "2           0.0           1.0           0.0    ...                      1.0   \n",
       "3           0.0           0.0           0.0    ...                      1.0   \n",
       "4           0.0           1.0           0.0    ...                      1.0   \n",
       "\n",
       "   PoliceReportFiled_Yes  WitnessPresent_No  WitnessPresent_Yes  \\\n",
       "0                    0.0                1.0                 0.0   \n",
       "1                    0.0                1.0                 0.0   \n",
       "2                    0.0                1.0                 0.0   \n",
       "3                    0.0                1.0                 0.0   \n",
       "4                    0.0                1.0                 0.0   \n",
       "\n",
       "   AgentType_External  AgentType_Internal  RepNumber  Deductible  \\\n",
       "0                 1.0                 0.0   0.533333        0.25   \n",
       "1                 1.0                 0.0   0.200000        0.25   \n",
       "2                 1.0                 0.0   0.800000        0.25   \n",
       "3                 1.0                 0.0   0.400000        0.25   \n",
       "4                 1.0                 0.0   0.400000        0.25   \n",
       "\n",
       "   DriverRating   DayDiff  \n",
       "0      0.000000  0.217391  \n",
       "1      1.000000  0.000000  \n",
       "2      0.000000  0.048913  \n",
       "3      0.666667  0.000000  \n",
       "4      0.333333  0.000000  \n",
       "\n",
       "[5 rows x 52 columns]"
      ]
     },
     "execution_count": 9,
     "metadata": {},
     "output_type": "execute_result"
    }
   ],
   "source": [
    "#testing only on the original test data\n",
    "from numpy import linalg as LA\n",
    "\n",
    "\n",
    "#find the all the fradulent claims in the dataset\n",
    "\n",
    "\n",
    "fraudulentClaims= pd.DataFrame(columns=columnfeature)\n",
    "fraudLabel= pd.DataFrame(columns=['label'])\n",
    "\n",
    "car_feature= car_feature.values  # spectral_representation of original data 15K\n",
    "\n",
    "\n",
    "print(fraudulentClaims.shape)\n",
    "\n",
    "\n",
    "j= 0\n",
    "for i in range(car_feature.shape[0]):\n",
    "    data= car_feature[i]\n",
    "    #print(data.shape)\n",
    "    if labels[i]==1:\n",
    "        fraudulentClaims.loc[j]=[data[k] for k in range(data.shape[0])] \n",
    "        fraudLabel.loc[j]= 1\n",
    "        j += 1\n",
    "print(\"Total number of fraudulent claims in original data:\",fraudulentClaims.shape[0])\n",
    "\n",
    "fraudulentClaims.head()\n",
    "#print(y_test[1000])"
   ]
  },
  {
   "cell_type": "code",
   "execution_count": 10,
   "metadata": {
    "collapsed": false
   },
   "outputs": [],
   "source": [
    "mod_X_test= X_test.values #\n",
    "mod_y_test= y_test.values\n",
    "fraudulentClaims= fraudulentClaims.values"
   ]
  },
  {
   "cell_type": "code",
   "execution_count": null,
   "metadata": {
    "collapsed": false
   },
   "outputs": [],
   "source": [
    "\n",
    "#remove the smote generated sample from the test set.\n",
    "k= 0\n",
    "index= []\n",
    "\n",
    "\n",
    "#make empty dataframes for storing the new test data\n",
    "new_X_test= pd.DataFrame(columns=columnfeature)\n",
    "new_y_test= pd.DataFrame(columns=['label'])\n",
    "\n",
    "print(new_X_test.shape)\n",
    "#convert numpy array to pd.DataFrame\n",
    "#X_test= pd.DataFrame(X_test)\n",
    "\n",
    "print(type(mod_X_test))\n",
    "print(type(mod_y_test))\n",
    "i=0\n",
    "\n",
    "for i in range(mod_X_test.shape[0]):\n",
    "#for i in range(100):\n",
    "    element= mod_X_test[i]\n",
    "    #print(element.shape)\n",
    "    \n",
    "    if (int(mod_y_test[i])==1):\n",
    "        #print(\"Inside condition y_test== 1, y_test[i] is:\",y_test[i])\n",
    "        for j in range(fraudulentClaims.shape[0]):\n",
    "            #data = pd.Series(element).values\n",
    "            \n",
    "            #fraudClaims= fraudulentClaims.loc[j]\n",
    "            fraudClaims= fraudulentClaims[j]\n",
    "            \n",
    "            #fraudClaims= pd.Series(fraudClaims).values\n",
    "            \n",
    "            euclidean_distance= LA.norm(element-fraudClaims,2)   #calculate the euclidean distance\n",
    "\n",
    "            if (euclidean_distance == 0):\n",
    "                index.append(i)\n",
    "                new_X_test.loc[k]= [element[elm] for elm in range(element.shape[0])]\n",
    "                #print(\"After euclidean distance==0, y_test[i] is:\",y_test[i])\n",
    "                new_y_test.loc[k]= mod_y_test[i]\n",
    "                print(\"Euclidean distance 0\")\n",
    "                break\n",
    "    else:\n",
    "        new_X_test.loc[k]= [element[elm] for elm in range(element.shape[0])]\n",
    "        #print(\"Else condition, y_test[i]:\",y_test[i])\n",
    "        new_y_test.loc[k]= mod_y_test[i]\n",
    "    k += 1\n",
    "    "
   ]
  },
  {
   "cell_type": "code",
   "execution_count": null,
   "metadata": {
    "collapsed": true
   },
   "outputs": [],
   "source": []
  },
  {
   "cell_type": "code",
   "execution_count": null,
   "metadata": {
    "collapsed": false
   },
   "outputs": [],
   "source": [
    "#find the original test set from smote generated dataset\n",
    "#change the dataframe into numpy array\n",
    "md_X_test= new_X_test.values\n",
    "md_y_test= new_y_test.values\n",
    "\n"
   ]
  },
  {
   "cell_type": "code",
   "execution_count": null,
   "metadata": {
    "collapsed": true
   },
   "outputs": [],
   "source": []
  },
  {
   "cell_type": "code",
   "execution_count": null,
   "metadata": {
    "collapsed": false
   },
   "outputs": [],
   "source": [
    "#train the model with new modified test set\n",
    "#build the model\n",
    "clf= RandomForestClassifier(n_estimators=100) \n",
    "\n",
    "#train the model\n",
    "model= clf.fit(X_train,y_train)\n",
    "\n",
    "#test the model and find model's performance metric\n",
    "#predicted= model.predict(mod_X_test)\n",
    "predicted= model.predict(md_X_test)\n",
    "\n",
    "# calculating specifity and sensitivity\n",
    "# 0  := Negative(FraudNotFound)\n",
    "# 1 := Positive (FraudFound)\n",
    "#cm = confusion_matrix(mod_y_test,predicted)\n",
    "cm = confusion_matrix(md_y_test,predicted)\n",
    "\n",
    "print(\"Confusion Matrix:\\n\",cm)\n",
    "TN, FP, FN, TP = cm.ravel()\n",
    "\n",
    "print(\"TN:\",TN)\n",
    "print(\"FP:\",FP)\n",
    "print(\"FN:\",FN)\n",
    "print(\"TP:\",TP)\n",
    "\n",
    "print(\"Accuracy:\",(TP+TN)/(TP+FP+FN+TN)*100)\n",
    "print(\"Sensitivity:\",TP/(TP+FN)*100)\n",
    "print(\"Specificity:\",TN/(TN+FP)*100)"
   ]
  },
  {
   "cell_type": "code",
   "execution_count": null,
   "metadata": {
    "collapsed": true
   },
   "outputs": [],
   "source": []
  }
 ],
 "metadata": {
  "kernelspec": {
   "display_name": "Python [anaconda3]",
   "language": "python",
   "name": "Python [anaconda3]"
  },
  "language_info": {
   "codemirror_mode": {
    "name": "ipython",
    "version": 3
   },
   "file_extension": ".py",
   "mimetype": "text/x-python",
   "name": "python",
   "nbconvert_exporter": "python",
   "pygments_lexer": "ipython3",
   "version": "3.5.5"
  }
 },
 "nbformat": 4,
 "nbformat_minor": 0
}
