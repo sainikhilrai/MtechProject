{
 "cells": [
  {
   "cell_type": "code",
   "execution_count": 1,
   "metadata": {
    "collapsed": false
   },
   "outputs": [
    {
     "name": "stderr",
     "output_type": "stream",
     "text": [
      "/usr/local/anaconda3/lib/python3.5/site-packages/sklearn/utils/fixes.py:313: FutureWarning: numpy not_equal will not check object identity in the future. The comparison did not return the same result as suggested by the identity (`is`)) and will change.\n",
      "  _nan_object_mask = _nan_object_array != _nan_object_array\n"
     ]
    }
   ],
   "source": [
    "import pandas as pd\n",
    "import numpy as np\n",
    "from sklearn.model_selection import train_test_split\n",
    "from sklearn.metrics import accuracy_score\n",
    "from sklearn.ensemble import RandomForestClassifier\n",
    "from sklearn.preprocessing import LabelEncoder\n",
    "import matplotlib.pyplot as plt\n",
    "from imblearn.over_sampling import SMOTE \n",
    "from sklearn.metrics import confusion_matrix\n",
    "from sklearn.metrics import roc_curve, auc"
   ]
  },
  {
   "cell_type": "code",
   "execution_count": 2,
   "metadata": {
    "collapsed": false
   },
   "outputs": [
    {
     "name": "stdout",
     "output_type": "stream",
     "text": [
      "<class 'pandas.core.frame.DataFrame'>\n",
      "RangeIndex: 15420 entries, 0 to 15419\n",
      "Data columns (total 33 columns):\n",
      "Month                   15420 non-null object\n",
      "WeekOfMonth             15420 non-null int64\n",
      "DayOfWeek               15420 non-null object\n",
      "Make                    15420 non-null object\n",
      "AccidentArea            15420 non-null object\n",
      "DayOfWeekClaimed        15420 non-null object\n",
      "MonthClaimed            15420 non-null object\n",
      "WeekOfMonthClaimed      15420 non-null int64\n",
      "Sex                     15420 non-null object\n",
      "MaritalStatus           15420 non-null object\n",
      "Age                     15420 non-null int64\n",
      "Fault                   15420 non-null object\n",
      "PolicyType              15420 non-null object\n",
      "VehicleCategory         15420 non-null object\n",
      "VehiclePrice            15420 non-null object\n",
      "FraudFound              15420 non-null object\n",
      "PolicyNumber            15420 non-null int64\n",
      "RepNumber               15420 non-null int64\n",
      "Deductible              15420 non-null int64\n",
      "DriverRating            15420 non-null int64\n",
      "Days:Policy-Accident    15420 non-null object\n",
      "Days:Policy-Claim       15420 non-null object\n",
      "PastNumberOfClaims      15420 non-null object\n",
      "AgeOfVehicle            15420 non-null object\n",
      "AgeOfPolicyHolder       15420 non-null object\n",
      "PoliceReportFiled       15420 non-null object\n",
      "WitnessPresent          15420 non-null object\n",
      "AgentType               15420 non-null object\n",
      "NumberOfSuppliments     15420 non-null object\n",
      "AddressChange-Claim     15420 non-null object\n",
      "NumberOfCars            15420 non-null object\n",
      "Year                    15420 non-null int64\n",
      "BasePolicy              15420 non-null object\n",
      "dtypes: int64(8), object(25)\n",
      "memory usage: 3.9+ MB\n",
      "\n",
      "Feature Name:  Month\n",
      "Jan    1411\n",
      "May    1367\n",
      "Mar    1360\n",
      "Jun    1321\n",
      "Oct    1305\n",
      "Dec    1285\n",
      "Apr    1280\n",
      "Feb    1266\n",
      "Jul    1257\n",
      "Sep    1240\n",
      "Nov    1201\n",
      "Aug    1127\n",
      "Name: Month, dtype: int64\n",
      "\n",
      "Feature Name:  WeekOfMonth\n",
      "3    3640\n",
      "2    3558\n",
      "4    3398\n",
      "1    3187\n",
      "5    1637\n",
      "Name: WeekOfMonth, dtype: int64\n",
      "\n",
      "Feature Name:  DayOfWeek\n",
      "Monday       2616\n",
      "Friday       2445\n",
      "Tuesday      2300\n",
      "Thursday     2173\n",
      "Wednesday    2159\n",
      "Saturday     1982\n",
      "Sunday       1745\n",
      "Name: DayOfWeek, dtype: int64\n",
      "\n",
      "Feature Name:  Make\n",
      "Pontiac      3837\n",
      "Toyota       3121\n",
      "Honda        2801\n",
      "Mazda        2354\n",
      "Chevrolet    1681\n",
      "Accura        472\n",
      "Ford          450\n",
      "VW            283\n",
      "Dodge         109\n",
      "Saab          108\n",
      "Mercury        83\n",
      "Saturn         58\n",
      "Nisson         30\n",
      "BMW            15\n",
      "Jaguar          6\n",
      "Porche          5\n",
      "Mecedes         4\n",
      "Ferrari         2\n",
      "Lexus           1\n",
      "Name: Make, dtype: int64\n",
      "\n",
      "Feature Name:  AccidentArea\n",
      "Urban    13822\n",
      "Rural     1598\n",
      "Name: AccidentArea, dtype: int64\n",
      "\n",
      "Feature Name:  DayOfWeekClaimed\n",
      "Monday       3757\n",
      "Tuesday      3375\n",
      "Wednesday    2951\n",
      "Thursday     2660\n",
      "Friday       2497\n",
      "Saturday      127\n",
      "Sunday         52\n",
      "0               1\n",
      "Name: DayOfWeekClaimed, dtype: int64\n",
      "\n",
      "Feature Name:  MonthClaimed\n",
      "Jan    1446\n",
      "May    1411\n",
      "Mar    1348\n",
      "Oct    1339\n",
      "Jun    1293\n",
      "Feb    1287\n",
      "Nov    1285\n",
      "Apr    1271\n",
      "Sep    1242\n",
      "Jul    1225\n",
      "Dec    1146\n",
      "Aug    1126\n",
      "0         1\n",
      "Name: MonthClaimed, dtype: int64\n",
      "\n",
      "Feature Name:  WeekOfMonthClaimed\n",
      "2    3720\n",
      "3    3583\n",
      "1    3450\n",
      "4    3433\n",
      "5    1234\n",
      "Name: WeekOfMonthClaimed, dtype: int64\n",
      "\n",
      "Feature Name:  Sex\n",
      "Male      13000\n",
      "Female     2420\n",
      "Name: Sex, dtype: int64\n",
      "\n",
      "Feature Name:  MaritalStatus\n",
      "Married     10625\n",
      "Single       4684\n",
      "Divorced       76\n",
      "Widow          35\n",
      "Name: MaritalStatus, dtype: int64\n",
      "\n",
      "Feature Name:  Age\n",
      "30    596\n",
      "33    574\n",
      "34    573\n",
      "35    569\n",
      "28    560\n",
      "29    552\n",
      "31    550\n",
      "32    544\n",
      "27    540\n",
      "26    535\n",
      "39    435\n",
      "41    423\n",
      "44    411\n",
      "37    410\n",
      "36    406\n",
      "43    404\n",
      "42    401\n",
      "45    386\n",
      "38    384\n",
      "40    383\n",
      "0     320\n",
      "47    308\n",
      "46    296\n",
      "48    291\n",
      "50    290\n",
      "54    288\n",
      "55    282\n",
      "51    279\n",
      "52    276\n",
      "49    265\n",
      "     ... \n",
      "59    138\n",
      "63    136\n",
      "65    135\n",
      "24    135\n",
      "58    134\n",
      "21    127\n",
      "22    125\n",
      "23    122\n",
      "62    112\n",
      "25    104\n",
      "18     48\n",
      "72     45\n",
      "66     42\n",
      "76     42\n",
      "71     40\n",
      "74     35\n",
      "78     35\n",
      "75     34\n",
      "68     32\n",
      "73     32\n",
      "19     32\n",
      "80     32\n",
      "69     32\n",
      "67     31\n",
      "77     29\n",
      "20     28\n",
      "70     27\n",
      "79     20\n",
      "16      9\n",
      "17      6\n",
      "Name: Age, dtype: int64\n",
      "\n",
      "Feature Name:  Fault\n",
      "Policy Holder    11230\n",
      "Third Party       4190\n",
      "Name: Fault, dtype: int64\n",
      "\n",
      "Feature Name:  PolicyType\n",
      "Sedan - Collision       5584\n",
      "Sedan - Liability       4987\n",
      "Sedan - All Perils      4087\n",
      "Sport - Collision        348\n",
      "Utility - All Perils     340\n",
      "Utility - Collision       30\n",
      "Sport - All Perils        22\n",
      "Utility - Liability       21\n",
      "Sport - Liability          1\n",
      "Name: PolicyType, dtype: int64\n",
      "\n",
      "Feature Name:  VehicleCategory\n",
      "Sedan      9671\n",
      "Sport      5358\n",
      "Utility     391\n",
      "Name: VehicleCategory, dtype: int64\n",
      "\n",
      "Feature Name:  VehiclePrice\n",
      "20,000 to 29,000    8079\n",
      "30,000 to 39,000    3533\n",
      "more than 69,000    2164\n",
      "less than 20,000    1096\n",
      "40,000 to 59,000     461\n",
      "60,000 to 69,000      87\n",
      "Name: VehiclePrice, dtype: int64\n",
      "\n",
      "Feature Name:  FraudFound\n",
      "No     14497\n",
      "Yes      923\n",
      "Name: FraudFound, dtype: int64\n",
      "\n",
      "Feature Name:  PolicyNumber\n",
      "2047     1\n",
      "10720    1\n",
      "10896    1\n",
      "4743     1\n",
      "6790     1\n",
      "645      1\n",
      "2692     1\n",
      "12931    1\n",
      "14978    1\n",
      "8833     1\n",
      "10880    1\n",
      "4727     1\n",
      "6774     1\n",
      "629      1\n",
      "2676     1\n",
      "12915    1\n",
      "14962    1\n",
      "8817     1\n",
      "10864    1\n",
      "4711     1\n",
      "6758     1\n",
      "613      1\n",
      "2660     1\n",
      "12899    1\n",
      "14946    1\n",
      "8801     1\n",
      "10848    1\n",
      "4695     1\n",
      "6742     1\n",
      "8849     1\n",
      "        ..\n",
      "11535    1\n",
      "11599    1\n",
      "5432     1\n",
      "9550     1\n",
      "13644    1\n",
      "3403     1\n",
      "1354     1\n",
      "7497     1\n",
      "5448     1\n",
      "11583    1\n",
      "9534     1\n",
      "13628    1\n",
      "3387     1\n",
      "1338     1\n",
      "7481     1\n",
      "11567    1\n",
      "5400     1\n",
      "9518     1\n",
      "13612    1\n",
      "3371     1\n",
      "1322     1\n",
      "7465     1\n",
      "5416     1\n",
      "11551    1\n",
      "9502     1\n",
      "13596    1\n",
      "3355     1\n",
      "1306     1\n",
      "7449     1\n",
      "2049     1\n",
      "Name: PolicyNumber, dtype: int64\n",
      "\n",
      "Feature Name:  RepNumber\n",
      "7     1069\n",
      "9      999\n",
      "5      987\n",
      "1      987\n",
      "10     986\n",
      "15     977\n",
      "12     977\n",
      "16     967\n",
      "2      956\n",
      "3      949\n",
      "11     948\n",
      "6      942\n",
      "14     941\n",
      "8      931\n",
      "4      912\n",
      "13     892\n",
      "Name: RepNumber, dtype: int64\n",
      "\n",
      "Feature Name:  Deductible\n",
      "400    14838\n",
      "700      311\n",
      "500      263\n",
      "300        8\n",
      "Name: Deductible, dtype: int64\n",
      "\n",
      "Feature Name:  DriverRating\n",
      "1    3944\n",
      "3    3884\n",
      "2    3801\n",
      "4    3791\n",
      "Name: DriverRating, dtype: int64\n",
      "\n",
      "Feature Name:  Days:Policy-Accident\n",
      "more than 30    15247\n",
      "8 to 15            55\n",
      "none               55\n",
      "15 to 30           49\n",
      "1 to 7             14\n",
      "Name: Days:Policy-Accident, dtype: int64\n",
      "\n",
      "Feature Name:  Days:Policy-Claim\n",
      "more than 30    15342\n",
      "15 to 30           56\n",
      "8 to 15            21\n",
      "none                1\n",
      "Name: Days:Policy-Claim, dtype: int64\n",
      "\n",
      "Feature Name:  PastNumberOfClaims\n",
      "2 to 4         5485\n",
      "none           4352\n",
      "1              3573\n",
      "more than 4    2010\n",
      "Name: PastNumberOfClaims, dtype: int64\n",
      "\n",
      "Feature Name:  AgeOfVehicle\n",
      "7 years        5807\n",
      "more than 7    3981\n",
      "6 years        3448\n",
      "5 years        1357\n",
      "new             373\n",
      "4 years         229\n",
      "3 years         152\n",
      "2 years          73\n",
      "Name: AgeOfVehicle, dtype: int64\n",
      "\n",
      "Feature Name:  AgeOfPolicyHolder\n",
      "31 to 35    5593\n",
      "36 to 40    4043\n",
      "41 to 50    2828\n",
      "51 to 65    1392\n",
      "26 to 30     613\n",
      "over 65      508\n",
      "16 to 17     320\n",
      "21 to 25     108\n",
      "18 to 20      15\n",
      "Name: AgeOfPolicyHolder, dtype: int64\n",
      "\n",
      "Feature Name:  PoliceReportFiled\n",
      "No     14992\n",
      "Yes      428\n",
      "Name: PoliceReportFiled, dtype: int64\n",
      "\n",
      "Feature Name:  WitnessPresent\n",
      "No     15333\n",
      "Yes       87\n",
      "Name: WitnessPresent, dtype: int64\n",
      "\n",
      "Feature Name:  AgentType\n",
      "External    15179\n",
      "Internal      241\n",
      "Name: AgentType, dtype: int64\n",
      "\n",
      "Feature Name:  NumberOfSuppliments\n",
      "none           7047\n",
      "more than 5    3867\n",
      "1 to 2         2489\n",
      "3 to 5         2017\n",
      "Name: NumberOfSuppliments, dtype: int64\n",
      "\n",
      "Feature Name:  AddressChange-Claim\n",
      "no change         14324\n",
      "4 to 8 years        631\n",
      "2 to 3 years        291\n",
      "1 year              170\n",
      "under 6 months        4\n",
      "Name: AddressChange-Claim, dtype: int64\n",
      "\n",
      "Feature Name:  NumberOfCars\n",
      "1 vehicle      14316\n",
      "2 vehicles       709\n",
      "3 to 4           372\n",
      "5 to 8            21\n",
      "more than 8        2\n",
      "Name: NumberOfCars, dtype: int64\n",
      "\n",
      "Feature Name:  Year\n",
      "1994    6142\n",
      "1995    5195\n",
      "1996    4083\n",
      "Name: Year, dtype: int64\n",
      "\n",
      "Feature Name:  BasePolicy\n",
      "Collision     5962\n",
      "Liability     5009\n",
      "All Perils    4449\n",
      "Name: BasePolicy, dtype: int64\n",
      "index:  1516\n",
      "\n",
      "index: 1516\n",
      "<class 'pandas.core.frame.DataFrame'>\n",
      "Int64Index: 15419 entries, 0 to 15418\n",
      "Data columns (total 22 columns):\n",
      "Make                    15419 non-null object\n",
      "AccidentArea            15419 non-null object\n",
      "Sex                     15419 non-null object\n",
      "MaritalStatus           15419 non-null object\n",
      "Fault                   15419 non-null object\n",
      "PolicyType              15419 non-null object\n",
      "VehiclePrice            15419 non-null object\n",
      "RepNumber               15419 non-null float64\n",
      "Deductible              15419 non-null float64\n",
      "DriverRating            15419 non-null float64\n",
      "Days:Policy-Accident    15419 non-null object\n",
      "Days:Policy-Claim       15419 non-null object\n",
      "PastNumberOfClaims      15419 non-null object\n",
      "AgeOfVehicle            15419 non-null object\n",
      "AgeOfPolicyHolder       15419 non-null object\n",
      "PoliceReportFiled       15419 non-null object\n",
      "WitnessPresent          15419 non-null object\n",
      "AgentType               15419 non-null object\n",
      "NumberOfSuppliments     15419 non-null object\n",
      "AddressChange-Claim     15419 non-null object\n",
      "NumberOfCars            15419 non-null object\n",
      "daysDiff                15419 non-null float64\n",
      "dtypes: float64(4), object(18)\n",
      "memory usage: 2.7+ MB\n",
      "(15419,)\n"
     ]
    }
   ],
   "source": [
    "import preprocessingWithMissingvalues\n",
    "\n",
    "car_df= preprocessingWithMissingvalues.preprocess('../../../../../Data/cardata.csv') #preprocess the data\n",
    "\n",
    "car_label = car_df['Lable'] #get the lable\n",
    "print(car_label.shape)\n",
    "\n",
    "car_df.drop(['Lable'],inplace=True,axis=1)\n"
   ]
  },
  {
   "cell_type": "code",
   "execution_count": 3,
   "metadata": {
    "collapsed": false
   },
   "outputs": [
    {
     "data": {
      "text/html": [
       "<div>\n",
       "<table border=\"1\" class=\"dataframe\">\n",
       "  <thead>\n",
       "    <tr style=\"text-align: right;\">\n",
       "      <th></th>\n",
       "      <th>Make_Accura</th>\n",
       "      <th>Make_BMW</th>\n",
       "      <th>Make_Chevrolet</th>\n",
       "      <th>Make_Dodge</th>\n",
       "      <th>Make_Ferrari</th>\n",
       "      <th>Make_Ford</th>\n",
       "      <th>Make_Honda</th>\n",
       "      <th>Make_Jaguar</th>\n",
       "      <th>Make_Lexus</th>\n",
       "      <th>Make_Mazda</th>\n",
       "      <th>...</th>\n",
       "      <th>AddressChange-Claim_under 6 months</th>\n",
       "      <th>NumberOfCars_1 vehicle</th>\n",
       "      <th>NumberOfCars_2 vehicles</th>\n",
       "      <th>NumberOfCars_3 to 4</th>\n",
       "      <th>NumberOfCars_5 to 8</th>\n",
       "      <th>NumberOfCars_more than 8</th>\n",
       "      <th>RepNo</th>\n",
       "      <th>Deductible</th>\n",
       "      <th>DriverRating</th>\n",
       "      <th>DaysDiff</th>\n",
       "    </tr>\n",
       "  </thead>\n",
       "  <tbody>\n",
       "    <tr>\n",
       "      <th>0</th>\n",
       "      <td>0.0</td>\n",
       "      <td>0.0</td>\n",
       "      <td>0.0</td>\n",
       "      <td>0.0</td>\n",
       "      <td>0.0</td>\n",
       "      <td>0.0</td>\n",
       "      <td>1.0</td>\n",
       "      <td>0.0</td>\n",
       "      <td>0.0</td>\n",
       "      <td>0.0</td>\n",
       "      <td>...</td>\n",
       "      <td>0.0</td>\n",
       "      <td>0.0</td>\n",
       "      <td>0.0</td>\n",
       "      <td>1.0</td>\n",
       "      <td>0.0</td>\n",
       "      <td>0.0</td>\n",
       "      <td>0.733333</td>\n",
       "      <td>0.00</td>\n",
       "      <td>0.000000</td>\n",
       "      <td>0.071795</td>\n",
       "    </tr>\n",
       "    <tr>\n",
       "      <th>1</th>\n",
       "      <td>0.0</td>\n",
       "      <td>0.0</td>\n",
       "      <td>0.0</td>\n",
       "      <td>0.0</td>\n",
       "      <td>0.0</td>\n",
       "      <td>0.0</td>\n",
       "      <td>1.0</td>\n",
       "      <td>0.0</td>\n",
       "      <td>0.0</td>\n",
       "      <td>0.0</td>\n",
       "      <td>...</td>\n",
       "      <td>0.0</td>\n",
       "      <td>1.0</td>\n",
       "      <td>0.0</td>\n",
       "      <td>0.0</td>\n",
       "      <td>0.0</td>\n",
       "      <td>0.0</td>\n",
       "      <td>0.933333</td>\n",
       "      <td>0.25</td>\n",
       "      <td>1.000000</td>\n",
       "      <td>0.069231</td>\n",
       "    </tr>\n",
       "    <tr>\n",
       "      <th>2</th>\n",
       "      <td>0.0</td>\n",
       "      <td>0.0</td>\n",
       "      <td>0.0</td>\n",
       "      <td>0.0</td>\n",
       "      <td>0.0</td>\n",
       "      <td>0.0</td>\n",
       "      <td>1.0</td>\n",
       "      <td>0.0</td>\n",
       "      <td>0.0</td>\n",
       "      <td>0.0</td>\n",
       "      <td>...</td>\n",
       "      <td>0.0</td>\n",
       "      <td>1.0</td>\n",
       "      <td>0.0</td>\n",
       "      <td>0.0</td>\n",
       "      <td>0.0</td>\n",
       "      <td>0.0</td>\n",
       "      <td>0.400000</td>\n",
       "      <td>0.25</td>\n",
       "      <td>0.666667</td>\n",
       "      <td>0.089744</td>\n",
       "    </tr>\n",
       "    <tr>\n",
       "      <th>3</th>\n",
       "      <td>0.0</td>\n",
       "      <td>0.0</td>\n",
       "      <td>0.0</td>\n",
       "      <td>0.0</td>\n",
       "      <td>0.0</td>\n",
       "      <td>0.0</td>\n",
       "      <td>0.0</td>\n",
       "      <td>0.0</td>\n",
       "      <td>0.0</td>\n",
       "      <td>0.0</td>\n",
       "      <td>...</td>\n",
       "      <td>0.0</td>\n",
       "      <td>1.0</td>\n",
       "      <td>0.0</td>\n",
       "      <td>0.0</td>\n",
       "      <td>0.0</td>\n",
       "      <td>0.0</td>\n",
       "      <td>0.200000</td>\n",
       "      <td>0.25</td>\n",
       "      <td>0.333333</td>\n",
       "      <td>0.107692</td>\n",
       "    </tr>\n",
       "    <tr>\n",
       "      <th>4</th>\n",
       "      <td>0.0</td>\n",
       "      <td>0.0</td>\n",
       "      <td>0.0</td>\n",
       "      <td>0.0</td>\n",
       "      <td>0.0</td>\n",
       "      <td>0.0</td>\n",
       "      <td>1.0</td>\n",
       "      <td>0.0</td>\n",
       "      <td>0.0</td>\n",
       "      <td>0.0</td>\n",
       "      <td>...</td>\n",
       "      <td>0.0</td>\n",
       "      <td>1.0</td>\n",
       "      <td>0.0</td>\n",
       "      <td>0.0</td>\n",
       "      <td>0.0</td>\n",
       "      <td>0.0</td>\n",
       "      <td>0.133333</td>\n",
       "      <td>0.25</td>\n",
       "      <td>0.000000</td>\n",
       "      <td>0.094872</td>\n",
       "    </tr>\n",
       "  </tbody>\n",
       "</table>\n",
       "<p>5 rows × 97 columns</p>\n",
       "</div>"
      ],
      "text/plain": [
       "   Make_Accura  Make_BMW  Make_Chevrolet  Make_Dodge  Make_Ferrari  Make_Ford  \\\n",
       "0          0.0       0.0             0.0         0.0           0.0        0.0   \n",
       "1          0.0       0.0             0.0         0.0           0.0        0.0   \n",
       "2          0.0       0.0             0.0         0.0           0.0        0.0   \n",
       "3          0.0       0.0             0.0         0.0           0.0        0.0   \n",
       "4          0.0       0.0             0.0         0.0           0.0        0.0   \n",
       "\n",
       "   Make_Honda  Make_Jaguar  Make_Lexus  Make_Mazda    ...     \\\n",
       "0         1.0          0.0         0.0         0.0    ...      \n",
       "1         1.0          0.0         0.0         0.0    ...      \n",
       "2         1.0          0.0         0.0         0.0    ...      \n",
       "3         0.0          0.0         0.0         0.0    ...      \n",
       "4         1.0          0.0         0.0         0.0    ...      \n",
       "\n",
       "   AddressChange-Claim_under 6 months  NumberOfCars_1 vehicle  \\\n",
       "0                                 0.0                     0.0   \n",
       "1                                 0.0                     1.0   \n",
       "2                                 0.0                     1.0   \n",
       "3                                 0.0                     1.0   \n",
       "4                                 0.0                     1.0   \n",
       "\n",
       "   NumberOfCars_2 vehicles  NumberOfCars_3 to 4  NumberOfCars_5 to 8  \\\n",
       "0                      0.0                  1.0                  0.0   \n",
       "1                      0.0                  0.0                  0.0   \n",
       "2                      0.0                  0.0                  0.0   \n",
       "3                      0.0                  0.0                  0.0   \n",
       "4                      0.0                  0.0                  0.0   \n",
       "\n",
       "   NumberOfCars_more than 8     RepNo  Deductible  DriverRating  DaysDiff  \n",
       "0                       0.0  0.733333        0.00      0.000000  0.071795  \n",
       "1                       0.0  0.933333        0.25      1.000000  0.069231  \n",
       "2                       0.0  0.400000        0.25      0.666667  0.089744  \n",
       "3                       0.0  0.200000        0.25      0.333333  0.107692  \n",
       "4                       0.0  0.133333        0.25      0.000000  0.094872  \n",
       "\n",
       "[5 rows x 97 columns]"
      ]
     },
     "execution_count": 3,
     "metadata": {},
     "output_type": "execute_result"
    }
   ],
   "source": [
    "car_df.head()"
   ]
  },
  {
   "cell_type": "code",
   "execution_count": 5,
   "metadata": {
    "collapsed": false
   },
   "outputs": [
    {
     "data": {
      "text/plain": [
       "(15419,)"
      ]
     },
     "execution_count": 5,
     "metadata": {},
     "output_type": "execute_result"
    }
   ],
   "source": [
    "car_label.shape"
   ]
  },
  {
   "cell_type": "code",
   "execution_count": 6,
   "metadata": {
    "collapsed": false
   },
   "outputs": [
    {
     "name": "stdout",
     "output_type": "stream",
     "text": [
      "(15419, 97) (15419,)\n",
      "xtrain: <class 'pandas.core.frame.DataFrame'>\n"
     ]
    }
   ],
   "source": [
    "#split the data into train and test\n",
    "car_features= car_df\n",
    "\n",
    "print(car_features.shape,car_label.shape)\n",
    "\n",
    "X_train,X_test,y_train,y_test = train_test_split(car_features,car_label,random_state=3,test_size=0.25)\n",
    "print('xtrain:',type(X_train))"
   ]
  },
  {
   "cell_type": "code",
   "execution_count": 7,
   "metadata": {
    "collapsed": false
   },
   "outputs": [],
   "source": [
    "#model object\n",
    "model = RandomForestClassifier(n_estimators=100)\n"
   ]
  },
  {
   "cell_type": "code",
   "execution_count": 8,
   "metadata": {
    "collapsed": false
   },
   "outputs": [
    {
     "data": {
      "text/plain": [
       "RandomForestClassifier(bootstrap=True, class_weight=None, criterion='gini',\n",
       "            max_depth=None, max_features='auto', max_leaf_nodes=None,\n",
       "            min_impurity_decrease=0.0, min_impurity_split=None,\n",
       "            min_samples_leaf='deprecated', min_samples_split=2,\n",
       "            min_weight_fraction_leaf='deprecated', n_estimators=100,\n",
       "            n_jobs=None, oob_score=False, random_state=None, verbose=0,\n",
       "            warm_start=False)"
      ]
     },
     "execution_count": 8,
     "metadata": {},
     "output_type": "execute_result"
    }
   ],
   "source": [
    "#train the model\n",
    "\n",
    "model.fit(X_train,y_train)"
   ]
  },
  {
   "cell_type": "code",
   "execution_count": 9,
   "metadata": {
    "collapsed": false
   },
   "outputs": [
    {
     "name": "stdout",
     "output_type": "stream",
     "text": [
      "Random forest classifier:\n",
      "<class 'numpy.ndarray'> (3855,) [0 0 0 ..., 0 0 0]\n",
      "Accuracy is  93.75\n"
     ]
    }
   ],
   "source": [
    "print('Random forest classifier:')\n",
    "predicted = model.predict(X_test)\n",
    "print(type(predicted),predicted.shape,predicted)\n",
    "print('Accuracy is ',round(accuracy_score(y_test,model.predict(X_test)) * 100,2))\n"
   ]
  },
  {
   "cell_type": "code",
   "execution_count": 10,
   "metadata": {
    "collapsed": false
   },
   "outputs": [
    {
     "name": "stdout",
     "output_type": "stream",
     "text": [
      "Confusion Matrix:\n",
      " [[3607    2]\n",
      " [ 239    7]]\n"
     ]
    }
   ],
   "source": [
    "# calculating specifity and sensitivity\n",
    "# 0  := Negative\n",
    "# 1 := Positive\n",
    "cm = confusion_matrix(y_test,predicted)\n",
    "print(\"Confusion Matrix:\\n\",cm)"
   ]
  },
  {
   "cell_type": "code",
   "execution_count": 11,
   "metadata": {
    "collapsed": false
   },
   "outputs": [
    {
     "name": "stdout",
     "output_type": "stream",
     "text": [
      "TN: 3607\n",
      "FP: 2\n",
      "FN: 239\n",
      "TP: 7\n",
      "Accuracy: 93.7483787289\n",
      "Sensitivity: 2.84552845528\n",
      "Specificity: 99.944582987\n"
     ]
    }
   ],
   "source": [
    "TN, FP, FN, TP = cm.ravel()\n",
    "print(\"TN:\",TN)\n",
    "print(\"FP:\",FP)\n",
    "print(\"FN:\",FN)\n",
    "print(\"TP:\",TP)\n",
    "\n",
    "print(\"Accuracy:\",(TP+TN)/(TP+FP+FN+TN)*100)\n",
    "print(\"Sensitivity:\",TP/(TP+FN)*100)\n",
    "print(\"Specificity:\",TN/(TN+FP)*100)"
   ]
  },
  {
   "cell_type": "code",
   "execution_count": 12,
   "metadata": {
    "collapsed": false
   },
   "outputs": [
    {
     "name": "stdout",
     "output_type": "stream",
     "text": [
      "<class 'pandas.core.series.Series'> <class 'numpy.ndarray'>\n",
      "3855\n"
     ]
    }
   ],
   "source": [
    "\n",
    "#converting pandas.core.series.Series to numpy.ndarray\n",
    "print(type(y_test),type(predicted))\n",
    "ytest = pd.Series(y_test).values\n",
    "print((ytest.shape[0]))"
   ]
  },
  {
   "cell_type": "code",
   "execution_count": 13,
   "metadata": {
    "collapsed": false
   },
   "outputs": [
    {
     "name": "stdout",
     "output_type": "stream",
     "text": [
      "No of fraud cases: 246\n",
      "No of fauld cases predicted by model: 9\n",
      "No of fraud correctly predicted  as fault: 7\n"
     ]
    }
   ],
   "source": [
    "#find the index where both are 1.\n",
    "count = 0\n",
    "fault = 0\n",
    "predictedfault = 0\n",
    "for i in range(predicted.shape[0]):\n",
    "    if((predicted[i] == 1) and (ytest[i] == 1)):\n",
    "        count += 1\n",
    "    if(ytest[i] == 1):\n",
    "        fault += 1\n",
    "    if(predicted[i]==1):\n",
    "        predictedfault += 1\n",
    "print(\"No of fraud cases:\",fault)\n",
    "print(\"No of fauld cases predicted by model:\",predictedfault)\n",
    "print(\"No of fraud correctly predicted  as fault:\",count)"
   ]
  },
  {
   "cell_type": "code",
   "execution_count": 14,
   "metadata": {
    "collapsed": false
   },
   "outputs": [
    {
     "name": "stdout",
     "output_type": "stream",
     "text": [
      "(28992, 97) (28992,)\n"
     ]
    }
   ],
   "source": [
    "#with Smote\n",
    "sm = SMOTE()\n",
    "features,labels = sm.fit_sample(car_features,car_label)\n",
    "print(features.shape,labels.shape)\n",
    "X_train,X_test,y_train,y_test = train_test_split(features,labels,random_state=3,test_size=0.25)\n"
   ]
  },
  {
   "cell_type": "code",
   "execution_count": 15,
   "metadata": {
    "collapsed": false
   },
   "outputs": [
    {
     "data": {
      "text/plain": [
       "RandomForestClassifier(bootstrap=True, class_weight=None, criterion='gini',\n",
       "            max_depth=None, max_features='auto', max_leaf_nodes=None,\n",
       "            min_impurity_decrease=0.0, min_impurity_split=None,\n",
       "            min_samples_leaf='deprecated', min_samples_split=2,\n",
       "            min_weight_fraction_leaf='deprecated', n_estimators=100,\n",
       "            n_jobs=None, oob_score=False, random_state=None, verbose=0,\n",
       "            warm_start=False)"
      ]
     },
     "execution_count": 15,
     "metadata": {},
     "output_type": "execute_result"
    }
   ],
   "source": [
    "#model object\n",
    "model = RandomForestClassifier(n_estimators=100)\n",
    "model.fit(X_train,y_train)"
   ]
  },
  {
   "cell_type": "code",
   "execution_count": 16,
   "metadata": {
    "collapsed": false
   },
   "outputs": [
    {
     "name": "stdout",
     "output_type": "stream",
     "text": [
      "Random forest classifier:\n",
      "<class 'numpy.ndarray'> (7248,) [1 1 0 ..., 0 0 1]\n",
      "Accuracy is  97.56\n"
     ]
    }
   ],
   "source": [
    "print('Random forest classifier:')\n",
    "predicted = model.predict(X_test)\n",
    "print(type(predicted),predicted.shape,predicted)\n",
    "print('Accuracy is ',round(accuracy_score(y_test,model.predict(X_test)) * 100,2))\n"
   ]
  },
  {
   "cell_type": "code",
   "execution_count": 17,
   "metadata": {
    "collapsed": false
   },
   "outputs": [
    {
     "name": "stdout",
     "output_type": "stream",
     "text": [
      "Confusion Matrix:\n",
      " [[3573   50]\n",
      " [ 127 3498]]\n",
      "Accuracy: 97.5579470199\n",
      "Sensitivity: 96.4965517241\n",
      "Specificity: 98.6199282363\n"
     ]
    }
   ],
   "source": [
    "cm = confusion_matrix(y_test,predicted)\n",
    "print(\"Confusion Matrix:\\n\",cm)\n",
    "TN, FP, FN, TP = cm.ravel()\n",
    "\n",
    "print(\"Accuracy:\",(TP+TN)/(TP+FP+FN+TN)*100)\n",
    "print(\"Sensitivity:\",TP/(TP+FN)*100)\n",
    "print(\"Specificity:\",TN/(TN+FP)*100)"
   ]
  },
  {
   "cell_type": "code",
   "execution_count": 18,
   "metadata": {
    "collapsed": false
   },
   "outputs": [
    {
     "name": "stdout",
     "output_type": "stream",
     "text": [
      "7248\n",
      "7248\n",
      "[1 1 0 ..., 0 0 1]\n",
      "\n"
     ]
    }
   ],
   "source": [
    "#converting pandas.core.series.Series to numpy.ndarray\n",
    "ytest = pd.Series(y_test).values\n",
    "print((ytest.shape[0]))\n",
    "print(predicted.shape[0])\n",
    "print(ytest)\n",
    "print()"
   ]
  },
  {
   "cell_type": "code",
   "execution_count": 19,
   "metadata": {
    "collapsed": false
   },
   "outputs": [
    {
     "name": "stdout",
     "output_type": "stream",
     "text": [
      "No of fraud cases: 3625\n",
      "No of fauld cases predicted by model: 3548\n",
      "No of fraud correctly predicted  as fault: 3498\n"
     ]
    }
   ],
   "source": [
    "#find the index where both are 1.\n",
    "count = 0\n",
    "fault = 0\n",
    "predictedfault = 0\n",
    "for i in range(predicted.shape[0]):\n",
    "    \n",
    "    if((predicted[i] == 1) and (ytest[i] == 1)):\n",
    "        count += 1\n",
    "    if(ytest[i] == 1):\n",
    "        fault += 1\n",
    "    if(predicted[i]==1):\n",
    "        predictedfault += 1\n",
    "print(\"No of fraud cases:\",fault)\n",
    "print(\"No of fauld cases predicted by model:\",predictedfault)\n",
    "print(\"No of fraud correctly predicted  as fault:\",count)"
   ]
  },
  {
   "cell_type": "code",
   "execution_count": 20,
   "metadata": {
    "collapsed": false
   },
   "outputs": [
    {
     "data": {
      "text/plain": [
       "(0.97579440598736533, 0.97557947019867552, 0.97557678536612025, None)"
      ]
     },
     "execution_count": 20,
     "metadata": {},
     "output_type": "execute_result"
    }
   ],
   "source": [
    "from sklearn.metrics import precision_recall_fscore_support\n",
    "\n",
    "precision_recall_fscore_support(y_test, predicted, average='micro')\n",
    "precision_recall_fscore_support(y_test, predicted, average='macro')\n",
    "precision_recall_fscore_support(y_test, predicted, average='weighted')\n"
   ]
  },
  {
   "cell_type": "code",
   "execution_count": 21,
   "metadata": {
    "collapsed": false
   },
   "outputs": [
    {
     "name": "stdout",
     "output_type": "stream",
     "text": [
      "Random forest classifier:\n"
     ]
    }
   ],
   "source": [
    "#cross-validation 10-FOLD cross validation\n",
    "from sklearn.model_selection import cross_val_score\n",
    "from sklearn.model_selection import cross_val_predict\n",
    "from sklearn import metrics\n",
    "from sklearn import model_selection\n",
    "from sklearn.metrics import precision_recall_fscore_support\n",
    "from sklearn.metrics import make_scorer, accuracy_score, precision_score, recall_score, f1_score\n",
    "\n",
    "\n",
    "\n",
    "print('Random forest classifier:')\n",
    "\n",
    "sm = SMOTE(random_state=100,m_neighbors=5,n_jobs=1)\n",
    "\n",
    "features,labels = sm.fit_sample(car_features,car_label)\n",
    "\n",
    "#convert np.array to dataframe \n",
    "df_features = pd.DataFrame(features)\n",
    "df_lables = pd.DataFrame(labels)\n"
   ]
  },
  {
   "cell_type": "code",
   "execution_count": 22,
   "metadata": {
    "collapsed": false
   },
   "outputs": [
    {
     "name": "stdout",
     "output_type": "stream",
     "text": [
      "0.97520186509\n",
      "0.833967204177\n",
      "0.723680251675\n",
      "0.767789103172\n"
     ]
    }
   ],
   "source": [
    "#add the both the labels and features\n",
    "df_features['FraudFound']= df_lables\n",
    "\n",
    "#shuffle the featrues\n",
    "new_combine_features = df_features.set_index(np.random.permutation(df_features.index))\n",
    "\n",
    "\n",
    "new_label = new_combine_features['FraudFound']\n",
    "\n",
    "#drop the FraudFound attribute\n",
    "new_combine_features.drop(['FraudFound'],inplace=True,axis=1)\n",
    "\n",
    "scoring = {'accuracy' : make_scorer(accuracy_score), \n",
    "           'precision' : make_scorer(precision_score),\n",
    "           'recall' : make_scorer(recall_score), \n",
    "           'f1_score' : make_scorer(f1_score)}\n",
    "\n",
    "kfold = model_selection.KFold(n_splits=10, random_state=10)\n",
    "model=RandomForestClassifier(n_estimators=100) \n",
    "\n",
    "results = model_selection.cross_validate(estimator=model,X=new_combine_features,y=new_label,cv=kfold,scoring=scoring)\n",
    "\n",
    "print(np.mean(results['test_accuracy']))\n",
    "print(np.mean(results['test_precision']))\n",
    "print(np.mean(results['test_recall']))\n",
    "print(np.mean(results['test_f1_score']))\n",
    "\n"
   ]
  },
  {
   "cell_type": "code",
   "execution_count": null,
   "metadata": {
    "collapsed": true
   },
   "outputs": [],
   "source": []
  },
  {
   "cell_type": "code",
   "execution_count": null,
   "metadata": {
    "collapsed": true
   },
   "outputs": [],
   "source": []
  }
 ],
 "metadata": {
  "anaconda-cloud": {},
  "kernelspec": {
   "display_name": "Python [anaconda3]",
   "language": "python",
   "name": "Python [anaconda3]"
  },
  "language_info": {
   "codemirror_mode": {
    "name": "ipython",
    "version": 3
   },
   "file_extension": ".py",
   "mimetype": "text/x-python",
   "name": "python",
   "nbconvert_exporter": "python",
   "pygments_lexer": "ipython3",
   "version": "3.5.5"
  }
 },
 "nbformat": 4,
 "nbformat_minor": 0
}
