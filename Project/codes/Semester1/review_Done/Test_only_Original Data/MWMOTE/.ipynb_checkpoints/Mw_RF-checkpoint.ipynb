{
 "cells": [
  {
   "cell_type": "code",
   "execution_count": 2,
   "metadata": {
    "collapsed": false
   },
   "outputs": [
    {
     "name": "stderr",
     "output_type": "stream",
     "text": [
      "/usr/local/anaconda3/lib/python3.5/site-packages/sklearn/utils/fixes.py:313: FutureWarning: numpy not_equal will not check object identity in the future. The comparison did not return the same result as suggested by the identity (`is`)) and will change.\n",
      "  _nan_object_mask = _nan_object_array != _nan_object_array\n"
     ]
    }
   ],
   "source": [
    "import pandas as pd\n",
    "import numpy as np\n",
    "from sklearn.model_selection import train_test_split\n",
    "from sklearn.metrics import accuracy_score\n",
    "from sklearn.ensemble import RandomForestClassifier\n",
    "from sklearn.preprocessing import LabelEncoder\n",
    "import matplotlib.pyplot as plt\n",
    "from sklearn.metrics import confusion_matrix\n",
    "from sklearn.preprocessing import LabelEncoder\n",
    "from sklearn.metrics import roc_curve, auc\n",
    "import math\n",
    "from imblearn.over_sampling import SMOTE"
   ]
  },
  {
   "cell_type": "code",
   "execution_count": 3,
   "metadata": {
    "collapsed": false
   },
   "outputs": [
    {
     "ename": "OSError",
     "evalue": "File b'finalDataPreprocessBinary.csv' does not exist",
     "output_type": "error",
     "traceback": [
      "\u001b[0;31m---------------------------------------------------------------------------\u001b[0m",
      "\u001b[0;31mOSError\u001b[0m                                   Traceback (most recent call last)",
      "\u001b[0;32m<ipython-input-3-3585e6166d63>\u001b[0m in \u001b[0;36m<module>\u001b[0;34m()\u001b[0m\n\u001b[1;32m      2\u001b[0m \u001b[0;34m\u001b[0m\u001b[0m\n\u001b[1;32m      3\u001b[0m \u001b[0mcar_df\u001b[0m \u001b[0;34m=\u001b[0m \u001b[0mpd\u001b[0m\u001b[0;34m.\u001b[0m\u001b[0mread_csv\u001b[0m\u001b[0;34m(\u001b[0m\u001b[0;34m'newCardata.csv'\u001b[0m\u001b[0;34m)\u001b[0m\u001b[0;34m\u001b[0m\u001b[0m\n\u001b[0;32m----> 4\u001b[0;31m \u001b[0mcar_features\u001b[0m \u001b[0;34m=\u001b[0m \u001b[0mpd\u001b[0m\u001b[0;34m.\u001b[0m\u001b[0mread_csv\u001b[0m\u001b[0;34m(\u001b[0m\u001b[0;34m'finalDataPreprocessBinary.csv'\u001b[0m\u001b[0;34m)\u001b[0m\u001b[0;34m\u001b[0m\u001b[0m\n\u001b[0m\u001b[1;32m      5\u001b[0m \u001b[0mcar_label\u001b[0m \u001b[0;34m=\u001b[0m \u001b[0mcar_df\u001b[0m\u001b[0;34m[\u001b[0m\u001b[0;34m'FraudFound'\u001b[0m\u001b[0;34m]\u001b[0m\u001b[0;34m\u001b[0m\u001b[0m\n\u001b[1;32m      6\u001b[0m \u001b[0mnew_syntheticData\u001b[0m \u001b[0;34m=\u001b[0m \u001b[0mpd\u001b[0m\u001b[0;34m.\u001b[0m\u001b[0mread_csv\u001b[0m\u001b[0;34m(\u001b[0m\u001b[0;34m'MwMOTEgeneratedSyntheticData.csv'\u001b[0m\u001b[0;34m)\u001b[0m\u001b[0;34m\u001b[0m\u001b[0m\n",
      "\u001b[0;32m/usr/local/anaconda3/lib/python3.5/site-packages/pandas/io/parsers.py\u001b[0m in \u001b[0;36mparser_f\u001b[0;34m(filepath_or_buffer, sep, delimiter, header, names, index_col, usecols, squeeze, prefix, mangle_dupe_cols, dtype, engine, converters, true_values, false_values, skipinitialspace, skiprows, skipfooter, nrows, na_values, keep_default_na, na_filter, verbose, skip_blank_lines, parse_dates, infer_datetime_format, keep_date_col, date_parser, dayfirst, iterator, chunksize, compression, thousands, decimal, lineterminator, quotechar, quoting, escapechar, comment, encoding, dialect, tupleize_cols, error_bad_lines, warn_bad_lines, skip_footer, doublequote, delim_whitespace, as_recarray, compact_ints, use_unsigned, low_memory, buffer_lines, memory_map, float_precision)\u001b[0m\n\u001b[1;32m    560\u001b[0m                     skip_blank_lines=skip_blank_lines)\n\u001b[1;32m    561\u001b[0m \u001b[0;34m\u001b[0m\u001b[0m\n\u001b[0;32m--> 562\u001b[0;31m         \u001b[0;32mreturn\u001b[0m \u001b[0m_read\u001b[0m\u001b[0;34m(\u001b[0m\u001b[0mfilepath_or_buffer\u001b[0m\u001b[0;34m,\u001b[0m \u001b[0mkwds\u001b[0m\u001b[0;34m)\u001b[0m\u001b[0;34m\u001b[0m\u001b[0m\n\u001b[0m\u001b[1;32m    563\u001b[0m \u001b[0;34m\u001b[0m\u001b[0m\n\u001b[1;32m    564\u001b[0m     \u001b[0mparser_f\u001b[0m\u001b[0;34m.\u001b[0m\u001b[0m__name__\u001b[0m \u001b[0;34m=\u001b[0m \u001b[0mname\u001b[0m\u001b[0;34m\u001b[0m\u001b[0m\n",
      "\u001b[0;32m/usr/local/anaconda3/lib/python3.5/site-packages/pandas/io/parsers.py\u001b[0m in \u001b[0;36m_read\u001b[0;34m(filepath_or_buffer, kwds)\u001b[0m\n\u001b[1;32m    313\u001b[0m \u001b[0;34m\u001b[0m\u001b[0m\n\u001b[1;32m    314\u001b[0m     \u001b[0;31m# Create the parser.\u001b[0m\u001b[0;34m\u001b[0m\u001b[0;34m\u001b[0m\u001b[0m\n\u001b[0;32m--> 315\u001b[0;31m     \u001b[0mparser\u001b[0m \u001b[0;34m=\u001b[0m \u001b[0mTextFileReader\u001b[0m\u001b[0;34m(\u001b[0m\u001b[0mfilepath_or_buffer\u001b[0m\u001b[0;34m,\u001b[0m \u001b[0;34m**\u001b[0m\u001b[0mkwds\u001b[0m\u001b[0;34m)\u001b[0m\u001b[0;34m\u001b[0m\u001b[0m\n\u001b[0m\u001b[1;32m    316\u001b[0m \u001b[0;34m\u001b[0m\u001b[0m\n\u001b[1;32m    317\u001b[0m     \u001b[0;32mif\u001b[0m \u001b[0;34m(\u001b[0m\u001b[0mnrows\u001b[0m \u001b[0;32mis\u001b[0m \u001b[0;32mnot\u001b[0m \u001b[0;32mNone\u001b[0m\u001b[0;34m)\u001b[0m \u001b[0;32mand\u001b[0m \u001b[0;34m(\u001b[0m\u001b[0mchunksize\u001b[0m \u001b[0;32mis\u001b[0m \u001b[0;32mnot\u001b[0m \u001b[0;32mNone\u001b[0m\u001b[0;34m)\u001b[0m\u001b[0;34m:\u001b[0m\u001b[0;34m\u001b[0m\u001b[0m\n",
      "\u001b[0;32m/usr/local/anaconda3/lib/python3.5/site-packages/pandas/io/parsers.py\u001b[0m in \u001b[0;36m__init__\u001b[0;34m(self, f, engine, **kwds)\u001b[0m\n\u001b[1;32m    643\u001b[0m             \u001b[0mself\u001b[0m\u001b[0;34m.\u001b[0m\u001b[0moptions\u001b[0m\u001b[0;34m[\u001b[0m\u001b[0;34m'has_index_names'\u001b[0m\u001b[0;34m]\u001b[0m \u001b[0;34m=\u001b[0m \u001b[0mkwds\u001b[0m\u001b[0;34m[\u001b[0m\u001b[0;34m'has_index_names'\u001b[0m\u001b[0;34m]\u001b[0m\u001b[0;34m\u001b[0m\u001b[0m\n\u001b[1;32m    644\u001b[0m \u001b[0;34m\u001b[0m\u001b[0m\n\u001b[0;32m--> 645\u001b[0;31m         \u001b[0mself\u001b[0m\u001b[0;34m.\u001b[0m\u001b[0m_make_engine\u001b[0m\u001b[0;34m(\u001b[0m\u001b[0mself\u001b[0m\u001b[0;34m.\u001b[0m\u001b[0mengine\u001b[0m\u001b[0;34m)\u001b[0m\u001b[0;34m\u001b[0m\u001b[0m\n\u001b[0m\u001b[1;32m    646\u001b[0m \u001b[0;34m\u001b[0m\u001b[0m\n\u001b[1;32m    647\u001b[0m     \u001b[0;32mdef\u001b[0m \u001b[0mclose\u001b[0m\u001b[0;34m(\u001b[0m\u001b[0mself\u001b[0m\u001b[0;34m)\u001b[0m\u001b[0;34m:\u001b[0m\u001b[0;34m\u001b[0m\u001b[0m\n",
      "\u001b[0;32m/usr/local/anaconda3/lib/python3.5/site-packages/pandas/io/parsers.py\u001b[0m in \u001b[0;36m_make_engine\u001b[0;34m(self, engine)\u001b[0m\n\u001b[1;32m    797\u001b[0m     \u001b[0;32mdef\u001b[0m \u001b[0m_make_engine\u001b[0m\u001b[0;34m(\u001b[0m\u001b[0mself\u001b[0m\u001b[0;34m,\u001b[0m \u001b[0mengine\u001b[0m\u001b[0;34m=\u001b[0m\u001b[0;34m'c'\u001b[0m\u001b[0;34m)\u001b[0m\u001b[0;34m:\u001b[0m\u001b[0;34m\u001b[0m\u001b[0m\n\u001b[1;32m    798\u001b[0m         \u001b[0;32mif\u001b[0m \u001b[0mengine\u001b[0m \u001b[0;34m==\u001b[0m \u001b[0;34m'c'\u001b[0m\u001b[0;34m:\u001b[0m\u001b[0;34m\u001b[0m\u001b[0m\n\u001b[0;32m--> 799\u001b[0;31m             \u001b[0mself\u001b[0m\u001b[0;34m.\u001b[0m\u001b[0m_engine\u001b[0m \u001b[0;34m=\u001b[0m \u001b[0mCParserWrapper\u001b[0m\u001b[0;34m(\u001b[0m\u001b[0mself\u001b[0m\u001b[0;34m.\u001b[0m\u001b[0mf\u001b[0m\u001b[0;34m,\u001b[0m \u001b[0;34m**\u001b[0m\u001b[0mself\u001b[0m\u001b[0;34m.\u001b[0m\u001b[0moptions\u001b[0m\u001b[0;34m)\u001b[0m\u001b[0;34m\u001b[0m\u001b[0m\n\u001b[0m\u001b[1;32m    800\u001b[0m         \u001b[0;32melse\u001b[0m\u001b[0;34m:\u001b[0m\u001b[0;34m\u001b[0m\u001b[0m\n\u001b[1;32m    801\u001b[0m             \u001b[0;32mif\u001b[0m \u001b[0mengine\u001b[0m \u001b[0;34m==\u001b[0m \u001b[0;34m'python'\u001b[0m\u001b[0;34m:\u001b[0m\u001b[0;34m\u001b[0m\u001b[0m\n",
      "\u001b[0;32m/usr/local/anaconda3/lib/python3.5/site-packages/pandas/io/parsers.py\u001b[0m in \u001b[0;36m__init__\u001b[0;34m(self, src, **kwds)\u001b[0m\n\u001b[1;32m   1211\u001b[0m         \u001b[0mkwds\u001b[0m\u001b[0;34m[\u001b[0m\u001b[0;34m'allow_leading_cols'\u001b[0m\u001b[0;34m]\u001b[0m \u001b[0;34m=\u001b[0m \u001b[0mself\u001b[0m\u001b[0;34m.\u001b[0m\u001b[0mindex_col\u001b[0m \u001b[0;32mis\u001b[0m \u001b[0;32mnot\u001b[0m \u001b[0;32mFalse\u001b[0m\u001b[0;34m\u001b[0m\u001b[0m\n\u001b[1;32m   1212\u001b[0m \u001b[0;34m\u001b[0m\u001b[0m\n\u001b[0;32m-> 1213\u001b[0;31m         \u001b[0mself\u001b[0m\u001b[0;34m.\u001b[0m\u001b[0m_reader\u001b[0m \u001b[0;34m=\u001b[0m \u001b[0m_parser\u001b[0m\u001b[0;34m.\u001b[0m\u001b[0mTextReader\u001b[0m\u001b[0;34m(\u001b[0m\u001b[0msrc\u001b[0m\u001b[0;34m,\u001b[0m \u001b[0;34m**\u001b[0m\u001b[0mkwds\u001b[0m\u001b[0;34m)\u001b[0m\u001b[0;34m\u001b[0m\u001b[0m\n\u001b[0m\u001b[1;32m   1214\u001b[0m \u001b[0;34m\u001b[0m\u001b[0m\n\u001b[1;32m   1215\u001b[0m         \u001b[0;31m# XXX\u001b[0m\u001b[0;34m\u001b[0m\u001b[0;34m\u001b[0m\u001b[0m\n",
      "\u001b[0;32mpandas/parser.pyx\u001b[0m in \u001b[0;36mpandas.parser.TextReader.__cinit__ (pandas/parser.c:3427)\u001b[0;34m()\u001b[0m\n",
      "\u001b[0;32mpandas/parser.pyx\u001b[0m in \u001b[0;36mpandas.parser.TextReader._setup_parser_source (pandas/parser.c:6861)\u001b[0;34m()\u001b[0m\n",
      "\u001b[0;31mOSError\u001b[0m: File b'finalDataPreprocessBinary.csv' does not exist"
     ]
    }
   ],
   "source": [
    "#Read the data into dataframe\n",
    "\n",
    "car_df = pd.read_csv('newCardata.csv')\n",
    "car_features = pd.read_csv('finalDataPreprocessBinary.csv')\n",
    "car_label = car_df['FraudFound']\n",
    "new_syntheticData = pd.read_csv('MwMOTEgeneratedSyntheticData.csv')\n"
   ]
  },
  {
   "cell_type": "code",
   "execution_count": 3,
   "metadata": {
    "collapsed": false
   },
   "outputs": [
    {
     "name": "stdout",
     "output_type": "stream",
     "text": [
      "(11564, 97) (3855, 97)\n"
     ]
    }
   ],
   "source": [
    "#divide the data into train and test set\n",
    "\n",
    "X_train,X_test,y_train,y_test = train_test_split(car_features,car_label,random_state=3,test_size=0.25)\n",
    "print(X_train.shape,X_test.shape)\n"
   ]
  },
  {
   "cell_type": "code",
   "execution_count": 4,
   "metadata": {
    "collapsed": false
   },
   "outputs": [
    {
     "name": "stdout",
     "output_type": "stream",
     "text": [
      "Confusion Matrix:\n",
      " [[3605    4]\n",
      " [ 242    4]]\n",
      "TN: 3605\n",
      "FP: 4\n",
      "FN: 242\n",
      "TP: 4\n",
      "Accuracy: 93.6186770428\n",
      "Sensitivity: 1.62601626016\n",
      "Specificity: 99.889165974\n"
     ]
    }
   ],
   "source": [
    "#build the model\n",
    "clf= RandomForestClassifier(n_estimators=100) \n",
    "\n",
    "#train the model\n",
    "model= clf.fit(X_train,y_train)\n",
    "\n",
    "#test the model and find model's performance metric\n",
    "predicted= model.predict(X_test)\n",
    "\n",
    "# calculating specifity and sensitivity\n",
    "# 0  := Negative(FraudNotFound)\n",
    "# 1 := Positive (FraudFound)\n",
    "cm = confusion_matrix(y_test,predicted)\n",
    "print(\"Confusion Matrix:\\n\",cm)\n",
    "TN, FP, FN, TP = cm.ravel()\n",
    "\n",
    "print(\"TN:\",TN)\n",
    "print(\"FP:\",FP)\n",
    "print(\"FN:\",FN)\n",
    "print(\"TP:\",TP)\n",
    "\n",
    "print(\"Accuracy:\",(TP+TN)/(TP+FP+FN+TN)*100)\n",
    "print(\"Sensitivity:\",TP/(TP+FN)*100)\n",
    "print(\"Specificity:\",TN/(TN+FP)*100)\n"
   ]
  },
  {
   "cell_type": "code",
   "execution_count": null,
   "metadata": {
    "collapsed": true
   },
   "outputs": [],
   "source": []
  },
  {
   "cell_type": "code",
   "execution_count": 5,
   "metadata": {
    "collapsed": false
   },
   "outputs": [
    {
     "name": "stdout",
     "output_type": "stream",
     "text": [
      "(28992, 97) (28992,)\n",
      "(21744, 97) (7248, 97)\n"
     ]
    }
   ],
   "source": [
    "#With SMOTE \n",
    "\n",
    "#apply the Smote\n",
    "sm= SMOTE()\n",
    "features,labels= sm.fit_sample(car_features,car_label)\n",
    "print(features.shape,labels.shape)\n",
    "\n",
    "#split the smote generated data into the train and test set\n",
    "X_train,X_test,y_train,y_test= train_test_split(features,labels,random_state=3,test_size=0.25)\n",
    "print(X_train.shape,X_test.shape)\n",
    "\n"
   ]
  },
  {
   "cell_type": "code",
   "execution_count": null,
   "metadata": {
    "collapsed": false
   },
   "outputs": [],
   "source": []
  },
  {
   "cell_type": "code",
   "execution_count": 6,
   "metadata": {
    "collapsed": false
   },
   "outputs": [
    {
     "name": "stdout",
     "output_type": "stream",
     "text": [
      "Confusion Matrix:\n",
      " [[3567   56]\n",
      " [ 149 3476]]\n",
      "TN: 3567\n",
      "FP: 56\n",
      "FN: 149\n",
      "TP: 3476\n",
      "Accuracy: 97.1716335541\n",
      "Sensitivity: 95.8896551724\n",
      "Specificity: 98.4543196246\n"
     ]
    }
   ],
   "source": [
    "#build the model\n",
    "clf= RandomForestClassifier(n_estimators=100) \n",
    "\n",
    "#train the model\n",
    "model= clf.fit(X_train,y_train)\n",
    "\n",
    "#test the model and find model's performance metric\n",
    "predicted= model.predict(X_test)\n",
    "\n",
    "# calculating specifity and sensitivity\n",
    "# 0  := Negative(FraudNotFound)\n",
    "# 1 := Positive (FraudFound)\n",
    "cm = confusion_matrix(y_test,predicted)\n",
    "print(\"Confusion Matrix:\\n\",cm)\n",
    "TN, FP, FN, TP = cm.ravel()\n",
    "\n",
    "print(\"TN:\",TN)\n",
    "print(\"FP:\",FP)\n",
    "print(\"FN:\",FN)\n",
    "print(\"TP:\",TP)\n",
    "\n",
    "print(\"Accuracy:\",(TP+TN)/(TP+FP+FN+TN)*100)\n",
    "print(\"Sensitivity:\",TP/(TP+FN)*100)\n",
    "print(\"Specificity:\",TN/(TN+FP)*100)"
   ]
  },
  {
   "cell_type": "code",
   "execution_count": null,
   "metadata": {
    "collapsed": false
   },
   "outputs": [],
   "source": []
  },
  {
   "cell_type": "code",
   "execution_count": 10,
   "metadata": {
    "collapsed": false
   },
   "outputs": [
    {
     "name": "stdout",
     "output_type": "stream",
     "text": [
      "(28992, 97) (28992,)\n",
      "(21744, 97) (7248, 97)\n"
     ]
    }
   ],
   "source": [
    "#apply the Smote\n",
    "sm= SMOTE()\n",
    "features,labels= sm.fit_sample(car_features,car_label)\n",
    "print(features.shape,labels.shape)\n",
    "\n",
    "#split the smote generated data into the train and test set\n",
    "X_train,X_test,y_train,y_test= train_test_split(features,labels,random_state=3,test_size=0.25)\n",
    "print(X_train.shape,X_test.shape)\n",
    "\n"
   ]
  },
  {
   "cell_type": "code",
   "execution_count": 11,
   "metadata": {
    "collapsed": false
   },
   "outputs": [
    {
     "name": "stdout",
     "output_type": "stream",
     "text": [
      "Total no of data in smote generated data:  28992\n",
      "Total fraud in smote generated data:  14496\n",
      "Total Non-fraud in smote generated data:  14496\n"
     ]
    }
   ],
   "source": [
    "#find the total number of the fraudulent claims in the smote generated data\n",
    "#find the all the fradulent claims in the dataset\n",
    "total_fraud= 0\n",
    "total_Nonfraud= 0\n",
    "print(\"Total no of data in smote generated data: \",labels.shape[0])\n",
    "for i in range(labels.shape[0]):\n",
    "    if labels[i]==1:\n",
    "        total_fraud += 1\n",
    "    else:\n",
    "        total_Nonfraud += 1\n",
    "print(\"Total fraud in smote generated data: \", total_fraud)\n",
    "print(\"Total Non-fraud in smote generated data: \", total_Nonfraud)"
   ]
  },
  {
   "cell_type": "code",
   "execution_count": null,
   "metadata": {
    "collapsed": true
   },
   "outputs": [],
   "source": []
  },
  {
   "cell_type": "code",
   "execution_count": 13,
   "metadata": {
    "collapsed": false
   },
   "outputs": [
    {
     "name": "stdout",
     "output_type": "stream",
     "text": [
      "Original X_test  and y_test ((7248, 97), (7248,))\n",
      "Total number of fraudulent claims in original data: 923\n"
     ]
    }
   ],
   "source": [
    "#testing only on the original test data\n",
    "from numpy import linalg as LA\n",
    "\n",
    "#print the original size of the smote generated test set\n",
    "print( \"Original X_test  and y_test\", (X_test.shape, y_test.shape))\n",
    "\n",
    "#find the all the fradulent claims in the dataset\n",
    "indexOFfraudulent= []\n",
    "columnfeatures= list(car_features.columns.values)\n",
    "fraudulentClaims= pd.DataFrame(columns=columnfeatures)\n",
    "j= 0\n",
    "for i in range(car_label.shape[0]):\n",
    "    if car_label[i]==1:\n",
    "        fraudulentClaims.loc[j]= car_features.loc[i]\n",
    "        j += 1\n",
    "print(\"Total number of fraudulent claims in original data:\",fraudulentClaims.shape[0])\n",
    "#print(y_test[1000])"
   ]
  },
  {
   "cell_type": "code",
   "execution_count": null,
   "metadata": {
    "collapsed": true
   },
   "outputs": [],
   "source": []
  },
  {
   "cell_type": "code",
   "execution_count": 22,
   "metadata": {
    "collapsed": false
   },
   "outputs": [
    {
     "name": "stdout",
     "output_type": "stream",
     "text": [
      "Inside condition y_test== 1, y_test[i] is: 1\n",
      "Inside condition y_test== 1, y_test[i] is: 1\n",
      "Else condition, y_test[i]: 0\n",
      "Inside condition y_test== 1, y_test[i] is: 1\n",
      "Inside condition y_test== 1, y_test[i] is: 1\n",
      "Else condition, y_test[i]: 0\n",
      "Inside condition y_test== 1, y_test[i] is: 1\n",
      "Inside condition y_test== 1, y_test[i] is: 1\n",
      "Inside condition y_test== 1, y_test[i] is: 1\n",
      "Else condition, y_test[i]: 0\n",
      "Inside condition y_test== 1, y_test[i] is: 1\n",
      "Else condition, y_test[i]: 0\n",
      "Inside condition y_test== 1, y_test[i] is: 1\n",
      "Else condition, y_test[i]: 0\n",
      "Else condition, y_test[i]: 0\n",
      "Else condition, y_test[i]: 0\n",
      "Else condition, y_test[i]: 0\n",
      "Inside condition y_test== 1, y_test[i] is: 1\n",
      "Else condition, y_test[i]: 0\n",
      "Inside condition y_test== 1, y_test[i] is: 1\n",
      "Else condition, y_test[i]: 0\n",
      "Inside condition y_test== 1, y_test[i] is: 1\n",
      "Else condition, y_test[i]: 0\n",
      "Else condition, y_test[i]: 0\n",
      "Inside condition y_test== 1, y_test[i] is: 1\n",
      "Inside condition y_test== 1, y_test[i] is: 1\n",
      "Else condition, y_test[i]: 0\n",
      "Else condition, y_test[i]: 0\n",
      "Else condition, y_test[i]: 0\n",
      "Else condition, y_test[i]: 0\n",
      "Inside condition y_test== 1, y_test[i] is: 1\n",
      "Else condition, y_test[i]: 0\n",
      "Inside condition y_test== 1, y_test[i] is: 1\n",
      "Inside condition y_test== 1, y_test[i] is: 1\n",
      "Else condition, y_test[i]: 0\n",
      "Inside condition y_test== 1, y_test[i] is: 1\n",
      "Inside condition y_test== 1, y_test[i] is: 1\n",
      "Inside condition y_test== 1, y_test[i] is: 1\n",
      "Else condition, y_test[i]: 0\n",
      "Inside condition y_test== 1, y_test[i] is: 1\n",
      "Inside condition y_test== 1, y_test[i] is: 1\n",
      "Inside condition y_test== 1, y_test[i] is: 1\n",
      "Else condition, y_test[i]: 0\n",
      "Inside condition y_test== 1, y_test[i] is: 1\n",
      "Inside condition y_test== 1, y_test[i] is: 1\n",
      "Else condition, y_test[i]: 0\n",
      "Else condition, y_test[i]: 0\n",
      "Inside condition y_test== 1, y_test[i] is: 1\n",
      "Inside condition y_test== 1, y_test[i] is: 1\n",
      "Inside condition y_test== 1, y_test[i] is: 1\n",
      "Inside condition y_test== 1, y_test[i] is: 1\n",
      "Inside condition y_test== 1, y_test[i] is: 1\n",
      "Inside condition y_test== 1, y_test[i] is: 1\n",
      "Else condition, y_test[i]: 0\n",
      "Inside condition y_test== 1, y_test[i] is: 1\n",
      "Else condition, y_test[i]: 0\n",
      "Else condition, y_test[i]: 0\n",
      "Else condition, y_test[i]: 0\n",
      "Else condition, y_test[i]: 0\n",
      "Inside condition y_test== 1, y_test[i] is: 1\n",
      "Else condition, y_test[i]: 0\n",
      "Else condition, y_test[i]: 0\n",
      "Else condition, y_test[i]: 0\n",
      "Inside condition y_test== 1, y_test[i] is: 1\n",
      "Else condition, y_test[i]: 0\n",
      "Inside condition y_test== 1, y_test[i] is: 1\n",
      "Inside condition y_test== 1, y_test[i] is: 1\n",
      "Else condition, y_test[i]: 0\n",
      "Else condition, y_test[i]: 0\n",
      "Inside condition y_test== 1, y_test[i] is: 1\n",
      "Else condition, y_test[i]: 0\n",
      "Else condition, y_test[i]: 0\n",
      "Inside condition y_test== 1, y_test[i] is: 1\n",
      "Inside condition y_test== 1, y_test[i] is: 1\n",
      "Else condition, y_test[i]: 0\n",
      "Else condition, y_test[i]: 0\n",
      "Else condition, y_test[i]: 0\n",
      "Inside condition y_test== 1, y_test[i] is: 1\n",
      "After euclidean distance==0, y_test[i] is: 1\n",
      "Else condition, y_test[i]: 0\n",
      "Else condition, y_test[i]: 0\n",
      "Inside condition y_test== 1, y_test[i] is: 1\n",
      "Else condition, y_test[i]: 0\n",
      "Else condition, y_test[i]: 0\n",
      "Inside condition y_test== 1, y_test[i] is: 1\n",
      "Else condition, y_test[i]: 0\n",
      "Inside condition y_test== 1, y_test[i] is: 1\n",
      "Else condition, y_test[i]: 0\n",
      "Else condition, y_test[i]: 0\n",
      "Else condition, y_test[i]: 0\n",
      "Else condition, y_test[i]: 0\n",
      "Else condition, y_test[i]: 0\n",
      "Inside condition y_test== 1, y_test[i] is: 1\n",
      "Else condition, y_test[i]: 0\n",
      "Inside condition y_test== 1, y_test[i] is: 1\n",
      "Else condition, y_test[i]: 0\n",
      "Else condition, y_test[i]: 0\n",
      "Inside condition y_test== 1, y_test[i] is: 1\n",
      "Else condition, y_test[i]: 0\n",
      "Inside condition y_test== 1, y_test[i] is: 1\n",
      "Inside condition y_test== 1, y_test[i] is: 1\n",
      "Inside condition y_test== 1, y_test[i] is: 1\n",
      "After euclidean distance==0, y_test[i] is: 1\n",
      "Else condition, y_test[i]: 0\n",
      "Else condition, y_test[i]: 0\n",
      "Inside condition y_test== 1, y_test[i] is: 1\n",
      "Inside condition y_test== 1, y_test[i] is: 1\n",
      "Else condition, y_test[i]: 0\n",
      "Inside condition y_test== 1, y_test[i] is: 1\n",
      "Inside condition y_test== 1, y_test[i] is: 1\n",
      "Else condition, y_test[i]: 0\n",
      "Else condition, y_test[i]: 0\n",
      "Else condition, y_test[i]: 0\n",
      "Else condition, y_test[i]: 0\n",
      "Inside condition y_test== 1, y_test[i] is: 1\n",
      "Else condition, y_test[i]: 0\n",
      "Else condition, y_test[i]: 0\n",
      "Else condition, y_test[i]: 0\n",
      "Inside condition y_test== 1, y_test[i] is: 1\n",
      "Inside condition y_test== 1, y_test[i] is: 1\n",
      "Else condition, y_test[i]: 0\n",
      "Else condition, y_test[i]: 0\n",
      "Else condition, y_test[i]: 0\n",
      "Else condition, y_test[i]: 0\n",
      "Inside condition y_test== 1, y_test[i] is: 1\n",
      "Else condition, y_test[i]: 0\n",
      "Inside condition y_test== 1, y_test[i] is: 1\n",
      "Else condition, y_test[i]: 0\n",
      "Else condition, y_test[i]: 0\n",
      "Else condition, y_test[i]: 0\n",
      "Inside condition y_test== 1, y_test[i] is: 1\n",
      "Inside condition y_test== 1, y_test[i] is: 1\n",
      "Inside condition y_test== 1, y_test[i] is: 1\n",
      "Else condition, y_test[i]: 0\n",
      "Inside condition y_test== 1, y_test[i] is: 1\n",
      "After euclidean distance==0, y_test[i] is: 1\n",
      "Else condition, y_test[i]: 0\n",
      "Else condition, y_test[i]: 0\n",
      "Else condition, y_test[i]: 0\n",
      "Else condition, y_test[i]: 0\n",
      "Else condition, y_test[i]: 0\n",
      "Inside condition y_test== 1, y_test[i] is: 1\n",
      "Inside condition y_test== 1, y_test[i] is: 1\n",
      "Else condition, y_test[i]: 0\n",
      "Inside condition y_test== 1, y_test[i] is: 1\n",
      "Else condition, y_test[i]: 0\n",
      "Inside condition y_test== 1, y_test[i] is: 1\n",
      "Else condition, y_test[i]: 0\n",
      "Else condition, y_test[i]: 0\n",
      "Else condition, y_test[i]: 0\n",
      "Inside condition y_test== 1, y_test[i] is: 1\n",
      "Inside condition y_test== 1, y_test[i] is: 1\n",
      "Else condition, y_test[i]: 0\n",
      "Else condition, y_test[i]: 0\n",
      "Inside condition y_test== 1, y_test[i] is: 1\n",
      "Else condition, y_test[i]: 0\n",
      "Else condition, y_test[i]: 0\n",
      "Inside condition y_test== 1, y_test[i] is: 1\n",
      "Else condition, y_test[i]: 0\n",
      "Inside condition y_test== 1, y_test[i] is: 1\n",
      "Else condition, y_test[i]: 0\n",
      "Else condition, y_test[i]: 0\n",
      "Inside condition y_test== 1, y_test[i] is: 1\n",
      "Else condition, y_test[i]: 0\n",
      "Inside condition y_test== 1, y_test[i] is: 1\n",
      "Else condition, y_test[i]: 0\n",
      "Inside condition y_test== 1, y_test[i] is: 1\n",
      "Else condition, y_test[i]: 0\n",
      "Inside condition y_test== 1, y_test[i] is: 1\n",
      "Else condition, y_test[i]: 0\n",
      "Inside condition y_test== 1, y_test[i] is: 1\n",
      "After euclidean distance==0, y_test[i] is: 1\n",
      "Inside condition y_test== 1, y_test[i] is: 1\n",
      "Else condition, y_test[i]: 0\n",
      "Inside condition y_test== 1, y_test[i] is: 1\n",
      "Else condition, y_test[i]: 0\n",
      "Else condition, y_test[i]: 0\n",
      "Else condition, y_test[i]: 0\n",
      "Else condition, y_test[i]: 0\n",
      "Else condition, y_test[i]: 0\n",
      "Inside condition y_test== 1, y_test[i] is: 1\n",
      "Inside condition y_test== 1, y_test[i] is: 1\n",
      "Else condition, y_test[i]: 0\n",
      "Inside condition y_test== 1, y_test[i] is: 1\n",
      "Else condition, y_test[i]: 0\n",
      "Inside condition y_test== 1, y_test[i] is: 1\n",
      "Inside condition y_test== 1, y_test[i] is: 1\n",
      "Else condition, y_test[i]: 0\n",
      "Else condition, y_test[i]: 0\n",
      "Else condition, y_test[i]: 0\n",
      "Inside condition y_test== 1, y_test[i] is: 1\n",
      "Inside condition y_test== 1, y_test[i] is: 1\n",
      "Inside condition y_test== 1, y_test[i] is: 1\n",
      "Inside condition y_test== 1, y_test[i] is: 1\n",
      "Else condition, y_test[i]: 0\n",
      "Else condition, y_test[i]: 0\n",
      "Inside condition y_test== 1, y_test[i] is: 1\n",
      "Inside condition y_test== 1, y_test[i] is: 1\n",
      "Inside condition y_test== 1, y_test[i] is: 1\n",
      "Else condition, y_test[i]: 0\n",
      "Inside condition y_test== 1, y_test[i] is: 1\n",
      "Else condition, y_test[i]: 0\n",
      "Inside condition y_test== 1, y_test[i] is: 1\n",
      "Else condition, y_test[i]: 0\n",
      "Inside condition y_test== 1, y_test[i] is: 1\n",
      "Inside condition y_test== 1, y_test[i] is: 1\n",
      "Else condition, y_test[i]: 0\n",
      "Else condition, y_test[i]: 0\n",
      "Inside condition y_test== 1, y_test[i] is: 1\n",
      "After euclidean distance==0, y_test[i] is: 1\n",
      "Else condition, y_test[i]: 0\n",
      "Inside condition y_test== 1, y_test[i] is: 1\n",
      "Inside condition y_test== 1, y_test[i] is: 1\n",
      "Else condition, y_test[i]: 0\n",
      "Else condition, y_test[i]: 0\n",
      "Inside condition y_test== 1, y_test[i] is: 1\n",
      "Else condition, y_test[i]: 0\n",
      "Inside condition y_test== 1, y_test[i] is: 1\n",
      "Else condition, y_test[i]: 0\n",
      "Else condition, y_test[i]: 0\n",
      "Else condition, y_test[i]: 0\n",
      "Inside condition y_test== 1, y_test[i] is: 1\n",
      "Else condition, y_test[i]: 0\n",
      "Else condition, y_test[i]: 0\n",
      "Else condition, y_test[i]: 0\n",
      "Inside condition y_test== 1, y_test[i] is: 1\n",
      "Else condition, y_test[i]: 0\n",
      "Inside condition y_test== 1, y_test[i] is: 1\n",
      "Inside condition y_test== 1, y_test[i] is: 1\n",
      "Inside condition y_test== 1, y_test[i] is: 1\n",
      "Else condition, y_test[i]: 0\n",
      "Inside condition y_test== 1, y_test[i] is: 1\n",
      "Inside condition y_test== 1, y_test[i] is: 1\n",
      "Else condition, y_test[i]: 0\n",
      "Inside condition y_test== 1, y_test[i] is: 1\n",
      "Else condition, y_test[i]: 0\n",
      "Else condition, y_test[i]: 0\n",
      "Inside condition y_test== 1, y_test[i] is: 1\n",
      "Else condition, y_test[i]: 0\n",
      "Inside condition y_test== 1, y_test[i] is: 1\n",
      "Else condition, y_test[i]: 0\n",
      "Inside condition y_test== 1, y_test[i] is: 1\n",
      "Else condition, y_test[i]: 0\n",
      "Inside condition y_test== 1, y_test[i] is: 1\n",
      "Inside condition y_test== 1, y_test[i] is: 1\n",
      "Else condition, y_test[i]: 0\n",
      "Inside condition y_test== 1, y_test[i] is: 1\n",
      "Inside condition y_test== 1, y_test[i] is: 1\n",
      "Inside condition y_test== 1, y_test[i] is: 1\n",
      "Inside condition y_test== 1, y_test[i] is: 1\n",
      "Inside condition y_test== 1, y_test[i] is: 1\n",
      "Inside condition y_test== 1, y_test[i] is: 1\n",
      "Inside condition y_test== 1, y_test[i] is: 1\n",
      "Inside condition y_test== 1, y_test[i] is: 1\n",
      "Inside condition y_test== 1, y_test[i] is: 1\n",
      "Else condition, y_test[i]: 0\n",
      "Else condition, y_test[i]: 0\n",
      "Inside condition y_test== 1, y_test[i] is: 1\n",
      "Inside condition y_test== 1, y_test[i] is: 1\n",
      "Inside condition y_test== 1, y_test[i] is: 1\n",
      "Inside condition y_test== 1, y_test[i] is: 1\n",
      "Inside condition y_test== 1, y_test[i] is: 1\n",
      "Else condition, y_test[i]: 0\n",
      "Else condition, y_test[i]: 0\n",
      "Inside condition y_test== 1, y_test[i] is: 1\n",
      "Else condition, y_test[i]: 0\n",
      "Else condition, y_test[i]: 0\n",
      "Else condition, y_test[i]: 0\n",
      "Inside condition y_test== 1, y_test[i] is: 1\n",
      "Else condition, y_test[i]: 0\n",
      "Inside condition y_test== 1, y_test[i] is: 1\n",
      "Else condition, y_test[i]: "
     ]
    },
    {
     "ename": "KeyboardInterrupt",
     "evalue": "",
     "output_type": "error",
     "traceback": [
      "\u001b[0;31m---------------------------------------------------------------------------\u001b[0m",
      "\u001b[0;31mKeyboardInterrupt\u001b[0m                         Traceback (most recent call last)",
      "\u001b[0;32m<ipython-input-22-05e6a5ab6efb>\u001b[0m in \u001b[0;36m<module>\u001b[0;34m()\u001b[0m\n\u001b[1;32m     32\u001b[0m     \u001b[0;32melse\u001b[0m\u001b[0;34m:\u001b[0m\u001b[0;34m\u001b[0m\u001b[0m\n\u001b[1;32m     33\u001b[0m         \u001b[0mnew_X_test\u001b[0m\u001b[0;34m.\u001b[0m\u001b[0mloc\u001b[0m\u001b[0;34m[\u001b[0m\u001b[0mk\u001b[0m\u001b[0;34m]\u001b[0m\u001b[0;34m=\u001b[0m \u001b[0;34m[\u001b[0m\u001b[0melement\u001b[0m\u001b[0;34m[\u001b[0m\u001b[0melm\u001b[0m\u001b[0;34m]\u001b[0m \u001b[0;32mfor\u001b[0m \u001b[0melm\u001b[0m \u001b[0;32min\u001b[0m \u001b[0mrange\u001b[0m\u001b[0;34m(\u001b[0m\u001b[0melement\u001b[0m\u001b[0;34m.\u001b[0m\u001b[0mshape\u001b[0m\u001b[0;34m[\u001b[0m\u001b[0;36m0\u001b[0m\u001b[0;34m]\u001b[0m\u001b[0;34m)\u001b[0m\u001b[0;34m]\u001b[0m\u001b[0;34m\u001b[0m\u001b[0m\n\u001b[0;32m---> 34\u001b[0;31m         \u001b[0mprint\u001b[0m\u001b[0;34m(\u001b[0m\u001b[0;34m\"Else condition, y_test[i]:\"\u001b[0m\u001b[0;34m,\u001b[0m\u001b[0my_test\u001b[0m\u001b[0;34m[\u001b[0m\u001b[0mi\u001b[0m\u001b[0;34m]\u001b[0m\u001b[0;34m)\u001b[0m\u001b[0;34m\u001b[0m\u001b[0m\n\u001b[0m\u001b[1;32m     35\u001b[0m         \u001b[0mnew_y_test\u001b[0m\u001b[0;34m.\u001b[0m\u001b[0mloc\u001b[0m\u001b[0;34m[\u001b[0m\u001b[0mk\u001b[0m\u001b[0;34m]\u001b[0m\u001b[0;34m=\u001b[0m \u001b[0my_test\u001b[0m\u001b[0;34m[\u001b[0m\u001b[0mi\u001b[0m\u001b[0;34m]\u001b[0m\u001b[0;34m\u001b[0m\u001b[0m\n\u001b[1;32m     36\u001b[0m     \u001b[0mk\u001b[0m \u001b[0;34m+=\u001b[0m \u001b[0;36m1\u001b[0m\u001b[0;34m\u001b[0m\u001b[0m\n",
      "\u001b[0;32m/usr/local/anaconda3/lib/python3.5/site-packages/ipykernel/iostream.py\u001b[0m in \u001b[0;36mwrite\u001b[0;34m(self, string)\u001b[0m\n\u001b[1;32m    350\u001b[0m             \u001b[0mis_child\u001b[0m \u001b[0;34m=\u001b[0m \u001b[0;34m(\u001b[0m\u001b[0;32mnot\u001b[0m \u001b[0mself\u001b[0m\u001b[0;34m.\u001b[0m\u001b[0m_is_master_process\u001b[0m\u001b[0;34m(\u001b[0m\u001b[0;34m)\u001b[0m\u001b[0;34m)\u001b[0m\u001b[0;34m\u001b[0m\u001b[0m\n\u001b[1;32m    351\u001b[0m             \u001b[0;31m# only touch the buffer in the IO thread to avoid races\u001b[0m\u001b[0;34m\u001b[0m\u001b[0;34m\u001b[0m\u001b[0m\n\u001b[0;32m--> 352\u001b[0;31m             \u001b[0mself\u001b[0m\u001b[0;34m.\u001b[0m\u001b[0mpub_thread\u001b[0m\u001b[0;34m.\u001b[0m\u001b[0mschedule\u001b[0m\u001b[0;34m(\u001b[0m\u001b[0;32mlambda\u001b[0m \u001b[0;34m:\u001b[0m \u001b[0mself\u001b[0m\u001b[0;34m.\u001b[0m\u001b[0m_buffer\u001b[0m\u001b[0;34m.\u001b[0m\u001b[0mwrite\u001b[0m\u001b[0;34m(\u001b[0m\u001b[0mstring\u001b[0m\u001b[0;34m)\u001b[0m\u001b[0;34m)\u001b[0m\u001b[0;34m\u001b[0m\u001b[0m\n\u001b[0m\u001b[1;32m    353\u001b[0m             \u001b[0;32mif\u001b[0m \u001b[0mis_child\u001b[0m\u001b[0;34m:\u001b[0m\u001b[0;34m\u001b[0m\u001b[0m\n\u001b[1;32m    354\u001b[0m                 \u001b[0;31m# newlines imply flush in subprocesses\u001b[0m\u001b[0;34m\u001b[0m\u001b[0;34m\u001b[0m\u001b[0m\n",
      "\u001b[0;32m/usr/local/anaconda3/lib/python3.5/site-packages/ipykernel/iostream.py\u001b[0m in \u001b[0;36mschedule\u001b[0;34m(self, f)\u001b[0m\n\u001b[1;32m    184\u001b[0m         \"\"\"\n\u001b[1;32m    185\u001b[0m         \u001b[0;32mif\u001b[0m \u001b[0mself\u001b[0m\u001b[0;34m.\u001b[0m\u001b[0mthread\u001b[0m\u001b[0;34m.\u001b[0m\u001b[0mis_alive\u001b[0m\u001b[0;34m(\u001b[0m\u001b[0;34m)\u001b[0m\u001b[0;34m:\u001b[0m\u001b[0;34m\u001b[0m\u001b[0m\n\u001b[0;32m--> 186\u001b[0;31m             \u001b[0mevent_id\u001b[0m \u001b[0;34m=\u001b[0m \u001b[0mos\u001b[0m\u001b[0;34m.\u001b[0m\u001b[0murandom\u001b[0m\u001b[0;34m(\u001b[0m\u001b[0;36m16\u001b[0m\u001b[0;34m)\u001b[0m\u001b[0;34m\u001b[0m\u001b[0m\n\u001b[0m\u001b[1;32m    187\u001b[0m             \u001b[0;32mwhile\u001b[0m \u001b[0mevent_id\u001b[0m \u001b[0;32min\u001b[0m \u001b[0mself\u001b[0m\u001b[0;34m.\u001b[0m\u001b[0m_events\u001b[0m\u001b[0;34m:\u001b[0m\u001b[0;34m\u001b[0m\u001b[0m\n\u001b[1;32m    188\u001b[0m                 \u001b[0mevent_id\u001b[0m \u001b[0;34m=\u001b[0m \u001b[0mos\u001b[0m\u001b[0;34m.\u001b[0m\u001b[0murandom\u001b[0m\u001b[0;34m(\u001b[0m\u001b[0;36m16\u001b[0m\u001b[0;34m)\u001b[0m\u001b[0;34m\u001b[0m\u001b[0m\n",
      "\u001b[0;31mKeyboardInterrupt\u001b[0m: "
     ]
    }
   ],
   "source": [
    "\n",
    "#remove the smote generated sample from the test set.\n",
    "k= 0\n",
    "index= []\n",
    "\n",
    "\n",
    "#make empty dataframes for storing the new test data\n",
    "new_X_test= pd.DataFrame(columns=columnfeatures)\n",
    "new_y_test= pd.DataFrame(columns=['label'])\n",
    "\n",
    "#convert numpy array to pd.DataFrame\n",
    "X_test= pd.DataFrame(X_test)\n",
    "\n",
    "\n",
    "#for i in range(X_test.shape[0]):\n",
    "for i in range(1000):\n",
    "    element= X_test.loc[i]\n",
    "    if (int(y_test[i])==1):\n",
    "        #print(\"Inside condition y_test== 1, y_test[i] is:\",y_test[i])\n",
    "        for j in range(fraudulentClaims.shape[0]):\n",
    "            data = pd.Series(element).values\n",
    "            fraudClaims= fraudulentClaims.loc[j]\n",
    "            fraudClaims= pd.Series(fraudClaims).values\n",
    "            euclidean_distance= LA.norm(data-fraudClaims,2)   #calculate the euclidean distance\n",
    "\n",
    "            if (euclidean_distance == 0):\n",
    "                index.append(i)\n",
    "                new_X_test.loc[k]= [element[elm] for elm in range(element.shape[0])]\n",
    "                print(\"After euclidean distance==0, y_test[i] is:\",y_test[i])\n",
    "                new_y_test.loc[k]= y_test[i]\n",
    "                break\n",
    "    else:\n",
    "        new_X_test.loc[k]= [element[elm] for elm in range(element.shape[0])]\n",
    "        print(\"Else condition, y_test[i]:\",y_test[i])\n",
    "        new_y_test.loc[k]= y_test[i]\n",
    "    k += 1\n"
   ]
  },
  {
   "cell_type": "code",
   "execution_count": null,
   "metadata": {
    "collapsed": true
   },
   "outputs": [],
   "source": []
  },
  {
   "cell_type": "code",
   "execution_count": 17,
   "metadata": {
    "collapsed": false
   },
   "outputs": [
    {
     "name": "stdout",
     "output_type": "stream",
     "text": [
      "New X_test and y_test shape: (3855, 97) (3855, 1)\n"
     ]
    }
   ],
   "source": [
    "print(\"New X_test and y_test shape:\",new_X_test.shape,new_y_test.shape)\n"
   ]
  },
  {
   "cell_type": "code",
   "execution_count": 18,
   "metadata": {
    "collapsed": false
   },
   "outputs": [
    {
     "name": "stdout",
     "output_type": "stream",
     "text": [
      "(3855, 97)\n",
      "(3855, 1)\n",
      "Total Number of fraud in modified test set: 232\n"
     ]
    }
   ],
   "source": [
    "#find the original test set from smote generated dataset\n",
    "print(new_X_test.shape)\n",
    "print(new_y_test.shape)\n",
    "\n",
    "#change the dataframe into numpy array\n",
    "mod_X_test= new_X_test.values\n",
    "mod_y_test= new_y_test.values\n",
    "\n",
    "fraud= 0\n",
    "for i in range(mod_y_test.shape[0]):\n",
    "    if(mod_y_test[i]==1):\n",
    "        fraud += 1\n",
    "print(\"Total Number of fraud in modified test set:\",fraud)\n",
    "\n"
   ]
  },
  {
   "cell_type": "code",
   "execution_count": null,
   "metadata": {
    "collapsed": true
   },
   "outputs": [],
   "source": []
  },
  {
   "cell_type": "code",
   "execution_count": 21,
   "metadata": {
    "collapsed": false
   },
   "outputs": [
    {
     "name": "stdout",
     "output_type": "stream",
     "text": [
      "Confusion Matrix:\n",
      " [[3566   57]\n",
      " [ 140   92]]\n",
      "TN: 3566\n",
      "FP: 57\n",
      "FN: 140\n",
      "TP: 92\n",
      "Accuracy: 94.8897535668\n",
      "Sensitivity: 39.6551724138\n",
      "Specificity: 98.4267181893\n"
     ]
    }
   ],
   "source": [
    "#train the model with new modified test set\n",
    "#build the model\n",
    "clf= RandomForestClassifier(n_estimators=100) \n",
    "\n",
    "#train the model\n",
    "model= clf.fit(X_train,y_train)\n",
    "\n",
    "#test the model and find model's performance metric\n",
    "#predicted= model.predict(mod_X_test)\n",
    "predicted= model.predict(mod_X_test)\n",
    "\n",
    "# calculating specifity and sensitivity\n",
    "# 0  := Negative(FraudNotFound)\n",
    "# 1 := Positive (FraudFound)\n",
    "#cm = confusion_matrix(mod_y_test,predicted)\n",
    "cm = confusion_matrix(mod_y_test,predicted)\n",
    "\n",
    "print(\"Confusion Matrix:\\n\",cm)\n",
    "TN, FP, FN, TP = cm.ravel()\n",
    "\n",
    "print(\"TN:\",TN)\n",
    "print(\"FP:\",FP)\n",
    "print(\"FN:\",FN)\n",
    "print(\"TP:\",TP)\n",
    "\n",
    "print(\"Accuracy:\",(TP+TN)/(TP+FP+FN+TN)*100)\n",
    "print(\"Sensitivity:\",TP/(TP+FN)*100)\n",
    "print(\"Specificity:\",TN/(TN+FP)*100)"
   ]
  },
  {
   "cell_type": "code",
   "execution_count": null,
   "metadata": {
    "collapsed": true
   },
   "outputs": [],
   "source": []
  }
 ],
 "metadata": {
  "kernelspec": {
   "display_name": "Python [anaconda3]",
   "language": "python",
   "name": "Python [anaconda3]"
  },
  "language_info": {
   "codemirror_mode": {
    "name": "ipython",
    "version": 3
   },
   "file_extension": ".py",
   "mimetype": "text/x-python",
   "name": "python",
   "nbconvert_exporter": "python",
   "pygments_lexer": "ipython3",
   "version": "3.5.5"
  }
 },
 "nbformat": 4,
 "nbformat_minor": 0
}
