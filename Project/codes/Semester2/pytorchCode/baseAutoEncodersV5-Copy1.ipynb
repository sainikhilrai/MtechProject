{
 "cells": [
  {
   "cell_type": "code",
   "execution_count": 1,
   "metadata": {},
   "outputs": [],
   "source": [
    "import numpy as np\n",
    "import pandas as pd\n",
    "import torch \n",
    "import torch.nn as nn\n",
    "import torch.nn.functional as F\n",
    "import torch.optim as optim\n",
    "from sklearn.preprocessing import MinMaxScaler\n",
    "from sklearn.model_selection import train_test_split"
   ]
  },
  {
   "cell_type": "code",
   "execution_count": 2,
   "metadata": {},
   "outputs": [],
   "source": [
    "nonFraudulentFeatures= pd.read_csv('./nonFraudulentFeatures.csv')\n",
    "fraudulentFeatures= pd.read_csv('./fraudulentFeatures.csv')\n",
    "nonFraudulentLable= pd.read_csv('./nonFraudulentLable.csv')\n",
    "fraudulentLable= pd.read_csv('./fraudulentLable.csv')\n"
   ]
  },
  {
   "cell_type": "code",
   "execution_count": null,
   "metadata": {},
   "outputs": [],
   "source": []
  },
  {
   "cell_type": "code",
   "execution_count": null,
   "metadata": {},
   "outputs": [],
   "source": []
  },
  {
   "cell_type": "code",
   "execution_count": 3,
   "metadata": {},
   "outputs": [
    {
     "data": {
      "text/html": [
       "<div>\n",
       "<style scoped>\n",
       "    .dataframe tbody tr th:only-of-type {\n",
       "        vertical-align: middle;\n",
       "    }\n",
       "\n",
       "    .dataframe tbody tr th {\n",
       "        vertical-align: top;\n",
       "    }\n",
       "\n",
       "    .dataframe thead th {\n",
       "        text-align: right;\n",
       "    }\n",
       "</style>\n",
       "<table border=\"1\" class=\"dataframe\">\n",
       "  <thead>\n",
       "    <tr style=\"text-align: right;\">\n",
       "      <th></th>\n",
       "      <th>lable</th>\n",
       "    </tr>\n",
       "  </thead>\n",
       "  <tbody>\n",
       "    <tr>\n",
       "      <th>0</th>\n",
       "      <td>1.0</td>\n",
       "    </tr>\n",
       "    <tr>\n",
       "      <th>1</th>\n",
       "      <td>1.0</td>\n",
       "    </tr>\n",
       "    <tr>\n",
       "      <th>2</th>\n",
       "      <td>1.0</td>\n",
       "    </tr>\n",
       "    <tr>\n",
       "      <th>3</th>\n",
       "      <td>1.0</td>\n",
       "    </tr>\n",
       "    <tr>\n",
       "      <th>4</th>\n",
       "      <td>1.0</td>\n",
       "    </tr>\n",
       "  </tbody>\n",
       "</table>\n",
       "</div>"
      ],
      "text/plain": [
       "   lable\n",
       "0    1.0\n",
       "1    1.0\n",
       "2    1.0\n",
       "3    1.0\n",
       "4    1.0"
      ]
     },
     "execution_count": 3,
     "metadata": {},
     "output_type": "execute_result"
    }
   ],
   "source": [
    "#nonFraudulent.head()\n",
    "fraudulentLable.head()"
   ]
  },
  {
   "cell_type": "code",
   "execution_count": 4,
   "metadata": {},
   "outputs": [
    {
     "name": "stdout",
     "output_type": "stream",
     "text": [
      "non-Fraud: 14496\n",
      "Fraud: 923\n"
     ]
    }
   ],
   "source": [
    "#Note that for the train and test split, the lables and data have to be in numpy\n",
    "nonFraudulentCarfeatures= nonFraudulentFeatures.values\n",
    "nonFraudulentLable= nonFraudulentLable.values\n",
    "\n",
    "fraudulentCarfeatures= fraudulentFeatures.values\n",
    "fraudulentLable= fraudulentLable.values\n",
    "\n",
    "print('non-Fraud: %d' %(nonFraudulentCarfeatures.shape[0]))\n",
    "print('Fraud: %d' %(fraudulentCarfeatures.shape[0]))\n"
   ]
  },
  {
   "cell_type": "code",
   "execution_count": null,
   "metadata": {},
   "outputs": [],
   "source": []
  },
  {
   "cell_type": "code",
   "execution_count": null,
   "metadata": {},
   "outputs": [],
   "source": []
  },
  {
   "cell_type": "code",
   "execution_count": 5,
   "metadata": {},
   "outputs": [
    {
     "name": "stdout",
     "output_type": "stream",
     "text": [
      "nonFraudxtrain: <class 'numpy.ndarray'>\n",
      "(3624, 97)\n",
      "fraudxtrain: <class 'numpy.ndarray'>\n",
      "(231, 97)\n"
     ]
    }
   ],
   "source": [
    "#divide the nonFraudulent into test and train\n",
    "nonFraudX_train,nonFraudX_test,nonFraudY_train,nonFraudY_test = train_test_split(nonFraudulentCarfeatures,nonFraudulentLable,random_state=3,test_size=0.25)\n",
    "print('nonFraudxtrain:',type(nonFraudX_train))\n",
    "print(nonFraudX_test.shape)\n",
    "\n",
    "#divide the fraudulent into test and train\n",
    "fraudX_train,fraudX_test,fraudY_train,fraudY_test = train_test_split(fraudulentCarfeatures, fraudulentLable,random_state=3,test_size=0.25)\n",
    "print('fraudxtrain:',type(fraudX_train))\n",
    "print(fraudX_test.shape)\n"
   ]
  },
  {
   "cell_type": "code",
   "execution_count": null,
   "metadata": {},
   "outputs": [],
   "source": []
  },
  {
   "cell_type": "code",
   "execution_count": 6,
   "metadata": {},
   "outputs": [],
   "source": [
    "#create the class Dataset which returns the data and labels\n",
    "from torch.utils.data.dataset import Dataset, TensorDataset\n",
    "class myDataset(Dataset):\n",
    "    \n",
    "    def __init__(self,features,lables,transform= None):\n",
    "        dataTensor= []\n",
    "        lableTensor= []\n",
    "        dataSize= features.shape[0]\n",
    "        \n",
    "        for data in range(dataSize):\n",
    "            feature= features[data,:]\n",
    "            #feature= torch.from_numpy(feature).float()\n",
    "            feature= torch.Tensor(feature)\n",
    "            dataTensor.append(feature)\n",
    "            \n",
    "            lable= np.asanyarray(lables[data])\n",
    "            lable= torch.from_numpy(lable).float()\n",
    "           \n",
    "            #lable= torch.Tensor(lable)\n",
    "            #print(\"lable:\",lable)\n",
    "            #assert(False)\n",
    "           \n",
    "            lableTensor.append(lable)\n",
    "        \n",
    "        #put everything in features and lables\n",
    "        self.features= dataTensor\n",
    "        self.lables= lableTensor\n",
    "    \n",
    "    \n",
    "    def __len__(self):\n",
    "        return len(self.features)\n",
    "    \n",
    "    def __getitem__(self,index):\n",
    "        \n",
    "        feature= self.features[index]\n",
    "        lable= self.lables[index]\n",
    "        #print(\"get_item feature:\",feature)\n",
    "        #print(\"get_item lable:\",lable)\n",
    "        return feature,lable"
   ]
  },
  {
   "cell_type": "code",
   "execution_count": 29,
   "metadata": {},
   "outputs": [
    {
     "name": "stdout",
     "output_type": "stream",
     "text": [
      "<class 'numpy.ndarray'>\n"
     ]
    }
   ],
   "source": [
    "#make the  nonfraudulent dataset for train and test loader\n",
    "print(type(nonFraudX_train))\n",
    "myNonFraudulentTrainDataset= myDataset(nonFraudX_train,nonFraudY_train)\n",
    "myNonFraudulentTestDataset= myDataset(nonFraudX_test,nonFraudY_test)\n",
    "\n",
    "#make the fraudulent dataset for train and test loader\n",
    "myFraudulentTrainDataset= myDataset(fraudX_train,fraudY_train)\n",
    "myFraudulentTestDataset= myDataset(fraudX_test,fraudY_test)"
   ]
  },
  {
   "cell_type": "code",
   "execution_count": 8,
   "metadata": {},
   "outputs": [
    {
     "name": "stdout",
     "output_type": "stream",
     "text": [
      "feature: tensor([0.0000, 0.0000, 0.0000, 0.0000, 0.0000, 0.0000, 0.0000, 0.0000, 0.0000,\n",
      "        0.0000, 0.0000, 0.0000, 0.0000, 0.0000, 0.0000, 0.0000, 0.0000, 1.0000,\n",
      "        0.0000, 1.0000, 0.0000, 0.0000, 1.0000, 0.0000, 1.0000, 0.0000, 0.0000,\n",
      "        0.0000, 1.0000, 0.0000, 0.0000, 1.0000, 0.0000, 0.0000, 0.0000, 0.0000,\n",
      "        0.0000, 0.0000, 0.0000, 1.0000, 0.0000, 0.0000, 0.0000, 0.0000, 0.0000,\n",
      "        0.0000, 0.0000, 1.0000, 0.0000, 0.0000, 0.0000, 1.0000, 1.0000, 0.0000,\n",
      "        0.0000, 0.0000, 0.0000, 0.0000, 0.0000, 0.0000, 0.0000, 0.0000, 1.0000,\n",
      "        0.0000, 0.0000, 0.0000, 0.0000, 0.0000, 0.0000, 0.0000, 0.0000, 1.0000,\n",
      "        0.0000, 1.0000, 0.0000, 1.0000, 0.0000, 1.0000, 0.0000, 0.0000, 0.0000,\n",
      "        1.0000, 0.0000, 0.0000, 0.0000, 0.0000, 1.0000, 0.0000, 1.0000, 0.0000,\n",
      "        0.0000, 0.0000, 0.0000, 0.0000, 0.2500, 0.0000, 0.0641])\n",
      "lable: tensor([0.])\n",
      "torch.Size([97])\n"
     ]
    }
   ],
   "source": [
    "feature,lable= myNonFraudulentTrainDataset.__getitem__(0)\n",
    "print(\"feature:\",feature)\n",
    "print(\"lable:\",lable)\n",
    "print(feature.size())"
   ]
  },
  {
   "cell_type": "code",
   "execution_count": 9,
   "metadata": {},
   "outputs": [],
   "source": [
    "\n",
    "#make the trainloader and test loader for nonfraudulent dataset.\n",
    "nonFraudulentTrainLoader= torch.utils.data.DataLoader(myNonFraudulentTrainDataset,batch_size=1,shuffle=True,num_workers=0)\n",
    "nonFraudulentTestLoader= torch.utils.data.DataLoader(myNonFraudulentTestDataset,batch_size=1,shuffle=True,num_workers=0)\n",
    "\n",
    "fraudulentTrainLoader= torch.utils.data.DataLoader(myFraudulentTrainDataset,batch_size=1,shuffle=True,num_workers=0)\n",
    "fraudulentTestLoader= torch.utils.data.DataLoader(myFraudulentTestDataset,batch_size=1,shuffle=True,num_workers=0)\n",
    "\n"
   ]
  },
  {
   "cell_type": "code",
   "execution_count": 10,
   "metadata": {},
   "outputs": [],
   "source": [
    "#Network architecture for the base autoencoders\n",
    "class autoencoder(nn.Module):\n",
    "    def __init__(self):\n",
    "        super(autoencoder,self).__init__()\n",
    "        self.encoder1= nn.Sequential(\n",
    "            nn.Linear(97,70),\n",
    "            nn.LeakyReLU(True),\n",
    "            nn.Linear(70,60),\n",
    "            nn.LeakyReLU(True),\n",
    "            nn.Linear(60,45),\n",
    "            nn.LeakyReLU(True),\n",
    "            nn.Linear(45,20),nn.LeakyReLU(True),nn.Linear(20,10))\n",
    "        \n",
    "        self.decoder1= nn.Sequential(\n",
    "            nn.Linear(10,20),\n",
    "            nn.LeakyReLU(True),\n",
    "            nn.Linear(20,45),\n",
    "            nn.LeakyReLU(True),\n",
    "            nn.Linear(45,60),\n",
    "            nn.LeakyReLU(True),\n",
    "            nn.Linear(60,70),nn.LeakyReLU(True),nn.Linear(70,97),nn.ReLU())\n",
    "    \n",
    "    def forward(self,x):\n",
    "        x= self.encoder1(x)\n",
    "        x= self.decoder1(x)\n",
    "        return x;"
   ]
  },
  {
   "cell_type": "code",
   "execution_count": 11,
   "metadata": {},
   "outputs": [],
   "source": [
    "model1= autoencoder()\n",
    "criterion1= nn.MSELoss()\n",
    "optimizer1= torch.optim.SGD(model1.parameters(), lr=0.001,momentum=0.9)"
   ]
  },
  {
   "cell_type": "code",
   "execution_count": 12,
   "metadata": {},
   "outputs": [
    {
     "name": "stdout",
     "output_type": "stream",
     "text": [
      "[1] loss: 0.113\n",
      "[2] loss: 0.107\n",
      "[3] loss: 0.107\n",
      "[4] loss: 0.107\n",
      "[5] loss: 0.107\n",
      "[6] loss: 0.106\n",
      "[7] loss: 0.104\n",
      "[8] loss: 0.090\n",
      "[9] loss: 0.080\n",
      "[10] loss: 0.078\n",
      "[11] loss: 0.076\n",
      "[12] loss: 0.076\n",
      "[13] loss: 0.068\n",
      "[14] loss: 0.065\n",
      "[15] loss: 0.064\n",
      "[16] loss: 0.063\n",
      "[17] loss: 0.061\n",
      "[18] loss: 0.058\n",
      "[19] loss: 0.057\n",
      "[20] loss: 0.057\n",
      "[21] loss: 0.055\n",
      "[22] loss: 0.053\n",
      "[23] loss: 0.052\n",
      "[24] loss: 0.052\n",
      "[25] loss: 0.052\n",
      "[26] loss: 0.052\n",
      "[27] loss: 0.051\n",
      "[28] loss: 0.051\n",
      "[29] loss: 0.051\n",
      "[30] loss: 0.051\n",
      "[31] loss: 0.051\n",
      "[32] loss: 0.051\n",
      "[33] loss: 0.051\n",
      "[34] loss: 0.051\n",
      "[35] loss: 0.051\n",
      "[36] loss: 0.051\n",
      "[37] loss: 0.051\n",
      "[38] loss: 0.050\n",
      "[39] loss: 0.049\n",
      "[40] loss: 0.048\n",
      "[41] loss: 0.047\n",
      "[42] loss: 0.047\n",
      "[43] loss: 0.047\n",
      "[44] loss: 0.046\n",
      "[45] loss: 0.045\n",
      "[46] loss: 0.044\n",
      "[47] loss: 0.043\n",
      "[48] loss: 0.043\n",
      "[49] loss: 0.042\n",
      "[50] loss: 0.042\n"
     ]
    }
   ],
   "source": [
    "#train the model\n",
    "for epoch in range(50):\n",
    "    running_loss= 0.0\n",
    "    for i, (feature1,lable1) in enumerate(nonFraudulentTrainLoader):\n",
    "        \n",
    "        #gets the inputs\n",
    "        inputs1= torch.tensor(feature1)\n",
    "        lables1= torch.tensor(lable1)\n",
    "        lables1= lables1.type(torch.LongTensor)\n",
    "        \n",
    "        # =====================forward====================\n",
    "        output1 = model1(inputs1)\n",
    "        loss1 = criterion1(output1,inputs1)\n",
    "        \n",
    "         # ===================backward====================\n",
    "        optimizer1.zero_grad()\n",
    "        loss1.backward()\n",
    "        optimizer1.step()\n",
    "        \n",
    "        # =======print the statistics\n",
    "        running_loss += loss1.item()\n",
    "        \n",
    "        #print(\"i: \",i)\n",
    "    #if i%100 == 0:              #print every 2000 mini-batches\n",
    "    \n",
    "    print('[%d] loss: %.3f' %\n",
    "              (epoch + 1,  running_loss /nonFraudX_train.shape[0]))\n",
    "      #running_loss = 0.0\n",
    "\n",
    "        "
   ]
  },
  {
   "cell_type": "code",
   "execution_count": 13,
   "metadata": {},
   "outputs": [],
   "source": [
    " #test the model\n",
    "def modelTest1(Loader):\n",
    "    lossList1= []\n",
    "    trueLable1= []\n",
    "    for i,(feature1,lable1) in enumerate(Loader):\n",
    "        inputs1= torch.tensor(feature1)\n",
    "        output1= model1(inputs1)\n",
    "        loss1= criterion1(output1,inputs1)\n",
    "        trueLable1.append(lable1)\n",
    "        lossList1.append(loss1.item())\n",
    "        lossValue1= loss1.item()\n",
    "        f= open(\"./modle1Loss.txt\",'a')\n",
    "        f.write(str(lossValue1) + '\\n')\n",
    "        '''\n",
    "        if(i!=10):\n",
    "            print(\"input:\",inputs1)\n",
    "            print(\"output:\",output1)\n",
    "            print(\"loss1:\",loss1)\n",
    "            print(\"lable:\",lable1)\n",
    "        else:\n",
    "            assert(False)\n",
    "        '''\n",
    "    f.close()\n",
    "    return lossList1,trueLable1\n",
    "        "
   ]
  },
  {
   "cell_type": "code",
   "execution_count": 14,
   "metadata": {},
   "outputs": [
    {
     "data": {
      "text/plain": [
       "0.04311539605259895"
      ]
     },
     "execution_count": 14,
     "metadata": {},
     "output_type": "execute_result"
    }
   ],
   "source": [
    "#test the model\n",
    "lossList1,trueLable1= modelTest1(nonFraudulentTestLoader)\n",
    "len(lossList1)\n",
    "lossList1[1]"
   ]
  },
  {
   "cell_type": "code",
   "execution_count": 15,
   "metadata": {},
   "outputs": [
    {
     "data": {
      "text/plain": [
       "0"
      ]
     },
     "execution_count": 15,
     "metadata": {},
     "output_type": "execute_result"
    }
   ],
   "source": [
    "len(trueLable1)\n",
    "int(trueLable1[0])"
   ]
  },
  {
   "cell_type": "code",
   "execution_count": null,
   "metadata": {},
   "outputs": [],
   "source": []
  },
  {
   "cell_type": "code",
   "execution_count": 16,
   "metadata": {},
   "outputs": [],
   "source": [
    "#Network architecture for the base autoencoders\n",
    "class autoencoder2(nn.Module):\n",
    "    def __init__(self):\n",
    "        super(autoencoder2,self).__init__()\n",
    "        self.encoder2= nn.Sequential(\n",
    "            nn.Linear(97,87),\n",
    "            nn.LeakyReLU(True),\n",
    "            nn.Linear(87,77),\n",
    "            nn.LeakyReLU(True),\n",
    "            nn.Linear(77,55),\n",
    "            nn.LeakyReLU(True),\n",
    "            nn.Linear(55,45),\n",
    "            nn.LeakyReLU(True),\n",
    "            nn.Linear(45,25),nn.LeakyReLU(True),nn.Linear(25,10))\n",
    "       \n",
    "        self.decoder2= nn.Sequential(\n",
    "            nn.Linear(10,25),\n",
    "            nn.LeakyReLU(True),\n",
    "            nn.Linear(25,45),\n",
    "            nn.LeakyReLU(True),\n",
    "            nn.Linear(45,55),\n",
    "            nn.LeakyReLU(True),\n",
    "            nn.Linear(55,77),\n",
    "            nn.LeakyReLU(True),\n",
    "            nn.Linear(77,87),nn.LeakyReLU(True),nn.Linear(87,97),nn.Tanh())\n",
    "    \n",
    "    def forward(self,x):\n",
    "        x= self.encoder2(x)\n",
    "        x= self.decoder2(x)\n",
    "        return x;"
   ]
  },
  {
   "cell_type": "code",
   "execution_count": 17,
   "metadata": {},
   "outputs": [],
   "source": [
    "model2= autoencoder2()\n",
    "criterion2= nn.MSELoss()\n",
    "optimizer2= torch.optim.SGD(model2.parameters(), lr=0.001,momentum=0.9)"
   ]
  },
  {
   "cell_type": "code",
   "execution_count": 18,
   "metadata": {},
   "outputs": [
    {
     "name": "stdout",
     "output_type": "stream",
     "text": [
      "[1] loss: 0.048\n",
      "[2] loss: 0.042\n",
      "[3] loss: 0.036\n",
      "[4] loss: 0.031\n",
      "[5] loss: 0.026\n",
      "[6] loss: 0.023\n",
      "[7] loss: 0.020\n",
      "[8] loss: 0.019\n",
      "[9] loss: 0.018\n",
      "[10] loss: 0.018\n",
      "[11] loss: 0.017\n",
      "[12] loss: 0.017\n",
      "[13] loss: 0.017\n",
      "[14] loss: 0.017\n",
      "[15] loss: 0.017\n",
      "[16] loss: 0.017\n",
      "[17] loss: 0.017\n",
      "[18] loss: 0.017\n",
      "[19] loss: 0.017\n",
      "[20] loss: 0.017\n",
      "[21] loss: 0.017\n",
      "[22] loss: 0.017\n",
      "[23] loss: 0.017\n",
      "[24] loss: 0.017\n",
      "[25] loss: 0.017\n",
      "[26] loss: 0.017\n",
      "[27] loss: 0.017\n",
      "[28] loss: 0.017\n",
      "[29] loss: 0.017\n",
      "[30] loss: 0.017\n",
      "[31] loss: 0.017\n",
      "[32] loss: 0.017\n",
      "[33] loss: 0.017\n",
      "[34] loss: 0.017\n",
      "[35] loss: 0.017\n",
      "[36] loss: 0.017\n",
      "[37] loss: 0.017\n",
      "[38] loss: 0.017\n",
      "[39] loss: 0.017\n",
      "[40] loss: 0.017\n",
      "[41] loss: 0.017\n",
      "[42] loss: 0.017\n",
      "[43] loss: 0.017\n",
      "[44] loss: 0.017\n",
      "[45] loss: 0.017\n",
      "[46] loss: 0.017\n",
      "[47] loss: 0.017\n",
      "[48] loss: 0.017\n",
      "[49] loss: 0.017\n",
      "[50] loss: 0.017\n",
      "[51] loss: 0.017\n",
      "[52] loss: 0.017\n",
      "[53] loss: 0.017\n",
      "[54] loss: 0.017\n",
      "[55] loss: 0.017\n",
      "[56] loss: 0.017\n",
      "[57] loss: 0.017\n",
      "[58] loss: 0.017\n",
      "[59] loss: 0.017\n",
      "[60] loss: 0.017\n",
      "[61] loss: 0.017\n",
      "[62] loss: 0.017\n",
      "[63] loss: 0.017\n",
      "[64] loss: 0.017\n",
      "[65] loss: 0.017\n",
      "[66] loss: 0.017\n",
      "[67] loss: 0.017\n",
      "[68] loss: 0.017\n",
      "[69] loss: 0.017\n",
      "[70] loss: 0.017\n",
      "[71] loss: 0.017\n",
      "[72] loss: 0.017\n",
      "[73] loss: 0.017\n",
      "[74] loss: 0.017\n",
      "[75] loss: 0.017\n",
      "[76] loss: 0.017\n",
      "[77] loss: 0.017\n",
      "[78] loss: 0.017\n",
      "[79] loss: 0.017\n",
      "[80] loss: 0.017\n",
      "[81] loss: 0.017\n",
      "[82] loss: 0.017\n",
      "[83] loss: 0.017\n",
      "[84] loss: 0.017\n",
      "[85] loss: 0.017\n",
      "[86] loss: 0.017\n",
      "[87] loss: 0.017\n",
      "[88] loss: 0.017\n",
      "[89] loss: 0.017\n",
      "[90] loss: 0.017\n",
      "[91] loss: 0.017\n",
      "[92] loss: 0.017\n",
      "[93] loss: 0.017\n",
      "[94] loss: 0.017\n",
      "[95] loss: 0.017\n",
      "[96] loss: 0.017\n",
      "[97] loss: 0.017\n",
      "[98] loss: 0.017\n",
      "[99] loss: 0.017\n",
      "[100] loss: 0.017\n",
      "[101] loss: 0.017\n",
      "[102] loss: 0.017\n",
      "[103] loss: 0.017\n",
      "[104] loss: 0.017\n",
      "[105] loss: 0.017\n",
      "[106] loss: 0.017\n",
      "[107] loss: 0.017\n",
      "[108] loss: 0.017\n",
      "[109] loss: 0.017\n",
      "[110] loss: 0.017\n",
      "[111] loss: 0.017\n",
      "[112] loss: 0.017\n",
      "[113] loss: 0.017\n",
      "[114] loss: 0.017\n",
      "[115] loss: 0.017\n",
      "[116] loss: 0.017\n",
      "[117] loss: 0.017\n",
      "[118] loss: 0.017\n",
      "[119] loss: 0.017\n",
      "[120] loss: 0.017\n",
      "[121] loss: 0.017\n",
      "[122] loss: 0.017\n",
      "[123] loss: 0.017\n",
      "[124] loss: 0.017\n",
      "[125] loss: 0.017\n",
      "[126] loss: 0.017\n",
      "[127] loss: 0.017\n",
      "[128] loss: 0.017\n",
      "[129] loss: 0.017\n",
      "[130] loss: 0.017\n",
      "[131] loss: 0.017\n",
      "[132] loss: 0.017\n",
      "[133] loss: 0.017\n",
      "[134] loss: 0.017\n",
      "[135] loss: 0.017\n",
      "[136] loss: 0.017\n",
      "[137] loss: 0.017\n",
      "[138] loss: 0.017\n",
      "[139] loss: 0.017\n",
      "[140] loss: 0.017\n",
      "[141] loss: 0.017\n",
      "[142] loss: 0.017\n",
      "[143] loss: 0.017\n",
      "[144] loss: 0.017\n",
      "[145] loss: 0.017\n",
      "[146] loss: 0.017\n",
      "[147] loss: 0.017\n",
      "[148] loss: 0.017\n",
      "[149] loss: 0.017\n",
      "[150] loss: 0.017\n",
      "[151] loss: 0.017\n",
      "[152] loss: 0.017\n",
      "[153] loss: 0.017\n",
      "[154] loss: 0.017\n",
      "[155] loss: 0.017\n",
      "[156] loss: 0.017\n",
      "[157] loss: 0.017\n",
      "[158] loss: 0.017\n",
      "[159] loss: 0.017\n",
      "[160] loss: 0.017\n",
      "[161] loss: 0.017\n",
      "[162] loss: 0.017\n",
      "[163] loss: 0.017\n",
      "[164] loss: 0.017\n",
      "[165] loss: 0.017\n",
      "[166] loss: 0.017\n",
      "[167] loss: 0.017\n",
      "[168] loss: 0.017\n",
      "[169] loss: 0.017\n",
      "[170] loss: 0.017\n",
      "[171] loss: 0.017\n",
      "[172] loss: 0.017\n",
      "[173] loss: 0.017\n",
      "[174] loss: 0.017\n",
      "[175] loss: 0.017\n",
      "[176] loss: 0.017\n",
      "[177] loss: 0.017\n",
      "[178] loss: 0.017\n",
      "[179] loss: 0.017\n",
      "[180] loss: 0.017\n",
      "[181] loss: 0.017\n",
      "[182] loss: 0.017\n",
      "[183] loss: 0.017\n",
      "[184] loss: 0.017\n",
      "[185] loss: 0.017\n",
      "[186] loss: 0.017\n",
      "[187] loss: 0.017\n",
      "[188] loss: 0.017\n",
      "[189] loss: 0.017\n",
      "[190] loss: 0.017\n",
      "[191] loss: 0.017\n",
      "[192] loss: 0.017\n",
      "[193] loss: 0.017\n",
      "[194] loss: 0.017\n",
      "[195] loss: 0.017\n",
      "[196] loss: 0.017\n",
      "[197] loss: 0.017\n",
      "[198] loss: 0.017\n",
      "[199] loss: 0.017\n",
      "[200] loss: 0.017\n",
      "[201] loss: 0.017\n",
      "[202] loss: 0.017\n",
      "[203] loss: 0.017\n",
      "[204] loss: 0.017\n",
      "[205] loss: 0.017\n",
      "[206] loss: 0.017\n",
      "[207] loss: 0.017\n",
      "[208] loss: 0.017\n",
      "[209] loss: 0.017\n",
      "[210] loss: 0.017\n",
      "[211] loss: 0.017\n",
      "[212] loss: 0.017\n",
      "[213] loss: 0.017\n",
      "[214] loss: 0.017\n",
      "[215] loss: 0.017\n",
      "[216] loss: 0.017\n",
      "[217] loss: 0.017\n",
      "[218] loss: 0.017\n",
      "[219] loss: 0.017\n",
      "[220] loss: 0.017\n",
      "[221] loss: 0.017\n",
      "[222] loss: 0.017\n",
      "[223] loss: 0.017\n",
      "[224] loss: 0.017\n",
      "[225] loss: 0.017\n",
      "[226] loss: 0.017\n",
      "[227] loss: 0.017\n",
      "[228] loss: 0.017\n",
      "[229] loss: 0.017\n",
      "[230] loss: 0.017\n",
      "[231] loss: 0.017\n",
      "[232] loss: 0.017\n",
      "[233] loss: 0.017\n",
      "[234] loss: 0.017\n",
      "[235] loss: 0.017\n",
      "[236] loss: 0.017\n",
      "[237] loss: 0.017\n",
      "[238] loss: 0.017\n",
      "[239] loss: 0.017\n",
      "[240] loss: 0.017\n",
      "[241] loss: 0.017\n",
      "[242] loss: 0.017\n",
      "[243] loss: 0.017\n",
      "[244] loss: 0.017\n",
      "[245] loss: 0.017\n",
      "[246] loss: 0.017\n",
      "[247] loss: 0.017\n",
      "[248] loss: 0.017\n",
      "[249] loss: 0.017\n",
      "[250] loss: 0.017\n",
      "[251] loss: 0.017\n",
      "[252] loss: 0.017\n",
      "[253] loss: 0.017\n",
      "[254] loss: 0.017\n",
      "[255] loss: 0.017\n",
      "[256] loss: 0.017\n",
      "[257] loss: 0.017\n",
      "[258] loss: 0.017\n",
      "[259] loss: 0.017\n",
      "[260] loss: 0.017\n",
      "[261] loss: 0.017\n",
      "[262] loss: 0.017\n",
      "[263] loss: 0.017\n",
      "[264] loss: 0.017\n",
      "[265] loss: 0.017\n",
      "[266] loss: 0.017\n",
      "[267] loss: 0.017\n",
      "[268] loss: 0.017\n",
      "[269] loss: 0.017\n",
      "[270] loss: 0.017\n",
      "[271] loss: 0.017\n",
      "[272] loss: 0.017\n",
      "[273] loss: 0.017\n",
      "[274] loss: 0.017\n",
      "[275] loss: 0.017\n",
      "[276] loss: 0.017\n",
      "[277] loss: 0.017\n",
      "[278] loss: 0.017\n",
      "[279] loss: 0.017\n",
      "[280] loss: 0.017\n",
      "[281] loss: 0.017\n",
      "[282] loss: 0.017\n",
      "[283] loss: 0.017\n",
      "[284] loss: 0.017\n",
      "[285] loss: 0.017\n",
      "[286] loss: 0.017\n",
      "[287] loss: 0.017\n",
      "[288] loss: 0.017\n",
      "[289] loss: 0.017\n",
      "[290] loss: 0.017\n",
      "[291] loss: 0.017\n",
      "[292] loss: 0.017\n",
      "[293] loss: 0.017\n",
      "[294] loss: 0.017\n",
      "[295] loss: 0.017\n",
      "[296] loss: 0.017\n",
      "[297] loss: 0.017\n",
      "[298] loss: 0.017\n",
      "[299] loss: 0.017\n",
      "[300] loss: 0.017\n"
     ]
    }
   ],
   "source": [
    "#train the model2\n",
    "for epoch in range(300):\n",
    "    running_loss2= 0.0\n",
    "    for i, (feature2,lable2) in enumerate(fraudulentTestLoader):\n",
    "        \n",
    "        #gets the inputs\n",
    "        inputs2= torch.tensor(feature2)\n",
    "        lables2= torch.tensor(lable2)\n",
    "        lables2= lables2.type(torch.LongTensor)\n",
    "       \n",
    "        # =====================forward====================\n",
    "        output2= model2(inputs2)\n",
    "        loss2= criterion2(output2,inputs2)\n",
    "        \n",
    "        # ===================backward====================\n",
    "        optimizer2.zero_grad()\n",
    "        loss2.backward()\n",
    "        optimizer2.step()\n",
    "        \n",
    "        # =======print the statistics\n",
    "        running_loss2 += loss2.item()\n",
    "        \n",
    "        #print(\"i: \",i)\n",
    "    #if i%100 == 0:              #print every 2000 mini-batches\n",
    "    \n",
    "    print('[%d] loss: %.3f' %\n",
    "              (epoch + 1,  running_loss2 / fraudulentCarfeatures.shape[0]))\n",
    "      #running_loss = 0.0"
   ]
  },
  {
   "cell_type": "code",
   "execution_count": 19,
   "metadata": {},
   "outputs": [],
   "source": [
    "def modelTest2(Loader2):\n",
    "    lossList2= []\n",
    "    trueLable1= []\n",
    "    for i,(feature2,lable2) in enumerate(Loader2):\n",
    "        inputs2= torch.tensor(feature2)\n",
    "        output2= model2(inputs2)\n",
    "        loss2= criterion2(output2,inputs2)\n",
    "        trueLable1.append(lable2)\n",
    "        lossList2.append(loss2.item()) #put the loss\n",
    "        '''        \n",
    "        if(i!=10):\n",
    "            print(\"input:\",inputs2)\n",
    "            print(\"output:\",output2)\n",
    "            print(\"loss1:\",loss2)\n",
    "            print(\"lable:\",lable2)\n",
    "        else:\n",
    "            assert(False)\n",
    "        '''\n",
    "        lossValue2= str(loss2.item())\n",
    "        f= open(\"./modle2Loss.txt\",'a')\n",
    "        f.write(lossValue2+'\\n')\n",
    "    f.close()\n",
    "        \n",
    "    return lossList2,trueLable1\n",
    "        "
   ]
  },
  {
   "cell_type": "code",
   "execution_count": 20,
   "metadata": {},
   "outputs": [],
   "source": [
    "lossList2,trueLable1= modelTest2(nonFraudulentTestLoader)\n"
   ]
  },
  {
   "cell_type": "code",
   "execution_count": 21,
   "metadata": {},
   "outputs": [
    {
     "name": "stdout",
     "output_type": "stream",
     "text": [
      "loss1: 0.04311539605259895\n",
      "loss2: 0.07364572584629059\n"
     ]
    },
    {
     "data": {
      "text/plain": [
       "3624"
      ]
     },
     "execution_count": 21,
     "metadata": {},
     "output_type": "execute_result"
    }
   ],
   "source": [
    "print(\"loss1:\",lossList1[1])\n",
    "print(\"loss2:\",lossList2[1])\n",
    "len(trueLable1)"
   ]
  },
  {
   "cell_type": "code",
   "execution_count": null,
   "metadata": {},
   "outputs": [],
   "source": []
  },
  {
   "cell_type": "code",
   "execution_count": 22,
   "metadata": {},
   "outputs": [],
   "source": [
    "predictedLable1=[]\n",
    "for k in range(len(lossList1)):\n",
    "    if(lossList1[k]<lossList2[k]):\n",
    "        predictedLable1.append(0)\n",
    "    else:\n",
    "        predictedLable1.append(1)"
   ]
  },
  {
   "cell_type": "code",
   "execution_count": 23,
   "metadata": {},
   "outputs": [
    {
     "name": "stdout",
     "output_type": "stream",
     "text": [
      "294 3330\n"
     ]
    },
    {
     "data": {
      "text/plain": [
       "3624"
      ]
     },
     "execution_count": 23,
     "metadata": {},
     "output_type": "execute_result"
    }
   ],
   "source": [
    "\n",
    "class1= predictedLable1.count(1)\n",
    "class0= predictedLable1.count(0)\n",
    "print('%d %d' %(class1,class0))\n",
    "len(trueLable1)\n"
   ]
  },
  {
   "cell_type": "code",
   "execution_count": null,
   "metadata": {},
   "outputs": [],
   "source": []
  },
  {
   "cell_type": "code",
   "execution_count": 24,
   "metadata": {},
   "outputs": [],
   "source": [
    "#test model1 with another type of data\n",
    "lossList3,trueLable2= modelTest1(fraudulentTestLoader)\n"
   ]
  },
  {
   "cell_type": "code",
   "execution_count": 25,
   "metadata": {},
   "outputs": [],
   "source": [
    "#test model2 with another type of data\n",
    "lossList4,trueLable2= modelTest2(fraudulentTestLoader)\n"
   ]
  },
  {
   "cell_type": "code",
   "execution_count": 26,
   "metadata": {},
   "outputs": [],
   "source": [
    "predictedLable2=[]\n",
    "for k in range(len(lossList3)):\n",
    "    if(lossList3[k]<lossList4[k]):\n",
    "        predictedLable2.append(0)\n",
    "    else:\n",
    "        predictedLable2.append(1)"
   ]
  },
  {
   "cell_type": "code",
   "execution_count": 27,
   "metadata": {},
   "outputs": [
    {
     "name": "stdout",
     "output_type": "stream",
     "text": [
      "40 191\n"
     ]
    }
   ],
   "source": [
    "class1= predictedLable2.count(1)\n",
    "class0= predictedLable2.count(0)\n",
    "print('%d %d' %(class1,class0))\n"
   ]
  },
  {
   "cell_type": "code",
   "execution_count": null,
   "metadata": {},
   "outputs": [],
   "source": []
  },
  {
   "cell_type": "code",
   "execution_count": null,
   "metadata": {},
   "outputs": [],
   "source": []
  },
  {
   "cell_type": "code",
   "execution_count": 28,
   "metadata": {},
   "outputs": [
    {
     "name": "stdout",
     "output_type": "stream",
     "text": [
      "\n",
      "Result \n",
      "Accuracy: 87.4189364461738\n",
      "Sensitivity: 17.316017316017316\n",
      "Specificity: 91.88741721854305\n",
      "\n",
      "\n",
      "\n",
      "TP: 40\n",
      "\n",
      "FN: 191\n",
      "\n",
      "FP: 294\n",
      "\n",
      "TN: 3330\n"
     ]
    }
   ],
   "source": [
    "totalLength1= len(trueLable1)\n",
    "TP=FP=FN=TN= 0\n",
    "for i in range(totalLength1):\n",
    "    if(int(trueLable1[i])==1 and predictedLable1[i]==1):\n",
    "        TP += 1\n",
    "    elif(int(trueLable1[i])==1 and predictedLable1[i]==0):\n",
    "        FN += 1\n",
    "    elif(int(trueLable1[i])==0 and predictedLable1[i]==0):\n",
    "        TN += 1\n",
    "    elif(int(trueLable1[i])==0 and predictedLable1[i]==1):\n",
    "        FP += 1\n",
    "\n",
    "totalLength2= len(trueLable2)\n",
    "for i in range(totalLength2):\n",
    "    if(int(trueLable2[i])==1 and predictedLable2[i]==1):\n",
    "        TP += 1\n",
    "    elif(int(trueLable2[i])==1 and predictedLable2[i]==0):\n",
    "        FN += 1\n",
    "    elif(int(trueLable2[i])==0 and predictedLable2[i]==0):\n",
    "        TN += 1\n",
    "    elif(int(trueLable2[i])==0 and predictedLable2[i]==1):\n",
    "        FP += 1\n",
    "        \n",
    "print(\"\\nResult \")\n",
    "print(\"Accuracy:\",(TP+TN)/(TP+FP+FN+TN)*100)\n",
    "print(\"Sensitivity:\",TP/(TP+FN)*100)\n",
    "print(\"Specificity:\",TN/(TN+FP)*100)\n",
    "print(\"\\n\")\n",
    "print(\"\\nTP:\",TP)\n",
    "print(\"\\nFN:\",FN)\n",
    "print(\"\\nFP:\",FP)\n",
    "print(\"\\nTN:\",TN)\n"
   ]
  },
  {
   "cell_type": "code",
   "execution_count": null,
   "metadata": {},
   "outputs": [],
   "source": []
  },
  {
   "cell_type": "code",
   "execution_count": null,
   "metadata": {},
   "outputs": [],
   "source": []
  },
  {
   "cell_type": "code",
   "execution_count": null,
   "metadata": {},
   "outputs": [],
   "source": []
  }
 ],
 "metadata": {
  "kernelspec": {
   "display_name": "Python 3",
   "language": "python",
   "name": "python3"
  },
  "language_info": {
   "codemirror_mode": {
    "name": "ipython",
    "version": 3
   },
   "file_extension": ".py",
   "mimetype": "text/x-python",
   "name": "python",
   "nbconvert_exporter": "python",
   "pygments_lexer": "ipython3",
   "version": "3.6.4"
  }
 },
 "nbformat": 4,
 "nbformat_minor": 2
}
