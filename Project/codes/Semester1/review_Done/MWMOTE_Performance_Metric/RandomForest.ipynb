{
 "cells": [
  {
   "cell_type": "code",
   "execution_count": 18,
   "metadata": {
    "collapsed": false
   },
   "outputs": [],
   "source": [
    "import pandas as pd\n",
    "import numpy as np\n",
    "from sklearn.model_selection import train_test_split\n",
    "from sklearn.metrics import accuracy_score\n",
    "from sklearn.ensemble import RandomForestClassifier\n",
    "from sklearn.preprocessing import LabelEncoder\n",
    "import matplotlib.pyplot as plt\n",
    "from sklearn.metrics import confusion_matrix\n",
    "from sklearn.preprocessing import LabelEncoder\n",
    "from sklearn.metrics import roc_curve, auc"
   ]
  },
  {
   "cell_type": "code",
   "execution_count": 19,
   "metadata": {
    "collapsed": false
   },
   "outputs": [],
   "source": [
    "#Read the data into dataframe\n",
    "car_df = pd.read_csv('newCardata.csv')\n",
    "car_features = pd.read_csv('finalDataPreprocessBinary.csv')\n",
    "car_label = car_df['FraudFound']\n",
    "new_syntheticData = pd.read_csv('MwMOTEgeneratedSyntheticData.csv')\n"
   ]
  },
  {
   "cell_type": "code",
   "execution_count": 20,
   "metadata": {
    "collapsed": false
   },
   "outputs": [
    {
     "name": "stdout",
     "output_type": "stream",
     "text": [
      "(15419,)\n"
     ]
    }
   ],
   "source": [
    "#change the label of the data\n",
    "labelNo = LabelEncoder()\n",
    "car_df['FraudFound'] = labelNo.fit_transform(car_df['FraudFound'].astype('str'))\n",
    "car_label = car_df['FraudFound']\n",
    "print(car_label.shape)\n"
   ]
  },
  {
   "cell_type": "code",
   "execution_count": 4,
   "metadata": {
    "collapsed": false
   },
   "outputs": [
    {
     "data": {
      "text/plain": [
       "(13573, 52)"
      ]
     },
     "execution_count": 4,
     "metadata": {},
     "output_type": "execute_result"
    }
   ],
   "source": [
    "new_syntheticData.shape"
   ]
  },
  {
   "cell_type": "code",
   "execution_count": null,
   "metadata": {
    "collapsed": true
   },
   "outputs": [],
   "source": []
  },
  {
   "cell_type": "code",
   "execution_count": 5,
   "metadata": {
    "collapsed": false
   },
   "outputs": [
    {
     "name": "stdout",
     "output_type": "stream",
     "text": [
      "(28992, 52)\n",
      "(28992, 1)\n"
     ]
    }
   ],
   "source": [
    "#MwMote\n",
    "combine_car_features = pd.read_csv('finalPreprocessBinaryTogether.csv')\n",
    "combine_car_label = pd.read_csv('label.csv')\n",
    "print(combine_car_features.shape)\n",
    "print(combine_car_label.shape)"
   ]
  },
  {
   "cell_type": "code",
   "execution_count": 6,
   "metadata": {
    "collapsed": true
   },
   "outputs": [],
   "source": [
    "#add columns to existing dataframe\n",
    "combine_car_features['FraudFound']=combine_car_label "
   ]
  },
  {
   "cell_type": "code",
   "execution_count": 7,
   "metadata": {
    "collapsed": false
   },
   "outputs": [
    {
     "data": {
      "text/html": [
       "<div>\n",
       "<table border=\"1\" class=\"dataframe\">\n",
       "  <thead>\n",
       "    <tr style=\"text-align: right;\">\n",
       "      <th></th>\n",
       "      <th>Make_0</th>\n",
       "      <th>Make_1</th>\n",
       "      <th>Make_2</th>\n",
       "      <th>Make_3</th>\n",
       "      <th>Make_4</th>\n",
       "      <th>MaritalStatus_0</th>\n",
       "      <th>MaritalStatus_1</th>\n",
       "      <th>PolicyType_0</th>\n",
       "      <th>PolicyType_1</th>\n",
       "      <th>PolicyType_2</th>\n",
       "      <th>...</th>\n",
       "      <th>PoliceReportFiled_Yes</th>\n",
       "      <th>WitnessPresent_No</th>\n",
       "      <th>WitnessPresent_Yes</th>\n",
       "      <th>AgentType_External</th>\n",
       "      <th>AgentType_Internal</th>\n",
       "      <th>RepNumber</th>\n",
       "      <th>Deductible</th>\n",
       "      <th>DriverRating</th>\n",
       "      <th>DayDiff</th>\n",
       "      <th>FraudFound</th>\n",
       "    </tr>\n",
       "  </thead>\n",
       "  <tbody>\n",
       "    <tr>\n",
       "      <th>0</th>\n",
       "      <td>0</td>\n",
       "      <td>0</td>\n",
       "      <td>0</td>\n",
       "      <td>0</td>\n",
       "      <td>0</td>\n",
       "      <td>0</td>\n",
       "      <td>0</td>\n",
       "      <td>0</td>\n",
       "      <td>0</td>\n",
       "      <td>0</td>\n",
       "      <td>...</td>\n",
       "      <td>0</td>\n",
       "      <td>1</td>\n",
       "      <td>0</td>\n",
       "      <td>1</td>\n",
       "      <td>0</td>\n",
       "      <td>0.733333</td>\n",
       "      <td>0.00</td>\n",
       "      <td>0.000000</td>\n",
       "      <td>0.000000</td>\n",
       "      <td>0</td>\n",
       "    </tr>\n",
       "    <tr>\n",
       "      <th>1</th>\n",
       "      <td>0</td>\n",
       "      <td>0</td>\n",
       "      <td>0</td>\n",
       "      <td>0</td>\n",
       "      <td>0</td>\n",
       "      <td>0</td>\n",
       "      <td>0</td>\n",
       "      <td>0</td>\n",
       "      <td>0</td>\n",
       "      <td>0</td>\n",
       "      <td>...</td>\n",
       "      <td>1</td>\n",
       "      <td>1</td>\n",
       "      <td>0</td>\n",
       "      <td>1</td>\n",
       "      <td>0</td>\n",
       "      <td>0.933333</td>\n",
       "      <td>0.25</td>\n",
       "      <td>1.000000</td>\n",
       "      <td>0.013587</td>\n",
       "      <td>0</td>\n",
       "    </tr>\n",
       "    <tr>\n",
       "      <th>2</th>\n",
       "      <td>0</td>\n",
       "      <td>0</td>\n",
       "      <td>0</td>\n",
       "      <td>0</td>\n",
       "      <td>0</td>\n",
       "      <td>0</td>\n",
       "      <td>1</td>\n",
       "      <td>0</td>\n",
       "      <td>0</td>\n",
       "      <td>0</td>\n",
       "      <td>...</td>\n",
       "      <td>0</td>\n",
       "      <td>1</td>\n",
       "      <td>0</td>\n",
       "      <td>1</td>\n",
       "      <td>0</td>\n",
       "      <td>0.400000</td>\n",
       "      <td>0.25</td>\n",
       "      <td>0.666667</td>\n",
       "      <td>0.035326</td>\n",
       "      <td>0</td>\n",
       "    </tr>\n",
       "    <tr>\n",
       "      <th>3</th>\n",
       "      <td>0</td>\n",
       "      <td>0</td>\n",
       "      <td>0</td>\n",
       "      <td>0</td>\n",
       "      <td>1</td>\n",
       "      <td>0</td>\n",
       "      <td>1</td>\n",
       "      <td>0</td>\n",
       "      <td>0</td>\n",
       "      <td>1</td>\n",
       "      <td>...</td>\n",
       "      <td>1</td>\n",
       "      <td>1</td>\n",
       "      <td>0</td>\n",
       "      <td>1</td>\n",
       "      <td>0</td>\n",
       "      <td>0.200000</td>\n",
       "      <td>0.25</td>\n",
       "      <td>0.333333</td>\n",
       "      <td>0.054348</td>\n",
       "      <td>0</td>\n",
       "    </tr>\n",
       "    <tr>\n",
       "      <th>4</th>\n",
       "      <td>0</td>\n",
       "      <td>0</td>\n",
       "      <td>0</td>\n",
       "      <td>0</td>\n",
       "      <td>0</td>\n",
       "      <td>0</td>\n",
       "      <td>0</td>\n",
       "      <td>0</td>\n",
       "      <td>0</td>\n",
       "      <td>0</td>\n",
       "      <td>...</td>\n",
       "      <td>0</td>\n",
       "      <td>1</td>\n",
       "      <td>0</td>\n",
       "      <td>1</td>\n",
       "      <td>0</td>\n",
       "      <td>0.133333</td>\n",
       "      <td>0.25</td>\n",
       "      <td>0.000000</td>\n",
       "      <td>0.040761</td>\n",
       "      <td>0</td>\n",
       "    </tr>\n",
       "  </tbody>\n",
       "</table>\n",
       "<p>5 rows × 53 columns</p>\n",
       "</div>"
      ],
      "text/plain": [
       "   Make_0  Make_1  Make_2  Make_3  Make_4  MaritalStatus_0  MaritalStatus_1  \\\n",
       "0       0       0       0       0       0                0                0   \n",
       "1       0       0       0       0       0                0                0   \n",
       "2       0       0       0       0       0                0                1   \n",
       "3       0       0       0       0       1                0                1   \n",
       "4       0       0       0       0       0                0                0   \n",
       "\n",
       "   PolicyType_0  PolicyType_1  PolicyType_2     ...      \\\n",
       "0             0             0             0     ...       \n",
       "1             0             0             0     ...       \n",
       "2             0             0             0     ...       \n",
       "3             0             0             1     ...       \n",
       "4             0             0             0     ...       \n",
       "\n",
       "   PoliceReportFiled_Yes  WitnessPresent_No  WitnessPresent_Yes  \\\n",
       "0                      0                  1                   0   \n",
       "1                      1                  1                   0   \n",
       "2                      0                  1                   0   \n",
       "3                      1                  1                   0   \n",
       "4                      0                  1                   0   \n",
       "\n",
       "   AgentType_External  AgentType_Internal  RepNumber  Deductible  \\\n",
       "0                   1                   0   0.733333        0.00   \n",
       "1                   1                   0   0.933333        0.25   \n",
       "2                   1                   0   0.400000        0.25   \n",
       "3                   1                   0   0.200000        0.25   \n",
       "4                   1                   0   0.133333        0.25   \n",
       "\n",
       "   DriverRating   DayDiff  FraudFound  \n",
       "0      0.000000  0.000000           0  \n",
       "1      1.000000  0.013587           0  \n",
       "2      0.666667  0.035326           0  \n",
       "3      0.333333  0.054348           0  \n",
       "4      0.000000  0.040761           0  \n",
       "\n",
       "[5 rows x 53 columns]"
      ]
     },
     "execution_count": 7,
     "metadata": {},
     "output_type": "execute_result"
    }
   ],
   "source": [
    "combine_car_features.head()"
   ]
  },
  {
   "cell_type": "code",
   "execution_count": 8,
   "metadata": {
    "collapsed": false
   },
   "outputs": [],
   "source": [
    "#shuffle the data.\n",
    "new_combine_features = combine_car_features.set_index(np.random.permutation(combine_car_features.index))"
   ]
  },
  {
   "cell_type": "code",
   "execution_count": 9,
   "metadata": {
    "collapsed": false
   },
   "outputs": [],
   "source": [
    "#now divide the feature and label\n",
    "new_label = new_combine_features['FraudFound']\n",
    "\n",
    "#drop the Fraud Found lable\n",
    "#drop the following attributes\n",
    "new_combine_features.drop(['FraudFound'],inplace=True,axis=1)\n",
    "# new_label.shape\n",
    "# print(new_label)"
   ]
  },
  {
   "cell_type": "code",
   "execution_count": 10,
   "metadata": {
    "collapsed": true
   },
   "outputs": [],
   "source": [
    "#train the model\n",
    "X_train,X_test,y_train,y_test = train_test_split(new_combine_features,new_label,random_state=3,test_size=0.25)"
   ]
  },
  {
   "cell_type": "code",
   "execution_count": 11,
   "metadata": {
    "collapsed": false
   },
   "outputs": [
    {
     "name": "stdout",
     "output_type": "stream",
     "text": [
      "Random forest classifier:\n",
      "<class 'numpy.ndarray'> (7248,) [1 1 0 ..., 0 0 1]\n",
      "Accuracy is  99.41\n"
     ]
    }
   ],
   "source": [
    "#model object\n",
    "model = RandomForestClassifier(n_estimators=100)\n",
    "model.fit(X_train,y_train)\n",
    "\n",
    "print('Random forest classifier:')\n",
    "predicted = model.predict(X_test)\n",
    "print(type(predicted),predicted.shape,predicted)\n",
    "print('Accuracy is ',round(accuracy_score(y_test,model.predict(X_test)) * 100,2))\n"
   ]
  },
  {
   "cell_type": "code",
   "execution_count": 12,
   "metadata": {
    "collapsed": false
   },
   "outputs": [
    {
     "name": "stdout",
     "output_type": "stream",
     "text": [
      "<class 'numpy.ndarray'>\n",
      "<class 'numpy.ndarray'>\n"
     ]
    }
   ],
   "source": [
    "y_test= pd.Series(y_test).values\n",
    "print(type(y_test))\n",
    "print(type(predicted))\n"
   ]
  },
  {
   "cell_type": "code",
   "execution_count": 13,
   "metadata": {
    "collapsed": false
   },
   "outputs": [
    {
     "name": "stdout",
     "output_type": "stream",
     "text": [
      "Confusion Matrix:\n",
      " [[3580   43]\n",
      " [   0 3625]]\n",
      "TN: 3580\n",
      "FP: 43\n",
      "FN: 0\n",
      "TP: 3625\n",
      "Accuracy: 99.4067328918\n",
      "Sensitivity: 100.0\n",
      "Specificity: 98.8131382832\n"
     ]
    }
   ],
   "source": [
    "# calculating specifity and sensitivity\n",
    "# 0  := Negative(FraudNotFound)\n",
    "# 1 := Positive (FraudFound)\n",
    "cm = confusion_matrix(y_test,predicted)\n",
    "print(\"Confusion Matrix:\\n\",cm)\n",
    "TN, FP, FN, TP = cm.ravel()\n",
    "\n",
    "print(\"TN:\",TN)\n",
    "print(\"FP:\",FP)\n",
    "print(\"FN:\",FN)\n",
    "print(\"TP:\",TP)\n",
    "\n",
    "print(\"Accuracy:\",(TP+TN)/(TP+FP+FN+TN)*100)\n",
    "print(\"Sensitivity:\",TP/(TP+FN)*100)\n",
    "print(\"Specificity:\",TN/(TN+FP)*100)"
   ]
  },
  {
   "cell_type": "code",
   "execution_count": 104,
   "metadata": {
    "collapsed": false
   },
   "outputs": [
    {
     "name": "stdout",
     "output_type": "stream",
     "text": [
      "0.995999333896\n",
      "0.945712857552\n",
      "0.997811358373\n",
      "0.970128952268\n"
     ]
    }
   ],
   "source": [
    "#cross validation\n",
    "from sklearn.model_selection import cross_val_score\n",
    "from sklearn.model_selection import cross_val_predict\n",
    "from sklearn import metrics\n",
    "from sklearn import model_selection\n",
    "from sklearn.metrics import precision_recall_fscore_support\n",
    "from sklearn.metrics import make_scorer, accuracy_score, precision_score, recall_score, f1_score\n",
    "\n",
    "\n",
    "scoring = {'accuracy' : make_scorer(accuracy_score), \n",
    "           'precision' : make_scorer(precision_score),\n",
    "           'recall' : make_scorer(recall_score), \n",
    "           'f1_score' : make_scorer(f1_score)}\n",
    "\n",
    "kfold = model_selection.KFold(n_splits=10, random_state=10)\n",
    "model=RandomForestClassifier(n_estimators=100) \n",
    "\n",
    "results = model_selection.cross_validate(estimator=model,X=new_combine_features,y=new_label,cv=kfold,scoring=scoring)\n",
    "\n",
    "print(np.mean(results['test_accuracy']))\n",
    "print(np.mean(results['test_precision']))\n",
    "print(np.mean(results['test_recall']))\n",
    "print(np.mean(results['test_f1_score']))\n"
   ]
  },
  {
   "cell_type": "code",
   "execution_count": 105,
   "metadata": {
    "collapsed": false
   },
   "outputs": [
    {
     "name": "stdout",
     "output_type": "stream",
     "text": [
      "Features shape (28992, 52)\n",
      "Label shape (28992,)\n",
      "<class 'numpy.ndarray'>\n",
      "<class 'numpy.ndarray'>\n"
     ]
    }
   ],
   "source": [
    "# Run classifier with cross-validation and plot ROC curves\n",
    "from sklearn.model_selection import StratifiedKFold\n",
    "from scipy import interp\n",
    "\n",
    "\n",
    "cv = StratifiedKFold(n_splits=10)\n",
    "classifier = RandomForestClassifier(n_estimators=100) \n",
    "tprs = []\n",
    "aucs = []\n",
    "mean_fpr = np.linspace(0, 1, 100)\n",
    "i = 0\n",
    "print(\"Features shape\",new_combine_features.shape)\n",
    "print(\"Label shape\",new_label.shape)\n",
    "\n",
    "new_combine_features= pd.DataFrame(new_combine_features).values\n",
    "new_label= pd.Series(new_label).values\n",
    "print(type(new_label))\n",
    "print(type(new_combine_features))"
   ]
  },
  {
   "cell_type": "code",
   "execution_count": 106,
   "metadata": {
    "collapsed": false
   },
   "outputs": [],
   "source": [
    "#plot of ROC curve for cross validation\n",
    "accuracy= []\n",
    "precision= []\n",
    "sensitivity= []\n",
    "specificity= []\n",
    "f1score= []\n",
    "\n",
    "for train, test in cv.split(new_combine_features, new_label):\n",
    "    \n",
    "          \n",
    "    probas_ = classifier.fit(new_combine_features[train], new_label[train]).predict_proba(new_combine_features[test])\n",
    "    j= 0\n",
    "    for j in range(probas_.shape[0]):\n",
    "        if (probas_[j,1]>0.5):\n",
    "            probas_[j,1]= 1\n",
    "        else:\n",
    "            probas_[j,1]= 0\n",
    "\n",
    "      \n",
    "    cm = confusion_matrix(new_label[test],probas_[:,1])\n",
    "    TN, FP, FN, TP = cm.ravel()\n",
    "    acc= (TP+TN)/(TP+FP+FN+TN)*100\n",
    "    prec= TP/(TP+FP)*100\n",
    "    sens= TP/(TP+FN)*100\n",
    "    spec= TN/(TN+FP)*100\n",
    "    f1= (2 * prec * sens)/(prec + sens)\n",
    "    \n",
    "    accuracy.append(acc)\n",
    "    precision.append(prec)\n",
    "    sensitivity.append(sens)\n",
    "    specificity.append(spec)\n",
    "    f1score.append(f1)\n",
    "    \n",
    "    # Compute ROC curve and area the curve\n",
    "    fpr, tpr, thresholds = roc_curve(new_label[test], probas_[:, 1])\n",
    "    tprs.append(interp(mean_fpr, fpr, tpr))\n",
    "    tprs[-1][0] = 0.0\n",
    "    roc_auc = auc(fpr, tpr)\n",
    "    aucs.append(roc_auc)\n",
    "    plt.plot(fpr, tpr, lw=1, alpha=0.3,\n",
    "             label='ROC fold %d (AUC = %0.2f)' % (i, roc_auc))\n",
    "\n",
    "    i += 1\n",
    "\n"
   ]
  },
  {
   "cell_type": "code",
   "execution_count": 107,
   "metadata": {
    "collapsed": false
   },
   "outputs": [
    {
     "name": "stdout",
     "output_type": "stream",
     "text": [
      "Accuracy: 99.6447252564\n",
      "Precision: 99.321886962\n",
      "Sensitivity: 99.9724137931\n",
      "Specificity: 99.3170367197\n",
      "F1_score: 99.6459756971\n"
     ]
    }
   ],
   "source": [
    "print(\"Accuracy:\",np.mean(accuracy))\n",
    "print(\"Precision:\",np.mean(precision))\n",
    "print(\"Sensitivity:\",np.mean(sensitivity))\n",
    "print(\"Specificity:\",np.mean(specificity))\n",
    "print(\"F1_score:\",np.mean(f1score))\n"
   ]
  },
  {
   "cell_type": "code",
   "execution_count": 108,
   "metadata": {
    "collapsed": false
   },
   "outputs": [
    {
     "data": {
      "image/png": "[encoded data removed]",
      "text/plain": [
       "<matplotlib.figure.Figure at 0x7f80f5651c88>"
      ]
     },
     "metadata": {},
     "output_type": "display_data"
    }
   ],
   "source": [
    "plt.plot([0, 1], [0, 1], linestyle='--', lw=2, color='r',\n",
    "          alpha=.8)\n",
    "\n",
    "mean_tpr = np.mean(tprs, axis=0)\n",
    "mean_tpr[-1] = 1.0\n",
    "mean_auc = auc(mean_fpr, mean_tpr)\n",
    "std_auc = np.std(aucs)\n",
    "plt.plot(mean_fpr, mean_tpr, color='b',\n",
    "         label=r'Mean ROC (AUC = %0.2f $\\pm$ %0.2f)' % (mean_auc, std_auc),\n",
    "         lw=2, alpha=.8)\n",
    "\n",
    "std_tpr = np.std(tprs, axis=0)\n",
    "tprs_upper = np.minimum(mean_tpr + std_tpr, 1)\n",
    "tprs_lower = np.maximum(mean_tpr - std_tpr, 0)\n",
    "plt.fill_between(mean_fpr, tprs_lower, tprs_upper, color='grey', alpha=.2,\n",
    "                 label=r'$\\pm$ 1 std. dev.')\n",
    "\n",
    "plt.xlim([-0.05, 1.05])\n",
    "plt.ylim([-0.05, 1.05])\n",
    "plt.xlabel('False Positive Rate')\n",
    "plt.ylabel('True Positive Rate')\n",
    "plt.title('Receiver operating characteristic example')\n",
    "plt.legend(loc=\"lower right\")\n",
    "plt.show()"
   ]
  },
  {
   "cell_type": "code",
   "execution_count": 53,
   "metadata": {
    "collapsed": false
   },
   "outputs": [
    {
     "name": "stdout",
     "output_type": "stream",
     "text": [
      "(28992, 52)\n",
      "(15419,)\n"
     ]
    }
   ],
   "source": [
    "print(car_features.shape)\n",
    "print(car_label.shape)"
   ]
  },
  {
   "cell_type": "code",
   "execution_count": 58,
   "metadata": {
    "collapsed": false
   },
   "outputs": [
    {
     "name": "stdout",
     "output_type": "stream",
     "text": [
      "Accuracy: 94.091695325\n",
      "Precision: 66.5\n",
      "Sensitivity: 2.49064983637\n",
      "Specificity: 99.9241093739\n",
      "F1_score: 4.78194876928\n"
     ]
    }
   ],
   "source": [
    "#random forest without smote with cross validation\n",
    "cv = StratifiedKFold(n_splits=10)\n",
    "classifier = RandomForestClassifier(n_estimators=100) \n",
    "tprs = []\n",
    "aucs = []\n",
    "mean_fpr = np.linspace(0, 1, 100)\n",
    "i = 0\n",
    "accuracy= []\n",
    "precision= []\n",
    "sensitivity= []\n",
    "specificity= []\n",
    "f1score= []\n",
    "\n",
    "car_features= pd.DataFrame(car_features).values\n",
    "car_label= pd.Series(car_label).values\n",
    "\n",
    "\n",
    "\n",
    "for train, test in cv.split(car_features, car_label):\n",
    "    probas_ = classifier.fit(car_features[train], car_label[train]).predict_proba(car_features[test])\n",
    "    j= 0\n",
    "    for j in range(probas_.shape[0]):\n",
    "        if (probas_[j,1]>0.5):\n",
    "            probas_[j,1]= 1\n",
    "        else:\n",
    "            probas_[j,1]= 0\n",
    "\n",
    "      \n",
    "    cm = confusion_matrix(car_label[test],probas_[:,1])\n",
    "    TN, FP, FN, TP = cm.ravel()\n",
    "    acc= (TP+TN)/(TP+FP+FN+TN)*100\n",
    "    prec= TP/(TP+FP)*100\n",
    "    sens= TP/(TP+FN)*100\n",
    "    spec= TN/(TN+FP)*100\n",
    "    f1= (2 * prec * sens)/(prec + sens)\n",
    "    \n",
    "    accuracy.append(acc)\n",
    "    precision.append(prec)\n",
    "    sensitivity.append(sens)\n",
    "    specificity.append(spec)\n",
    "    f1score.append(f1)\n",
    "    \n",
    "print(\"Accuracy:\",np.mean(accuracy))\n",
    "print(\"Precision:\",np.mean(precision))\n",
    "print(\"Sensitivity:\",np.mean(sensitivity))\n",
    "print(\"Specificity:\",np.mean(specificity))\n",
    "print(\"F1_score:\",np.mean(f1score))"
   ]
  },
  {
   "cell_type": "code",
   "execution_count": 21,
   "metadata": {
    "collapsed": false
   },
   "outputs": [
    {
     "name": "stdout",
     "output_type": "stream",
     "text": [
      "(28992, 52)\n",
      "(28992,)\n",
      "(28992, 52)\n",
      "(28992,)\n",
      "<class 'pandas.core.frame.DataFrame'>\n",
      "<class 'numpy.ndarray'>\n"
     ]
    },
    {
     "ename": "AttributeError",
     "evalue": "'numpy.ndarray' object has no attribute 'values'",
     "output_type": "error",
     "traceback": [
      "\u001b[0;31m---------------------------------------------------------------------------\u001b[0m",
      "\u001b[0;31mAttributeError\u001b[0m                            Traceback (most recent call last)",
      "\u001b[0;32m<ipython-input-21-96ffd9d49ed1>\u001b[0m in \u001b[0;36m<module>\u001b[0;34m()\u001b[0m\n\u001b[1;32m     13\u001b[0m \u001b[0;34m\u001b[0m\u001b[0m\n\u001b[1;32m     14\u001b[0m \u001b[0mX\u001b[0m\u001b[0;34m=\u001b[0m \u001b[0mX\u001b[0m\u001b[0;34m.\u001b[0m\u001b[0mvalues\u001b[0m\u001b[0;34m\u001b[0m\u001b[0m\n\u001b[0;32m---> 15\u001b[0;31m \u001b[0mnew_label\u001b[0m\u001b[0;34m=\u001b[0m \u001b[0mnew_label\u001b[0m\u001b[0;34m.\u001b[0m\u001b[0mvalues\u001b[0m\u001b[0;34m\u001b[0m\u001b[0m\n\u001b[0m\u001b[1;32m     16\u001b[0m \u001b[0;34m\u001b[0m\u001b[0m\n\u001b[1;32m     17\u001b[0m \u001b[0mclassifier\u001b[0m \u001b[0;34m=\u001b[0m \u001b[0mRandomForestClassifier\u001b[0m\u001b[0;34m(\u001b[0m\u001b[0mn_estimators\u001b[0m\u001b[0;34m=\u001b[0m\u001b[0;36m100\u001b[0m\u001b[0;34m)\u001b[0m\u001b[0;34m\u001b[0m\u001b[0m\n",
      "\u001b[0;31mAttributeError\u001b[0m: 'numpy.ndarray' object has no attribute 'values'"
     ]
    }
   ],
   "source": [
    "#own kfold cross validation\n",
    "from sklearn.model_selection import KFold \n",
    "\n",
    "\n",
    "#add two np array in x-direction\n",
    "print(new_combine_features.shape)\n",
    "print(new_label.shape)\n",
    "X= new_combine_features\n",
    "print(X.shape)\n",
    "print(new_label.shape)\n",
    "print(type(X))\n",
    "print(type(new_label))\n",
    "\n",
    "X= X.values\n",
    "new_label= new_label.values\n",
    "\n",
    "classifier = RandomForestClassifier(n_estimators=100) \n",
    "\n",
    "#kf = RepeatedKFold(n_splits=10, n_repeats=1, random_state=None) \n",
    "kf = KFold(n_splits=10,random_state=False,shuffle=False)\n",
    "\n",
    "accuracy= []\n",
    "precision= []\n",
    "sensitivity= []\n",
    "specificity= []\n",
    "f1score= []\n",
    "\n",
    "\n",
    "for train_index, test_index in kf.split(X):\n",
    "    X_train, X_test = X[train_index], X[test_index] \n",
    "    y_train, y_test = new_label[train_index], new_label[test_index]\n",
    "    probas_ = classifier.fit(X_train, y_train).predict_proba(X_test)\n",
    "    j= 0\n",
    "    for j in range(probas_.shape[0]):\n",
    "        if (probas_[j,1]>0.5):\n",
    "            probas_[j,1]= 1\n",
    "        else:\n",
    "            probas_[j,1]= 0\n",
    "\n",
    "      \n",
    "    cm = confusion_matrix(y_test,probas_[:,1])\n",
    "    if(cm.shape[0]==1):\n",
    "        print(\"y_test label:\",y_test[0],y_test[1])\n",
    "        zrow= np.zeros((1,2),dtype=int)\n",
    "        zcol= np.zeros((1,1),dtype=int)\n",
    "        cm= np.concatenate((cm,zcol),axis=1)\n",
    "        cm= np.concatenate((cm,zrow),axis=0)\n",
    "    print(cm)\n",
    "    print(type(cm))\n",
    "    print(\"shape\",cm.shape)\n",
    "    TN, FP, FN, TP = cm.ravel()\n",
    "    acc= (TP+TN)/(TP+FP+FN+TN)*100\n",
    "    prec= TP/(TP+FP)*100\n",
    "    sens= TP/(TP+FN)*100\n",
    "    spec= TN/(TN+FP)*100\n",
    "    f1= (2 * prec * sens)/(prec + sens)\n",
    "    \n",
    "    accuracy.append(acc)\n",
    "    precision.append(prec)\n",
    "    sensitivity.append(sens)\n",
    "    specificity.append(spec)\n",
    "    f1score.append(f1)\n",
    "    \n",
    "    "
   ]
  },
  {
   "cell_type": "code",
   "execution_count": 22,
   "metadata": {
    "collapsed": false
   },
   "outputs": [
    {
     "name": "stdout",
     "output_type": "stream",
     "text": [
      "Accuracy: nan\n",
      "Precision: nan\n",
      "Sensitivity: nan\n",
      "Specificity: nan\n",
      "F1_score: nan\n"
     ]
    },
    {
     "name": "stderr",
     "output_type": "stream",
     "text": [
      "/usr/local/anaconda3/lib/python3.5/site-packages/numpy/core/_methods.py:59: RuntimeWarning: Mean of empty slice.\n",
      "  warnings.warn(\"Mean of empty slice.\", RuntimeWarning)\n"
     ]
    }
   ],
   "source": [
    "print(\"Accuracy:\",np.mean(accuracy))\n",
    "print(\"Precision:\",np.mean(precision))\n",
    "print(\"Sensitivity:\",np.mean(sensitivity))\n",
    "print(\"Specificity:\",np.mean(specificity))\n",
    "print(\"F1_score:\",np.mean(f1score))"
   ]
  },
  {
   "cell_type": "code",
   "execution_count": null,
   "metadata": {
    "collapsed": true
   },
   "outputs": [],
   "source": []
  }
 ],
 "metadata": {
  "anaconda-cloud": {},
  "kernelspec": {
   "display_name": "Python [anaconda3]",
   "language": "python",
   "name": "Python [anaconda3]"
  },
  "language_info": {
   "codemirror_mode": {
    "name": "ipython",
    "version": 3
   },
   "file_extension": ".py",
   "mimetype": "text/x-python",
   "name": "python",
   "nbconvert_exporter": "python",
   "pygments_lexer": "ipython3",
   "version": "3.5.5"
  }
 },
 "nbformat": 4,
 "nbformat_minor": 0
}
