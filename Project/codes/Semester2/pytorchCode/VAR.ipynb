{
 "cells": [
  {
   "cell_type": "code",
   "execution_count": 1,
   "metadata": {},
   "outputs": [],
   "source": [
    "import numpy as np\n",
    "import matplotlib.pyplot as plt\n",
    "import torch\n",
    "import torch.nn as nn\n",
    "import torch.nn.functional as F\n",
    "import torchvision\n",
    "from torchvision import models, transforms, datasets\n",
    "from scipy.stats import norm\n",
    "%matplotlib inline"
   ]
  },
  {
   "cell_type": "code",
   "execution_count": 2,
   "metadata": {},
   "outputs": [
    {
     "name": "stdout",
     "output_type": "stream",
     "text": [
      "Downloading http://yann.lecun.com/exdb/mnist/train-images-idx3-ubyte.gz\n",
      "Downloading http://yann.lecun.com/exdb/mnist/train-labels-idx1-ubyte.gz\n",
      "Downloading http://yann.lecun.com/exdb/mnist/t10k-images-idx3-ubyte.gz\n",
      "Downloading http://yann.lecun.com/exdb/mnist/t10k-labels-idx1-ubyte.gz\n",
      "Processing...\n",
      "Done!\n"
     ]
    }
   ],
   "source": [
    "#######Just downloading the whole dataset and also creating batches\n",
    "\n",
    "train_transform = transforms.Compose([transforms.ToTensor()])\n",
    "\n",
    "trainset = datasets.MNIST('~/.pytorch/MNIST_data/', download=True, train=True, transform=train_transform)\n",
    "\n",
    "trainloader = torch.utils.data.DataLoader(trainset, batch_size=100, shuffle=True)"
   ]
  },
  {
   "cell_type": "code",
   "execution_count": 3,
   "metadata": {},
   "outputs": [
    {
     "data": {
      "text/plain": [
       "<matplotlib.image.AxesImage at 0x7fdccef2dc50>"
      ]
     },
     "execution_count": 3,
     "metadata": {},
     "output_type": "execute_result"
    },
    {
     "data": {
      "image/png": "[encoded data removed]",
      "text/plain": [
       "<Figure size 432x288 with 1 Axes>"
      ]
     },
     "metadata": {},
     "output_type": "display_data"
    }
   ],
   "source": [
    "####### Just checking out what the dataset looks like\n",
    "\n",
    "dataiter = iter(trainloader)\n",
    "images, labels = dataiter.next()\n",
    "\n",
    "images.shape\n",
    "plt.imshow(images[32].squeeze().numpy(), cmap='bone')"
   ]
  },
  {
   "cell_type": "code",
   "execution_count": 18,
   "metadata": {},
   "outputs": [],
   "source": [
    "########Definition of the architecture of our encoder and decoder model with all the assisting functions\n",
    "\n",
    "class Net(nn.Module):\n",
    "    def __init__(self, num_latent):\n",
    "        super().__init__()\n",
    "        \n",
    "        #So here we will first define layers for encoder network\n",
    "        self.encoder = nn.Sequential(nn.Conv2d(1, 3, 3, padding=1),\n",
    "                                     nn.MaxPool2d(2, 2),\n",
    "                                     nn.BatchNorm2d(3),\n",
    "                                     nn.Conv2d(3, 16, 3, padding=1),\n",
    "                                     nn.MaxPool2d(2, 2),\n",
    "                                     nn.BatchNorm2d(16),\n",
    "                                     nn.Conv2d(16, 16, 3, padding=1))\n",
    "        \n",
    "        #These two layers are for getting logvar and mean\n",
    "        self.fc1 = nn.Linear(784, 256)\n",
    "        self.fc2 = nn.Linear(256, 128)\n",
    "        self.mean = nn.Linear(128, num_latent)\n",
    "        self.var = nn.Linear(128, num_latent)\n",
    "        \n",
    "        #######The decoder part\n",
    "        #This is the first layer for the decoder part\n",
    "        self.expand = nn.Linear(num_latent, 128)\n",
    "        self.fc3 = nn.Linear(128, 256)\n",
    "        self.fc4 = nn.Linear(256, 784)\n",
    "        self.decoder = nn.Sequential(nn.ConvTranspose2d(16, 16, 3, padding=1),\n",
    "                                     nn.BatchNorm2d(16),\n",
    "                                     nn.ConvTranspose2d(16, 3, 8),\n",
    "                                     nn.BatchNorm2d(3),\n",
    "                                     nn.ConvTranspose2d(3, 1, 15))\n",
    "        \n",
    "    def enc_func(self, x):\n",
    "        #here we will be returning the logvar(log variance) and mean of our network\n",
    "        x = self.encoder(x)\n",
    "        x = x.view([-1, 784])\n",
    "        x = F.dropout2d(self.fc1(x), 0.5)\n",
    "        x = self.fc2(x)\n",
    "        \n",
    "        mean = self.mean(x)\n",
    "        logvar = self.var(x)\n",
    "        return mean, logvar\n",
    "    \n",
    "    def dec_func(self, z):\n",
    "        #here z is the latent variable state\n",
    "        z = self.expand(z)\n",
    "        z = F.dropout2d(self.fc3(z), 0.5)\n",
    "        z = self.fc4(z)\n",
    "        z = z.view([-1, 16, 7, 7])\n",
    "        \n",
    "        out = self.decoder(z)\n",
    "        out = F.sigmoid(out)\n",
    "        return out\n",
    "    \n",
    "    def get_hidden(self, mean, logvar):\n",
    "        if self.training:\n",
    "            print(\"inside get_hidden\")\n",
    "            std = torch.exp(0.5*logvar)   #So as to get std\n",
    "            noise = torch.randn_like(mean)   #So as to get the noise of standard distribution\n",
    "            return noise.mul(std).add_(mean)\n",
    "        else:\n",
    "            return mean\n",
    "    \n",
    "    def forward(self, x):\n",
    "        mean, logvar = self.enc_func(x)\n",
    "        z = self.get_hidden(mean, logvar)\n",
    "        out = self.dec_func(z)\n",
    "        return out, mean, logvar"
   ]
  },
  {
   "cell_type": "code",
   "execution_count": 19,
   "metadata": {},
   "outputs": [],
   "source": [
    "#######This is the custom loss function defined for VAE\n",
    "### You can even refere to: https://github.com/pytorch/examples/pull/226 \n",
    "\n",
    "def VAE_loss(out, target, mean, logvar):\n",
    "    category1 = nn.BCELoss()\n",
    "    bce_loss = category1(out, target)\n",
    "    \n",
    "    print(\"inside VAE_loss\")\n",
    "    print(\"out.size()\",out.size())\n",
    "    \n",
    "    \n",
    "    \n",
    "    #We will scale the following losses with this factor\n",
    "    scaling_factor = out.shape[0]*out.shape[1]*out.shape[2]*out.shape[3]\n",
    "    \n",
    "    print(\"Scaling factor:\",scaling_factor)\n",
    "    assert(False)\n",
    "    ####Now we are gonna define the KL divergence loss\n",
    "    # 0.5 * sum(1 + log(sigma^2) - mu^2 - sigma^2)\n",
    "    kl_loss = -0.5 * torch.sum(1 + logvar - mean**2 - torch.exp(logvar))\n",
    "    kl_loss /= scaling_factor\n",
    "    \n",
    "    return bce_loss + kl_loss"
   ]
  },
  {
   "cell_type": "code",
   "execution_count": 20,
   "metadata": {},
   "outputs": [],
   "source": [
    "#####The function which we will call for training our model\n",
    "\n",
    "def train(trainloader, iters, model, device, optimizer, print_every):\n",
    "    counter = 0\n",
    "    for i in range(iters):\n",
    "        model.train()\n",
    "        model.to(device)\n",
    "        for images, _ in trainloader:\n",
    "            images = images.to(device)\n",
    "            optimizer.zero_grad()\n",
    "            out, mean, logvar = model(images)\n",
    "            print(\"out:\",out)\n",
    "            print(\"out.size:\",out.size())\n",
    "            loss = VAE_loss(out, images, mean, logvar)\n",
    "            loss.backward()\n",
    "            optimizer.step()\n",
    "            \n",
    "        if(counter % print_every == 0):\n",
    "            model.eval()\n",
    "            n = 10  # figure with 20x20 digits\n",
    "            digit_size = 28\n",
    "            figure = np.zeros((digit_size * n, digit_size * n))\n",
    "\n",
    "            # Construct grid of latent variable values\n",
    "            grid_x = norm.ppf(np.linspace(0.05, 0.95, n))\n",
    "            grid_y = norm.ppf(np.linspace(0.05, 0.95, n))\n",
    "\n",
    "            counter = 0\n",
    "            # decode for each square in the grid\n",
    "            for i, yi in enumerate(grid_x):\n",
    "                for j, xi in enumerate(grid_y):\n",
    "                    digit = out[counter].squeeze().cpu().detach().numpy()\n",
    "                    figure[i * digit_size: (i + 1) * digit_size,\n",
    "                           j * digit_size: (j + 1) * digit_size] = digit\n",
    "                    counter += 1\n",
    "\n",
    "            plt.figure(figsize=(10, 10))\n",
    "            plt.imshow(figure, cmap='bone')\n",
    "            plt.show()  \n",
    "\n",
    "        counter += 1"
   ]
  },
  {
   "cell_type": "code",
   "execution_count": 21,
   "metadata": {},
   "outputs": [
    {
     "name": "stdout",
     "output_type": "stream",
     "text": [
      "inside get_hidden\n",
      "out: tensor([[[[0.4889, 0.4983, 0.4831,  ..., 0.4894, 0.4895, 0.4897],\n",
      "          [0.4892, 0.4996, 0.4830,  ..., 0.5040, 0.4915, 0.4910],\n",
      "          [0.4891, 0.5017, 0.4789,  ..., 0.4820, 0.4885, 0.4931],\n",
      "          ...,\n",
      "          [0.4891, 0.4912, 0.4850,  ..., 0.4914, 0.4903, 0.4896],\n",
      "          [0.4898, 0.4897, 0.4891,  ..., 0.4881, 0.4975, 0.4913],\n",
      "          [0.4913, 0.4913, 0.4917,  ..., 0.4933, 0.4904, 0.4929]]],\n",
      "\n",
      "\n",
      "        [[[0.4924, 0.4892, 0.4917,  ..., 0.4897, 0.4922, 0.4919],\n",
      "          [0.4917, 0.4892, 0.5000,  ..., 0.4870, 0.4914, 0.4918],\n",
      "          [0.4912, 0.4862, 0.4958,  ..., 0.4865, 0.4864, 0.4890],\n",
      "          ...,\n",
      "          [0.4910, 0.4879, 0.5026,  ..., 0.4933, 0.4855, 0.4936],\n",
      "          [0.4934, 0.4934, 0.4952,  ..., 0.4895, 0.4923, 0.4904],\n",
      "          [0.4918, 0.4919, 0.4901,  ..., 0.4906, 0.4912, 0.4913]]],\n",
      "\n",
      "\n",
      "        [[[0.4912, 0.4921, 0.4890,  ..., 0.4945, 0.4921, 0.4915],\n",
      "          [0.4911, 0.4918, 0.4932,  ..., 0.4872, 0.4868, 0.4901],\n",
      "          [0.4921, 0.4933, 0.4913,  ..., 0.4952, 0.4970, 0.4905],\n",
      "          ...,\n",
      "          [0.4913, 0.4906, 0.4852,  ..., 0.4825, 0.4933, 0.4922],\n",
      "          [0.4903, 0.4906, 0.4942,  ..., 0.4984, 0.4901, 0.4913],\n",
      "          [0.4909, 0.4908, 0.4921,  ..., 0.4887, 0.4930, 0.4905]]],\n",
      "\n",
      "\n",
      "        ...,\n",
      "\n",
      "\n",
      "        [[[0.4902, 0.4925, 0.4869,  ..., 0.4906, 0.4921, 0.4923],\n",
      "          [0.4921, 0.4877, 0.4928,  ..., 0.4840, 0.4910, 0.4939],\n",
      "          [0.4911, 0.4972, 0.4947,  ..., 0.4799, 0.4815, 0.4893],\n",
      "          ...,\n",
      "          [0.4878, 0.4842, 0.5048,  ..., 0.4943, 0.4804, 0.4936],\n",
      "          [0.4934, 0.4935, 0.4959,  ..., 0.4873, 0.4935, 0.4904],\n",
      "          [0.4926, 0.4930, 0.4905,  ..., 0.4908, 0.4917, 0.4920]]],\n",
      "\n",
      "\n",
      "        [[[0.4907, 0.4897, 0.4899,  ..., 0.4917, 0.4892, 0.4888],\n",
      "          [0.4948, 0.4840, 0.4877,  ..., 0.5083, 0.4944, 0.4915],\n",
      "          [0.4918, 0.5026, 0.4888,  ..., 0.4695, 0.4847, 0.4957],\n",
      "          ...,\n",
      "          [0.4872, 0.4934, 0.5015,  ..., 0.4982, 0.4893, 0.4881],\n",
      "          [0.4916, 0.4933, 0.4907,  ..., 0.4859, 0.4954, 0.4931],\n",
      "          [0.4922, 0.4919, 0.4916,  ..., 0.4972, 0.4904, 0.4930]]],\n",
      "\n",
      "\n",
      "        [[[0.4906, 0.4920, 0.4922,  ..., 0.4903, 0.4918, 0.4912],\n",
      "          [0.4933, 0.4897, 0.4840,  ..., 0.4948, 0.4923, 0.4940],\n",
      "          [0.4894, 0.5038, 0.4844,  ..., 0.4801, 0.4824, 0.4919],\n",
      "          ...,\n",
      "          [0.4897, 0.4916, 0.4849,  ..., 0.4866, 0.4953, 0.4906],\n",
      "          [0.4906, 0.4898, 0.4955,  ..., 0.4937, 0.4902, 0.4916],\n",
      "          [0.4916, 0.4914, 0.4906,  ..., 0.4905, 0.4918, 0.4911]]]],\n",
      "       device='cuda:0', grad_fn=<SigmoidBackward>)\n",
      "out.size: torch.Size([100, 1, 28, 28])\n",
      "inside VAE_loss\n",
      "out.size() torch.Size([100, 1, 28, 28])\n",
      "Scaling factor: 78400\n"
     ]
    },
    {
     "name": "stderr",
     "output_type": "stream",
     "text": [
      "/usr/local/anaconda35/lib/python3.6/site-packages/torch/nn/functional.py:1006: UserWarning: nn.functional.sigmoid is deprecated. Use torch.sigmoid instead.\n",
      "  warnings.warn(\"nn.functional.sigmoid is deprecated. Use torch.sigmoid instead.\")\n"
     ]
    },
    {
     "ename": "AssertionError",
     "evalue": "",
     "output_type": "error",
     "traceback": [
      "\u001b[0;31m---------------------------------------------------------------------------\u001b[0m",
      "\u001b[0;31mAssertionError\u001b[0m                            Traceback (most recent call last)",
      "\u001b[0;32m<ipython-input-21-ab9d69e7f006>\u001b[0m in \u001b[0;36m<module>\u001b[0;34m()\u001b[0m\n\u001b[1;32m     11\u001b[0m \u001b[0moptimizer\u001b[0m \u001b[0;34m=\u001b[0m \u001b[0moptim\u001b[0m\u001b[0;34m.\u001b[0m\u001b[0mAdam\u001b[0m\u001b[0;34m(\u001b[0m\u001b[0mmodel\u001b[0m\u001b[0;34m.\u001b[0m\u001b[0mparameters\u001b[0m\u001b[0;34m(\u001b[0m\u001b[0;34m)\u001b[0m\u001b[0;34m,\u001b[0m \u001b[0mlr\u001b[0m\u001b[0;34m=\u001b[0m\u001b[0;36m1e-3\u001b[0m\u001b[0;34m)\u001b[0m\u001b[0;34m\u001b[0m\u001b[0m\n\u001b[1;32m     12\u001b[0m \u001b[0;34m\u001b[0m\u001b[0m\n\u001b[0;32m---> 13\u001b[0;31m \u001b[0mtrain\u001b[0m\u001b[0;34m(\u001b[0m\u001b[0mtrainloader\u001b[0m\u001b[0;34m,\u001b[0m \u001b[0miters\u001b[0m\u001b[0;34m,\u001b[0m \u001b[0mmodel\u001b[0m\u001b[0;34m,\u001b[0m \u001b[0mdevice\u001b[0m\u001b[0;34m,\u001b[0m \u001b[0moptimizer\u001b[0m\u001b[0;34m,\u001b[0m \u001b[0mprint_every\u001b[0m\u001b[0;34m)\u001b[0m\u001b[0;34m\u001b[0m\u001b[0m\n\u001b[0m",
      "\u001b[0;32m<ipython-input-20-ec073065cea1>\u001b[0m in \u001b[0;36mtrain\u001b[0;34m(trainloader, iters, model, device, optimizer, print_every)\u001b[0m\n\u001b[1;32m     12\u001b[0m             \u001b[0mprint\u001b[0m\u001b[0;34m(\u001b[0m\u001b[0;34m\"out:\"\u001b[0m\u001b[0;34m,\u001b[0m\u001b[0mout\u001b[0m\u001b[0;34m)\u001b[0m\u001b[0;34m\u001b[0m\u001b[0m\n\u001b[1;32m     13\u001b[0m             \u001b[0mprint\u001b[0m\u001b[0;34m(\u001b[0m\u001b[0;34m\"out.size:\"\u001b[0m\u001b[0;34m,\u001b[0m\u001b[0mout\u001b[0m\u001b[0;34m.\u001b[0m\u001b[0msize\u001b[0m\u001b[0;34m(\u001b[0m\u001b[0;34m)\u001b[0m\u001b[0;34m)\u001b[0m\u001b[0;34m\u001b[0m\u001b[0m\n\u001b[0;32m---> 14\u001b[0;31m             \u001b[0mloss\u001b[0m \u001b[0;34m=\u001b[0m \u001b[0mVAE_loss\u001b[0m\u001b[0;34m(\u001b[0m\u001b[0mout\u001b[0m\u001b[0;34m,\u001b[0m \u001b[0mimages\u001b[0m\u001b[0;34m,\u001b[0m \u001b[0mmean\u001b[0m\u001b[0;34m,\u001b[0m \u001b[0mlogvar\u001b[0m\u001b[0;34m)\u001b[0m\u001b[0;34m\u001b[0m\u001b[0m\n\u001b[0m\u001b[1;32m     15\u001b[0m             \u001b[0mloss\u001b[0m\u001b[0;34m.\u001b[0m\u001b[0mbackward\u001b[0m\u001b[0;34m(\u001b[0m\u001b[0;34m)\u001b[0m\u001b[0;34m\u001b[0m\u001b[0m\n\u001b[1;32m     16\u001b[0m             \u001b[0moptimizer\u001b[0m\u001b[0;34m.\u001b[0m\u001b[0mstep\u001b[0m\u001b[0;34m(\u001b[0m\u001b[0;34m)\u001b[0m\u001b[0;34m\u001b[0m\u001b[0m\n",
      "\u001b[0;32m<ipython-input-19-84e8f03f6596>\u001b[0m in \u001b[0;36mVAE_loss\u001b[0;34m(out, target, mean, logvar)\u001b[0m\n\u001b[1;32m     15\u001b[0m \u001b[0;34m\u001b[0m\u001b[0m\n\u001b[1;32m     16\u001b[0m     \u001b[0mprint\u001b[0m\u001b[0;34m(\u001b[0m\u001b[0;34m\"Scaling factor:\"\u001b[0m\u001b[0;34m,\u001b[0m\u001b[0mscaling_factor\u001b[0m\u001b[0;34m)\u001b[0m\u001b[0;34m\u001b[0m\u001b[0m\n\u001b[0;32m---> 17\u001b[0;31m     \u001b[0;32massert\u001b[0m\u001b[0;34m(\u001b[0m\u001b[0;32mFalse\u001b[0m\u001b[0;34m)\u001b[0m\u001b[0;34m\u001b[0m\u001b[0m\n\u001b[0m\u001b[1;32m     18\u001b[0m     \u001b[0;31m####Now we are gonna define the KL divergence loss\u001b[0m\u001b[0;34m\u001b[0m\u001b[0;34m\u001b[0m\u001b[0m\n\u001b[1;32m     19\u001b[0m     \u001b[0;31m# 0.5 * sum(1 + log(sigma^2) - mu^2 - sigma^2)\u001b[0m\u001b[0;34m\u001b[0m\u001b[0;34m\u001b[0m\u001b[0m\n",
      "\u001b[0;31mAssertionError\u001b[0m: "
     ]
    }
   ],
   "source": [
    "######Setting all the hyperparameters\n",
    "##You can change them if you want\n",
    "\n",
    "iters = 26\n",
    "num_latent = 8\n",
    "print_every = 5    #print after every 5 iterations\n",
    "model = Net(num_latent)\n",
    "\n",
    "device = ('cuda' if torch.cuda.is_available() else 'cpu')\n",
    "import torch.optim as optim\n",
    "optimizer = optim.Adam(model.parameters(), lr=1e-3)\n",
    "\n",
    "train(trainloader, iters, model, device, optimizer, print_every)"
   ]
  },
  {
   "cell_type": "code",
   "execution_count": null,
   "metadata": {},
   "outputs": [],
   "source": []
  }
 ],
 "metadata": {
  "kernelspec": {
   "display_name": "Python 3",
   "language": "python",
   "name": "python3"
  },
  "language_info": {
   "codemirror_mode": {
    "name": "ipython",
    "version": 3
   },
   "file_extension": ".py",
   "mimetype": "text/x-python",
   "name": "python",
   "nbconvert_exporter": "python",
   "pygments_lexer": "ipython3",
   "version": "3.6.4"
  }
 },
 "nbformat": 4,
 "nbformat_minor": 2
}
