{
 "cells": [
  {
   "cell_type": "code",
   "execution_count": 1,
   "metadata": {
    "collapsed": false
   },
   "outputs": [
    {
     "name": "stderr",
     "output_type": "stream",
     "text": [
      "/usr/local/anaconda3/lib/python3.5/site-packages/sklearn/utils/fixes.py:313: FutureWarning: numpy not_equal will not check object identity in the future. The comparison did not return the same result as suggested by the identity (`is`)) and will change.\n",
      "  _nan_object_mask = _nan_object_array != _nan_object_array\n"
     ]
    }
   ],
   "source": [
    "import pandas as pd\n",
    "import numpy as np\n",
    "from sklearn.model_selection import train_test_split\n",
    "from sklearn.metrics import accuracy_score\n",
    "from sklearn.ensemble import RandomForestClassifier\n",
    "from sklearn.preprocessing import LabelEncoder\n",
    "import matplotlib.pyplot as plt\n",
    "from sklearn.metrics import confusion_matrix\n",
    "from sklearn.preprocessing import LabelEncoder\n",
    "from sklearn.metrics import roc_curve, auc\n",
    "import math\n"
   ]
  },
  {
   "cell_type": "code",
   "execution_count": 2,
   "metadata": {
    "collapsed": false
   },
   "outputs": [
    {
     "name": "stdout",
     "output_type": "stream",
     "text": [
      "(15419, 52)\n"
     ]
    }
   ],
   "source": [
    "#Read the data into dataframe\n",
    "\n",
    "car_feature= pd.read_csv('finalDataPreprocessBinary_Normalized.csv')\n",
    "columnfeature= list(car_feature.columns.values)\n",
    "print(car_feature.shape)"
   ]
  },
  {
   "cell_type": "code",
   "execution_count": 3,
   "metadata": {
    "collapsed": false
   },
   "outputs": [
    {
     "data": {
      "text/html": [
       "<div>\n",
       "<table border=\"1\" class=\"dataframe\">\n",
       "  <thead>\n",
       "    <tr style=\"text-align: right;\">\n",
       "      <th></th>\n",
       "      <th>Make_0</th>\n",
       "      <th>Make_1</th>\n",
       "      <th>Make_2</th>\n",
       "      <th>Make_3</th>\n",
       "      <th>Make_4</th>\n",
       "      <th>MaritalStatus_0</th>\n",
       "      <th>MaritalStatus_1</th>\n",
       "      <th>PolicyType_0</th>\n",
       "      <th>PolicyType_1</th>\n",
       "      <th>PolicyType_2</th>\n",
       "      <th>...</th>\n",
       "      <th>PoliceReportFiled_No</th>\n",
       "      <th>PoliceReportFiled_Yes</th>\n",
       "      <th>WitnessPresent_No</th>\n",
       "      <th>WitnessPresent_Yes</th>\n",
       "      <th>AgentType_External</th>\n",
       "      <th>AgentType_Internal</th>\n",
       "      <th>RepNumber</th>\n",
       "      <th>Deductible</th>\n",
       "      <th>DriverRating</th>\n",
       "      <th>DayDiff</th>\n",
       "    </tr>\n",
       "  </thead>\n",
       "  <tbody>\n",
       "    <tr>\n",
       "      <th>0</th>\n",
       "      <td>0</td>\n",
       "      <td>0</td>\n",
       "      <td>0</td>\n",
       "      <td>0</td>\n",
       "      <td>0</td>\n",
       "      <td>0</td>\n",
       "      <td>0</td>\n",
       "      <td>0</td>\n",
       "      <td>0</td>\n",
       "      <td>0</td>\n",
       "      <td>...</td>\n",
       "      <td>1</td>\n",
       "      <td>0</td>\n",
       "      <td>1</td>\n",
       "      <td>0</td>\n",
       "      <td>1</td>\n",
       "      <td>0</td>\n",
       "      <td>0.733333</td>\n",
       "      <td>0.00</td>\n",
       "      <td>0.000000</td>\n",
       "      <td>0.000000</td>\n",
       "    </tr>\n",
       "    <tr>\n",
       "      <th>1</th>\n",
       "      <td>0</td>\n",
       "      <td>0</td>\n",
       "      <td>0</td>\n",
       "      <td>0</td>\n",
       "      <td>0</td>\n",
       "      <td>0</td>\n",
       "      <td>0</td>\n",
       "      <td>0</td>\n",
       "      <td>0</td>\n",
       "      <td>0</td>\n",
       "      <td>...</td>\n",
       "      <td>0</td>\n",
       "      <td>1</td>\n",
       "      <td>1</td>\n",
       "      <td>0</td>\n",
       "      <td>1</td>\n",
       "      <td>0</td>\n",
       "      <td>0.933333</td>\n",
       "      <td>0.25</td>\n",
       "      <td>1.000000</td>\n",
       "      <td>0.013587</td>\n",
       "    </tr>\n",
       "    <tr>\n",
       "      <th>2</th>\n",
       "      <td>0</td>\n",
       "      <td>0</td>\n",
       "      <td>0</td>\n",
       "      <td>0</td>\n",
       "      <td>0</td>\n",
       "      <td>0</td>\n",
       "      <td>1</td>\n",
       "      <td>0</td>\n",
       "      <td>0</td>\n",
       "      <td>0</td>\n",
       "      <td>...</td>\n",
       "      <td>1</td>\n",
       "      <td>0</td>\n",
       "      <td>1</td>\n",
       "      <td>0</td>\n",
       "      <td>1</td>\n",
       "      <td>0</td>\n",
       "      <td>0.400000</td>\n",
       "      <td>0.25</td>\n",
       "      <td>0.666667</td>\n",
       "      <td>0.035326</td>\n",
       "    </tr>\n",
       "    <tr>\n",
       "      <th>3</th>\n",
       "      <td>0</td>\n",
       "      <td>0</td>\n",
       "      <td>0</td>\n",
       "      <td>0</td>\n",
       "      <td>1</td>\n",
       "      <td>0</td>\n",
       "      <td>1</td>\n",
       "      <td>0</td>\n",
       "      <td>0</td>\n",
       "      <td>1</td>\n",
       "      <td>...</td>\n",
       "      <td>0</td>\n",
       "      <td>1</td>\n",
       "      <td>1</td>\n",
       "      <td>0</td>\n",
       "      <td>1</td>\n",
       "      <td>0</td>\n",
       "      <td>0.200000</td>\n",
       "      <td>0.25</td>\n",
       "      <td>0.333333</td>\n",
       "      <td>0.054348</td>\n",
       "    </tr>\n",
       "    <tr>\n",
       "      <th>4</th>\n",
       "      <td>0</td>\n",
       "      <td>0</td>\n",
       "      <td>0</td>\n",
       "      <td>0</td>\n",
       "      <td>0</td>\n",
       "      <td>0</td>\n",
       "      <td>0</td>\n",
       "      <td>0</td>\n",
       "      <td>0</td>\n",
       "      <td>0</td>\n",
       "      <td>...</td>\n",
       "      <td>1</td>\n",
       "      <td>0</td>\n",
       "      <td>1</td>\n",
       "      <td>0</td>\n",
       "      <td>1</td>\n",
       "      <td>0</td>\n",
       "      <td>0.133333</td>\n",
       "      <td>0.25</td>\n",
       "      <td>0.000000</td>\n",
       "      <td>0.040761</td>\n",
       "    </tr>\n",
       "  </tbody>\n",
       "</table>\n",
       "<p>5 rows × 52 columns</p>\n",
       "</div>"
      ],
      "text/plain": [
       "   Make_0  Make_1  Make_2  Make_3  Make_4  MaritalStatus_0  MaritalStatus_1  \\\n",
       "0       0       0       0       0       0                0                0   \n",
       "1       0       0       0       0       0                0                0   \n",
       "2       0       0       0       0       0                0                1   \n",
       "3       0       0       0       0       1                0                1   \n",
       "4       0       0       0       0       0                0                0   \n",
       "\n",
       "   PolicyType_0  PolicyType_1  PolicyType_2    ...     PoliceReportFiled_No  \\\n",
       "0             0             0             0    ...                        1   \n",
       "1             0             0             0    ...                        0   \n",
       "2             0             0             0    ...                        1   \n",
       "3             0             0             1    ...                        0   \n",
       "4             0             0             0    ...                        1   \n",
       "\n",
       "   PoliceReportFiled_Yes  WitnessPresent_No  WitnessPresent_Yes  \\\n",
       "0                      0                  1                   0   \n",
       "1                      1                  1                   0   \n",
       "2                      0                  1                   0   \n",
       "3                      1                  1                   0   \n",
       "4                      0                  1                   0   \n",
       "\n",
       "   AgentType_External  AgentType_Internal  RepNumber  Deductible  \\\n",
       "0                   1                   0   0.733333        0.00   \n",
       "1                   1                   0   0.933333        0.25   \n",
       "2                   1                   0   0.400000        0.25   \n",
       "3                   1                   0   0.200000        0.25   \n",
       "4                   1                   0   0.133333        0.25   \n",
       "\n",
       "   DriverRating   DayDiff  \n",
       "0      0.000000  0.000000  \n",
       "1      1.000000  0.013587  \n",
       "2      0.666667  0.035326  \n",
       "3      0.333333  0.054348  \n",
       "4      0.000000  0.040761  \n",
       "\n",
       "[5 rows x 52 columns]"
      ]
     },
     "execution_count": 3,
     "metadata": {},
     "output_type": "execute_result"
    }
   ],
   "source": [
    "car_feature.head()"
   ]
  },
  {
   "cell_type": "code",
   "execution_count": 4,
   "metadata": {
    "collapsed": false
   },
   "outputs": [
    {
     "name": "stdout",
     "output_type": "stream",
     "text": [
      "(28992, 52)\n",
      "(28992, 1)\n"
     ]
    }
   ],
   "source": [
    "#MwMote\n",
    "combine_car_features = pd.read_csv('finalPreprocessBinaryTogether.csv')\n",
    "combine_car_label = pd.read_csv('label.csv')\n",
    "print(combine_car_features.shape)\n",
    "print(combine_car_label.shape)"
   ]
  },
  {
   "cell_type": "code",
   "execution_count": null,
   "metadata": {
    "collapsed": true
   },
   "outputs": [],
   "source": []
  },
  {
   "cell_type": "code",
   "execution_count": null,
   "metadata": {
    "collapsed": false
   },
   "outputs": [],
   "source": []
  },
  {
   "cell_type": "code",
   "execution_count": 5,
   "metadata": {
    "collapsed": true
   },
   "outputs": [],
   "source": [
    "#train the model\n",
    "X_train,X_test,y_train,y_test = train_test_split(combine_car_features,combine_car_label,random_state=100,test_size=0.30)"
   ]
  },
  {
   "cell_type": "code",
   "execution_count": 6,
   "metadata": {
    "collapsed": false
   },
   "outputs": [
    {
     "name": "stderr",
     "output_type": "stream",
     "text": [
      "/usr/local/anaconda3/lib/python3.5/site-packages/ipykernel/__main__.py:3: DataConversionWarning: A column-vector y was passed when a 1d array was expected. Please change the shape of y to (n_samples,), for example using ravel().\n",
      "  app.launch_new_instance()\n"
     ]
    },
    {
     "name": "stdout",
     "output_type": "stream",
     "text": [
      "Random forest classifier:\n",
      "Confusion Matrix:\n",
      " [[4340   40]\n",
      " [   9 4309]]\n",
      "TN: 4340\n",
      "FP: 40\n",
      "FN: 9\n",
      "TP: 4309\n",
      "Accuracy: 99.4366521039\n",
      "Sensitivity: 99.7915701714\n",
      "Specificity: 99.0867579909\n"
     ]
    }
   ],
   "source": [
    "#model object\n",
    "model = RandomForestClassifier(n_estimators=100)\n",
    "model.fit(X_train,y_train)\n",
    "\n",
    "print('Random forest classifier:')\n",
    "predicted = model.predict(X_test)\n",
    "\n",
    "# calculating specifity and sensitivity\n",
    "# 0  := Negative(FraudNotFound)\n",
    "# 1 := Positive (FraudFound)\n",
    "cm = confusion_matrix(y_test,predicted)\n",
    "print(\"Confusion Matrix:\\n\",cm)\n",
    "TN, FP, FN, TP = cm.ravel()\n",
    "print(\"TN:\",TN)\n",
    "print(\"FP:\",FP)\n",
    "print(\"FN:\",FN)\n",
    "print(\"TP:\",TP)\n",
    "\n",
    "print(\"Accuracy:\",(TP+TN)/(TP+FP+FN+TN)*100)\n",
    "print(\"Sensitivity:\",TP/(TP+FN)*100)\n",
    "print(\"Specificity:\",TN/(TN+FP)*100)"
   ]
  },
  {
   "cell_type": "code",
   "execution_count": 7,
   "metadata": {
    "collapsed": false
   },
   "outputs": [
    {
     "name": "stdout",
     "output_type": "stream",
     "text": [
      "<class 'pandas.core.frame.DataFrame'>\n"
     ]
    }
   ],
   "source": [
    "print(type(X_test))\n"
   ]
  },
  {
   "cell_type": "code",
   "execution_count": null,
   "metadata": {
    "collapsed": false
   },
   "outputs": [],
   "source": []
  },
  {
   "cell_type": "code",
   "execution_count": 8,
   "metadata": {
    "collapsed": false
   },
   "outputs": [
    {
     "name": "stdout",
     "output_type": "stream",
     "text": [
      "Total no of data in MwMote generated data:  28992\n",
      "Total fraud in MwMote generated data:  14496\n",
      "Total Non-fraud in MwMote generated data:  14496\n"
     ]
    }
   ],
   "source": [
    "#find the total number of the fraudulent claims in the smote generated data\n",
    "#find the all the fradulent claims in the dataset\n",
    "total_fraud= 0\n",
    "total_Nonfraud= 0\n",
    "\n",
    "#convert the Dataframe into the np.array\n",
    "\n",
    "labels= combine_car_label.values\n",
    "\n",
    "print(\"Total no of data in MwMote generated data: \",labels.shape[0])\n",
    "for i in range(labels.shape[0]):\n",
    "    if labels[i]==1:\n",
    "        total_fraud += 1\n",
    "    else:\n",
    "        total_Nonfraud += 1\n",
    "print(\"Total fraud in MwMote generated data: \", total_fraud)\n",
    "print(\"Total Non-fraud in MwMote generated data: \", total_Nonfraud)"
   ]
  },
  {
   "cell_type": "code",
   "execution_count": null,
   "metadata": {
    "collapsed": false
   },
   "outputs": [],
   "source": [
    "#read original data without MWMOTE\n"
   ]
  },
  {
   "cell_type": "code",
   "execution_count": 9,
   "metadata": {
    "collapsed": false
   },
   "outputs": [
    {
     "name": "stdout",
     "output_type": "stream",
     "text": [
      "MwMote generated X_test  and y_test ((8698, 52), (8698, 1))\n",
      "(0, 52)\n",
      "(28992, 52)\n",
      "Total number of fraudulent claims in original data: 923\n"
     ]
    },
    {
     "data": {
      "text/html": [
       "<div>\n",
       "<table border=\"1\" class=\"dataframe\">\n",
       "  <thead>\n",
       "    <tr style=\"text-align: right;\">\n",
       "      <th></th>\n",
       "      <th>Make_0</th>\n",
       "      <th>Make_1</th>\n",
       "      <th>Make_2</th>\n",
       "      <th>Make_3</th>\n",
       "      <th>Make_4</th>\n",
       "      <th>MaritalStatus_0</th>\n",
       "      <th>MaritalStatus_1</th>\n",
       "      <th>PolicyType_0</th>\n",
       "      <th>PolicyType_1</th>\n",
       "      <th>PolicyType_2</th>\n",
       "      <th>...</th>\n",
       "      <th>PoliceReportFiled_No</th>\n",
       "      <th>PoliceReportFiled_Yes</th>\n",
       "      <th>WitnessPresent_No</th>\n",
       "      <th>WitnessPresent_Yes</th>\n",
       "      <th>AgentType_External</th>\n",
       "      <th>AgentType_Internal</th>\n",
       "      <th>RepNumber</th>\n",
       "      <th>Deductible</th>\n",
       "      <th>DriverRating</th>\n",
       "      <th>DayDiff</th>\n",
       "    </tr>\n",
       "  </thead>\n",
       "  <tbody>\n",
       "    <tr>\n",
       "      <th>0</th>\n",
       "      <td>0.0</td>\n",
       "      <td>0.0</td>\n",
       "      <td>0.0</td>\n",
       "      <td>0.0</td>\n",
       "      <td>0.0</td>\n",
       "      <td>0.0</td>\n",
       "      <td>0.0</td>\n",
       "      <td>0.0</td>\n",
       "      <td>1.0</td>\n",
       "      <td>0.0</td>\n",
       "      <td>...</td>\n",
       "      <td>1.0</td>\n",
       "      <td>0.0</td>\n",
       "      <td>1.0</td>\n",
       "      <td>0.0</td>\n",
       "      <td>1.0</td>\n",
       "      <td>0.0</td>\n",
       "      <td>0.533333</td>\n",
       "      <td>0.25</td>\n",
       "      <td>0.000000</td>\n",
       "      <td>0.217391</td>\n",
       "    </tr>\n",
       "    <tr>\n",
       "      <th>1</th>\n",
       "      <td>0.0</td>\n",
       "      <td>0.0</td>\n",
       "      <td>0.0</td>\n",
       "      <td>0.0</td>\n",
       "      <td>0.0</td>\n",
       "      <td>0.0</td>\n",
       "      <td>1.0</td>\n",
       "      <td>0.0</td>\n",
       "      <td>0.0</td>\n",
       "      <td>0.0</td>\n",
       "      <td>...</td>\n",
       "      <td>1.0</td>\n",
       "      <td>0.0</td>\n",
       "      <td>1.0</td>\n",
       "      <td>0.0</td>\n",
       "      <td>1.0</td>\n",
       "      <td>0.0</td>\n",
       "      <td>0.200000</td>\n",
       "      <td>0.25</td>\n",
       "      <td>1.000000</td>\n",
       "      <td>0.000000</td>\n",
       "    </tr>\n",
       "    <tr>\n",
       "      <th>2</th>\n",
       "      <td>0.0</td>\n",
       "      <td>0.0</td>\n",
       "      <td>0.0</td>\n",
       "      <td>0.0</td>\n",
       "      <td>0.0</td>\n",
       "      <td>0.0</td>\n",
       "      <td>1.0</td>\n",
       "      <td>0.0</td>\n",
       "      <td>1.0</td>\n",
       "      <td>0.0</td>\n",
       "      <td>...</td>\n",
       "      <td>1.0</td>\n",
       "      <td>0.0</td>\n",
       "      <td>1.0</td>\n",
       "      <td>0.0</td>\n",
       "      <td>1.0</td>\n",
       "      <td>0.0</td>\n",
       "      <td>0.800000</td>\n",
       "      <td>0.25</td>\n",
       "      <td>0.000000</td>\n",
       "      <td>0.048913</td>\n",
       "    </tr>\n",
       "    <tr>\n",
       "      <th>3</th>\n",
       "      <td>0.0</td>\n",
       "      <td>0.0</td>\n",
       "      <td>0.0</td>\n",
       "      <td>0.0</td>\n",
       "      <td>0.0</td>\n",
       "      <td>0.0</td>\n",
       "      <td>0.0</td>\n",
       "      <td>0.0</td>\n",
       "      <td>0.0</td>\n",
       "      <td>0.0</td>\n",
       "      <td>...</td>\n",
       "      <td>1.0</td>\n",
       "      <td>0.0</td>\n",
       "      <td>1.0</td>\n",
       "      <td>0.0</td>\n",
       "      <td>1.0</td>\n",
       "      <td>0.0</td>\n",
       "      <td>0.400000</td>\n",
       "      <td>0.25</td>\n",
       "      <td>0.666667</td>\n",
       "      <td>0.000000</td>\n",
       "    </tr>\n",
       "    <tr>\n",
       "      <th>4</th>\n",
       "      <td>0.0</td>\n",
       "      <td>0.0</td>\n",
       "      <td>0.0</td>\n",
       "      <td>0.0</td>\n",
       "      <td>1.0</td>\n",
       "      <td>0.0</td>\n",
       "      <td>1.0</td>\n",
       "      <td>0.0</td>\n",
       "      <td>1.0</td>\n",
       "      <td>0.0</td>\n",
       "      <td>...</td>\n",
       "      <td>1.0</td>\n",
       "      <td>0.0</td>\n",
       "      <td>1.0</td>\n",
       "      <td>0.0</td>\n",
       "      <td>1.0</td>\n",
       "      <td>0.0</td>\n",
       "      <td>0.400000</td>\n",
       "      <td>0.25</td>\n",
       "      <td>0.333333</td>\n",
       "      <td>0.000000</td>\n",
       "    </tr>\n",
       "  </tbody>\n",
       "</table>\n",
       "<p>5 rows × 52 columns</p>\n",
       "</div>"
      ],
      "text/plain": [
       "   Make_0  Make_1  Make_2  Make_3  Make_4  MaritalStatus_0  MaritalStatus_1  \\\n",
       "0     0.0     0.0     0.0     0.0     0.0              0.0              0.0   \n",
       "1     0.0     0.0     0.0     0.0     0.0              0.0              1.0   \n",
       "2     0.0     0.0     0.0     0.0     0.0              0.0              1.0   \n",
       "3     0.0     0.0     0.0     0.0     0.0              0.0              0.0   \n",
       "4     0.0     0.0     0.0     0.0     1.0              0.0              1.0   \n",
       "\n",
       "   PolicyType_0  PolicyType_1  PolicyType_2    ...     PoliceReportFiled_No  \\\n",
       "0           0.0           1.0           0.0    ...                      1.0   \n",
       "1           0.0           0.0           0.0    ...                      1.0   \n",
       "2           0.0           1.0           0.0    ...                      1.0   \n",
       "3           0.0           0.0           0.0    ...                      1.0   \n",
       "4           0.0           1.0           0.0    ...                      1.0   \n",
       "\n",
       "   PoliceReportFiled_Yes  WitnessPresent_No  WitnessPresent_Yes  \\\n",
       "0                    0.0                1.0                 0.0   \n",
       "1                    0.0                1.0                 0.0   \n",
       "2                    0.0                1.0                 0.0   \n",
       "3                    0.0                1.0                 0.0   \n",
       "4                    0.0                1.0                 0.0   \n",
       "\n",
       "   AgentType_External  AgentType_Internal  RepNumber  Deductible  \\\n",
       "0                 1.0                 0.0   0.533333        0.25   \n",
       "1                 1.0                 0.0   0.200000        0.25   \n",
       "2                 1.0                 0.0   0.800000        0.25   \n",
       "3                 1.0                 0.0   0.400000        0.25   \n",
       "4                 1.0                 0.0   0.400000        0.25   \n",
       "\n",
       "   DriverRating   DayDiff  \n",
       "0      0.000000  0.217391  \n",
       "1      1.000000  0.000000  \n",
       "2      0.000000  0.048913  \n",
       "3      0.666667  0.000000  \n",
       "4      0.333333  0.000000  \n",
       "\n",
       "[5 rows x 52 columns]"
      ]
     },
     "execution_count": 9,
     "metadata": {},
     "output_type": "execute_result"
    }
   ],
   "source": [
    "#testing only on the original test data\n",
    "from numpy import linalg as LA\n",
    "\n",
    "#print the original size of the smote generated test set\n",
    "print( \"MwMote generated X_test  and y_test\", (X_test.shape, y_test.shape))\n",
    "\n",
    "#find the all the fradulent claims in the dataset\n",
    "#columnfeatures= list(car_features_org.columns.values)\n",
    "\n",
    "fraudulentClaims= pd.DataFrame(columns=columnfeature)\n",
    "fraudLabel= pd.DataFrame(columns=['label'])\n",
    "car_feature= car_feature.values\n",
    "\n",
    "\n",
    "print(fraudulentClaims.shape)\n",
    "print(combine_car_features.shape)\n",
    "\n",
    "j= 0\n",
    "for i in range(car_feature.shape[0]):\n",
    "    data= car_feature[i]\n",
    "    #print(data.shape)\n",
    "    if labels[i]==1:\n",
    "        fraudulentClaims.loc[j]=[data[k] for k in range(data.shape[0])] \n",
    "        fraudLabel.loc[j]= 1\n",
    "        j += 1\n",
    "print(\"Total number of fraudulent claims in original data:\",fraudulentClaims.shape[0])\n",
    "\n",
    "fraudulentClaims.head()\n",
    "#print(y_test[1000])"
   ]
  },
  {
   "cell_type": "code",
   "execution_count": 10,
   "metadata": {
    "collapsed": false
   },
   "outputs": [],
   "source": [
    "mod_X_test= X_test.values\n",
    "mod_y_test= y_test.values\n",
    "fraudulentClaims= fraudulentClaims.values"
   ]
  },
  {
   "cell_type": "code",
   "execution_count": null,
   "metadata": {
    "collapsed": false
   },
   "outputs": [],
   "source": [
    "\n",
    "#remove the smote generated sample from the test set.\n",
    "k= 0\n",
    "index= []\n",
    "\n",
    "\n",
    "#make empty dataframes for storing the new test data\n",
    "new_X_test= pd.DataFrame(columns=columnfeature)\n",
    "new_y_test= pd.DataFrame(columns=['label'])\n",
    "\n",
    "print(new_X_test.shape)\n",
    "#convert numpy array to pd.DataFrame\n",
    "#X_test= pd.DataFrame(X_test)\n",
    "\n",
    "print(type(mod_X_test))\n",
    "print(type(mod_y_test))\n",
    "i=0\n",
    "\n",
    "for i in range(mod_X_test.shape[0]):\n",
    "#for i in range(100):\n",
    "    element= mod_X_test[i]\n",
    "    #print(element.shape)\n",
    "    \n",
    "    if (int(mod_y_test[i])==1):\n",
    "        #print(\"Inside condition y_test== 1, y_test[i] is:\",y_test[i])\n",
    "        for j in range(fraudulentClaims.shape[0]):\n",
    "            #data = pd.Series(element).values\n",
    "            \n",
    "            #fraudClaims= fraudulentClaims.loc[j]\n",
    "            fraudClaims= fraudulentClaims[j]\n",
    "            \n",
    "            #fraudClaims= pd.Series(fraudClaims).values\n",
    "            \n",
    "            euclidean_distance= LA.norm(element-fraudClaims,2)   #calculate the euclidean distance\n",
    "\n",
    "            if (euclidean_distance == 0):\n",
    "                index.append(i)\n",
    "                new_X_test.loc[k]= [element[elm] for elm in range(element.shape[0])]\n",
    "                #print(\"After euclidean distance==0, y_test[i] is:\",y_test[i])\n",
    "                new_y_test.loc[k]= mod_y_test[i]\n",
    "                print(\"Euclidean distance 0\")\n",
    "                break\n",
    "    else:\n",
    "        new_X_test.loc[k]= [element[elm] for elm in range(element.shape[0])]\n",
    "        #print(\"Else condition, y_test[i]:\",y_test[i])\n",
    "        new_y_test.loc[k]= mod_y_test[i]\n",
    "    k += 1\n",
    "    "
   ]
  },
  {
   "cell_type": "code",
   "execution_count": null,
   "metadata": {
    "collapsed": false
   },
   "outputs": [],
   "source": [
    "print(type(new_X_test))\n",
    "print(type(new_y_test))\n",
    "print(\"new shape\",new_X_test.shape,new_y_test.shape)\n",
    "new_X_test.head()"
   ]
  },
  {
   "cell_type": "code",
   "execution_count": null,
   "metadata": {
    "collapsed": false
   },
   "outputs": [],
   "source": [
    "\n"
   ]
  },
  {
   "cell_type": "code",
   "execution_count": null,
   "metadata": {
    "collapsed": true
   },
   "outputs": [],
   "source": []
  },
  {
   "cell_type": "code",
   "execution_count": null,
   "metadata": {
    "collapsed": false
   },
   "outputs": [],
   "source": [
    "print(\"New X_test and y_test shape:\",new_X_test.shape,new_y_test.shape)\n"
   ]
  },
  {
   "cell_type": "code",
   "execution_count": null,
   "metadata": {
    "collapsed": false
   },
   "outputs": [],
   "source": [
    "#find the original test set from smote generated dataset\n",
    "print(new_X_test.shape)\n",
    "print(new_y_test.shape)\n",
    "\n",
    "#change the dataframe into numpy array\n",
    "md_X_test= new_X_test.values\n",
    "md_y_test= new_y_test.values\n",
    "\n",
    "fraud= 0\n",
    "for i in range(md_y_test.shape[0]):\n",
    "    if(md_y_test[i]==1):\n",
    "        fraud += 1\n",
    "print(\"Total Number of fraud in modified test set:\",fraud)\n",
    "\n"
   ]
  },
  {
   "cell_type": "code",
   "execution_count": null,
   "metadata": {
    "collapsed": true
   },
   "outputs": [],
   "source": []
  },
  {
   "cell_type": "code",
   "execution_count": null,
   "metadata": {
    "collapsed": false
   },
   "outputs": [],
   "source": [
    "#train the model with new modified test set\n",
    "#build the model\n",
    "clf= RandomForestClassifier(n_estimators=100) \n",
    "\n",
    "#train the model\n",
    "model= clf.fit(X_train,y_train)\n",
    "\n",
    "#test the model and find model's performance metric\n",
    "#predicted= model.predict(mod_X_test)\n",
    "predicted= model.predict(md_X_test)\n",
    "\n",
    "# calculating specifity and sensitivity\n",
    "# 0  := Negative(FraudNotFound)\n",
    "# 1 := Positive (FraudFound)\n",
    "#cm = confusion_matrix(mod_y_test,predicted)\n",
    "cm = confusion_matrix(md_y_test,predicted)\n",
    "\n",
    "print(\"Confusion Matrix:\\n\",cm)\n",
    "TN, FP, FN, TP = cm.ravel()\n",
    "\n",
    "print(\"TN:\",TN)\n",
    "print(\"FP:\",FP)\n",
    "print(\"FN:\",FN)\n",
    "print(\"TP:\",TP)\n",
    "\n",
    "print(\"Accuracy:\",(TP+TN)/(TP+FP+FN+TN)*100)\n",
    "print(\"Sensitivity:\",TP/(TP+FN)*100)\n",
    "print(\"Specificity:\",TN/(TN+FP)*100)"
   ]
  },
  {
   "cell_type": "code",
   "execution_count": 11,
   "metadata": {
    "collapsed": true
   },
   "outputs": [],
   "source": [
    "#test on the original data without mwmote generated\n",
    "\n",
    "org_test= fraudulentClaims\n",
    "org_label= fraudLabel.values"
   ]
  },
  {
   "cell_type": "code",
   "execution_count": 12,
   "metadata": {
    "collapsed": false
   },
   "outputs": [
    {
     "name": "stdout",
     "output_type": "stream",
     "text": [
      "Confusion Matrix:\n",
      " [[  0   0]\n",
      " [  4 919]]\n",
      "TN: 0\n",
      "FP: 0\n",
      "FN: 4\n",
      "TP: 919\n",
      "Accuracy: 99.5666305525\n",
      "Sensitivity: 99.5666305525\n",
      "Specificity: nan\n"
     ]
    }
   ],
   "source": [
    "\n",
    "#test the model and find model's performance metric\n",
    "#predicted= model.predict(mod_X_test)\n",
    "predicted= model.predict(org_test)\n",
    "\n",
    "# calculating specifity and sensitivity\n",
    "# 0  := Negative(FraudNotFound)\n",
    "# 1 := Positive (FraudFound)\n",
    "#cm = confusion_matrix(mod_y_test,predicted)\n",
    "cm = confusion_matrix(org_label,predicted)\n",
    "\n",
    "print(\"Confusion Matrix:\\n\",cm)\n",
    "TN, FP, FN, TP = cm.ravel()\n",
    "\n",
    "print(\"TN:\",TN)\n",
    "print(\"FP:\",FP)\n",
    "print(\"FN:\",FN)\n",
    "print(\"TP:\",TP)\n",
    "\n",
    "print(\"Accuracy:\",(TP+TN)/(TP+FP+FN+TN)*100)\n",
    "print(\"Sensitivity:\",TP/(TP+FN)*100)\n",
    "print(\"Specificity:\",TN/(TN+FP)*100)"
   ]
  },
  {
   "cell_type": "code",
   "execution_count": null,
   "metadata": {
    "collapsed": true
   },
   "outputs": [],
   "source": []
  }
 ],
 "metadata": {
  "kernelspec": {
   "display_name": "Python [anaconda3]",
   "language": "python",
   "name": "Python [anaconda3]"
  },
  "language_info": {
   "codemirror_mode": {
    "name": "ipython",
    "version": 3
   },
   "file_extension": ".py",
   "mimetype": "text/x-python",
   "name": "python",
   "nbconvert_exporter": "python",
   "pygments_lexer": "ipython3",
   "version": "3.5.5"
  }
 },
 "nbformat": 4,
 "nbformat_minor": 0
}
